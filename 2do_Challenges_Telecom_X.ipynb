{
  "nbformat": 4,
  "nbformat_minor": 0,
  "metadata": {
    "colab": {
      "provenance": []
    },
    "kernelspec": {
      "name": "python3",
      "display_name": "Python 3"
    },
    "language_info": {
      "name": "python"
    }
  },
  "cells": [
    {
      "cell_type": "code",
      "execution_count": 105,
      "metadata": {
        "id": "FEb9QtWEwDwU"
      },
      "outputs": [],
      "source": [
        "import pandas as pd\n",
        "import numpy as np\n",
        "import sklearn\n",
        "import seaborn as sns\n",
        "import yellowbrick\n",
        "import matplotlib.pyplot as plt\n",
        "import plotly.express as px\n"
      ]
    },
    {
      "cell_type": "markdown",
      "metadata": {
        "id": "o6PRPQJd2SEy"
      },
      "source": [
        "###Uso el archivo del anterior Challenges TelecomX1"
      ]
    },
    {
      "cell_type": "code",
      "execution_count": 106,
      "metadata": {
        "id": "1EqyKJuLxJg9"
      },
      "outputs": [],
      "source": [
        "TelecomX2 = pd.read_json('/content/datos_TelecomX_Fla.json')"
      ]
    },
    {
      "cell_type": "code",
      "execution_count": 107,
      "metadata": {
        "id": "_2QXsGWtxJdW",
        "colab": {
          "base_uri": "https://localhost:8080/"
        },
        "outputId": "88d126e5-edc8-46f4-ff05-ce38480745bf"
      },
      "outputs": [
        {
          "output_type": "stream",
          "name": "stdout",
          "text": [
            "<class 'pandas.core.frame.DataFrame'>\n",
            "Index: 7267 entries, 0 to 7266\n",
            "Data columns (total 23 columns):\n",
            " #   Column                    Non-Null Count  Dtype  \n",
            "---  ------                    --------------  -----  \n",
            " 0   customerID                7267 non-null   object \n",
            " 1   Churn                     7267 non-null   int64  \n",
            " 2   gender                    7267 non-null   object \n",
            " 3   SeniorCitizen             7267 non-null   int64  \n",
            " 4   Partner                   7267 non-null   int64  \n",
            " 5   Dependents                7267 non-null   int64  \n",
            " 6   tenure                    7267 non-null   int64  \n",
            " 7   PhoneService              7267 non-null   int64  \n",
            " 8   MultipleLines             7267 non-null   int64  \n",
            " 9   InternetService           7267 non-null   object \n",
            " 10  OnlineSecurity            7267 non-null   int64  \n",
            " 11  OnlineBackup              7267 non-null   int64  \n",
            " 12  DeviceProtection          7267 non-null   int64  \n",
            " 13  TechSupport               7267 non-null   int64  \n",
            " 14  StreamingTV               7267 non-null   int64  \n",
            " 15  StreamingMovies           7267 non-null   int64  \n",
            " 16  Contract                  7267 non-null   object \n",
            " 17  PaperlessBilling          7267 non-null   int64  \n",
            " 18  PaymentMethod             7267 non-null   object \n",
            " 19  Charges.Monthly           7267 non-null   float64\n",
            " 20  Charges.Total             7267 non-null   float64\n",
            " 21  Facturacion_Total_Diaria  7267 non-null   float64\n",
            " 22  Cuentas_Diarias           7267 non-null   float64\n",
            "dtypes: float64(4), int64(14), object(5)\n",
            "memory usage: 1.3+ MB\n"
          ]
        }
      ],
      "source": [
        "TelecomX2.info()"
      ]
    },
    {
      "cell_type": "code",
      "execution_count": 108,
      "metadata": {
        "id": "XzEt5pLQxJUr",
        "colab": {
          "base_uri": "https://localhost:8080/",
          "height": 806
        },
        "outputId": "c5bda35f-41db-4ccc-bd5a-6344150c224c"
      },
      "outputs": [
        {
          "output_type": "execute_result",
          "data": {
            "text/plain": [
              "customerID                  0\n",
              "Churn                       0\n",
              "gender                      0\n",
              "SeniorCitizen               0\n",
              "Partner                     0\n",
              "Dependents                  0\n",
              "tenure                      0\n",
              "PhoneService                0\n",
              "MultipleLines               0\n",
              "InternetService             0\n",
              "OnlineSecurity              0\n",
              "OnlineBackup                0\n",
              "DeviceProtection            0\n",
              "TechSupport                 0\n",
              "StreamingTV                 0\n",
              "StreamingMovies             0\n",
              "Contract                    0\n",
              "PaperlessBilling            0\n",
              "PaymentMethod               0\n",
              "Charges.Monthly             0\n",
              "Charges.Total               0\n",
              "Facturacion_Total_Diaria    0\n",
              "Cuentas_Diarias             0\n",
              "dtype: int64"
            ],
            "text/html": [
              "<div>\n",
              "<style scoped>\n",
              "    .dataframe tbody tr th:only-of-type {\n",
              "        vertical-align: middle;\n",
              "    }\n",
              "\n",
              "    .dataframe tbody tr th {\n",
              "        vertical-align: top;\n",
              "    }\n",
              "\n",
              "    .dataframe thead th {\n",
              "        text-align: right;\n",
              "    }\n",
              "</style>\n",
              "<table border=\"1\" class=\"dataframe\">\n",
              "  <thead>\n",
              "    <tr style=\"text-align: right;\">\n",
              "      <th></th>\n",
              "      <th>0</th>\n",
              "    </tr>\n",
              "  </thead>\n",
              "  <tbody>\n",
              "    <tr>\n",
              "      <th>customerID</th>\n",
              "      <td>0</td>\n",
              "    </tr>\n",
              "    <tr>\n",
              "      <th>Churn</th>\n",
              "      <td>0</td>\n",
              "    </tr>\n",
              "    <tr>\n",
              "      <th>gender</th>\n",
              "      <td>0</td>\n",
              "    </tr>\n",
              "    <tr>\n",
              "      <th>SeniorCitizen</th>\n",
              "      <td>0</td>\n",
              "    </tr>\n",
              "    <tr>\n",
              "      <th>Partner</th>\n",
              "      <td>0</td>\n",
              "    </tr>\n",
              "    <tr>\n",
              "      <th>Dependents</th>\n",
              "      <td>0</td>\n",
              "    </tr>\n",
              "    <tr>\n",
              "      <th>tenure</th>\n",
              "      <td>0</td>\n",
              "    </tr>\n",
              "    <tr>\n",
              "      <th>PhoneService</th>\n",
              "      <td>0</td>\n",
              "    </tr>\n",
              "    <tr>\n",
              "      <th>MultipleLines</th>\n",
              "      <td>0</td>\n",
              "    </tr>\n",
              "    <tr>\n",
              "      <th>InternetService</th>\n",
              "      <td>0</td>\n",
              "    </tr>\n",
              "    <tr>\n",
              "      <th>OnlineSecurity</th>\n",
              "      <td>0</td>\n",
              "    </tr>\n",
              "    <tr>\n",
              "      <th>OnlineBackup</th>\n",
              "      <td>0</td>\n",
              "    </tr>\n",
              "    <tr>\n",
              "      <th>DeviceProtection</th>\n",
              "      <td>0</td>\n",
              "    </tr>\n",
              "    <tr>\n",
              "      <th>TechSupport</th>\n",
              "      <td>0</td>\n",
              "    </tr>\n",
              "    <tr>\n",
              "      <th>StreamingTV</th>\n",
              "      <td>0</td>\n",
              "    </tr>\n",
              "    <tr>\n",
              "      <th>StreamingMovies</th>\n",
              "      <td>0</td>\n",
              "    </tr>\n",
              "    <tr>\n",
              "      <th>Contract</th>\n",
              "      <td>0</td>\n",
              "    </tr>\n",
              "    <tr>\n",
              "      <th>PaperlessBilling</th>\n",
              "      <td>0</td>\n",
              "    </tr>\n",
              "    <tr>\n",
              "      <th>PaymentMethod</th>\n",
              "      <td>0</td>\n",
              "    </tr>\n",
              "    <tr>\n",
              "      <th>Charges.Monthly</th>\n",
              "      <td>0</td>\n",
              "    </tr>\n",
              "    <tr>\n",
              "      <th>Charges.Total</th>\n",
              "      <td>0</td>\n",
              "    </tr>\n",
              "    <tr>\n",
              "      <th>Facturacion_Total_Diaria</th>\n",
              "      <td>0</td>\n",
              "    </tr>\n",
              "    <tr>\n",
              "      <th>Cuentas_Diarias</th>\n",
              "      <td>0</td>\n",
              "    </tr>\n",
              "  </tbody>\n",
              "</table>\n",
              "</div><br><label><b>dtype:</b> int64</label>"
            ]
          },
          "metadata": {},
          "execution_count": 108
        }
      ],
      "source": [
        "TelecomX2.isnull().sum()"
      ]
    },
    {
      "cell_type": "code",
      "execution_count": 109,
      "metadata": {
        "id": "PpRrXfeZzHkk"
      },
      "outputs": [],
      "source": [
        "import pandas as pd\n",
        "\n",
        "def verificar_espacios_blancos(df):\n",
        "    # Convertimos a str y usamos map (mejor alternativa a applymap)\n",
        "    blancos = df.astype(str).map(lambda x: x.strip() == '')\n",
        "\n",
        "    total_blancos = blancos.sum().sum()\n",
        "\n",
        "    if total_blancos == 0:\n",
        "        print(\"No se encontraron espacios en blanco en el DataFrame.\")\n",
        "        return\n",
        "\n",
        "    print(f\"Se encontraron {total_blancos} celdas con espacios en blanco.\\n\")\n",
        "\n",
        "    # Cantidad por columna\n",
        "    print(\"Celdas con espacios en blanco por columna:\")\n",
        "    print(blancos.sum()[blancos.sum() > 0])\n",
        "\n",
        "    # Posiciones exactas\n",
        "    print(\"\\nPosiciones de las celdas con espacios en blanco:\")\n",
        "    posiciones = [(i, j) for i, row in blancos.iterrows() for j in row.index if row[j]]\n",
        "    for fila, col in posiciones:\n",
        "        print(f\"  - Fila: {fila}, Columna: '{col}'\")\n",
        "\n",
        "    return blancos\n"
      ]
    },
    {
      "cell_type": "code",
      "execution_count": 110,
      "metadata": {
        "id": "din-m1FpzHhO",
        "colab": {
          "base_uri": "https://localhost:8080/"
        },
        "outputId": "a0610d62-04f5-4a17-807f-5051de74f72b"
      },
      "outputs": [
        {
          "output_type": "stream",
          "name": "stdout",
          "text": [
            "No se encontraron espacios en blanco en el DataFrame.\n"
          ]
        }
      ],
      "source": [
        "verificar_espacios_blancos(TelecomX2)"
      ]
    },
    {
      "cell_type": "code",
      "execution_count": 111,
      "metadata": {
        "id": "LgEBRT7EL-j6",
        "colab": {
          "base_uri": "https://localhost:8080/"
        },
        "outputId": "7c66f9f6-37b8-443d-f37b-cdb96f8a10af"
      },
      "outputs": [
        {
          "output_type": "stream",
          "name": "stdout",
          "text": [
            "\n",
            "VALORES ÚNICOS EN CHURN:\n",
            "==================================================\n",
            "Churn\n",
            "0    5398\n",
            "1    1869\n",
            "Name: count, dtype: int64\n"
          ]
        }
      ],
      "source": [
        "# Verificar valores únicos en Churn (incluyendo cadenas vacías)\n",
        "print(\"\\nVALORES ÚNICOS EN CHURN:\")\n",
        "print(\"=\" * 50)\n",
        "churn_counts = TelecomX2['Churn'].value_counts(dropna=False)\n",
        "print(churn_counts)"
      ]
    },
    {
      "cell_type": "code",
      "execution_count": 112,
      "metadata": {
        "id": "RRlL6XDVL-YG",
        "colab": {
          "base_uri": "https://localhost:8080/"
        },
        "outputId": "075d004e-f102-404b-a276-9e0331be21bb"
      },
      "outputs": [
        {
          "output_type": "stream",
          "name": "stdout",
          "text": [
            "\n",
            "Cadenas vacías en Churn: 0\n"
          ]
        }
      ],
      "source": [
        "# Verificar si hay cadenas vacías en Churn\n",
        "empty_churn = (TelecomX2['Churn'] == '').sum()\n",
        "print(f\"\\nCadenas vacías en Churn: {empty_churn}\")\n"
      ]
    },
    {
      "cell_type": "code",
      "execution_count": 113,
      "metadata": {
        "id": "AmQQMpb8zHeS"
      },
      "outputs": [],
      "source": [
        "TelecomX2 = TelecomX2.drop(['customerID','Facturacion_Total_Diaria','Cuentas_Diarias'], axis=1)"
      ]
    },
    {
      "cell_type": "code",
      "execution_count": 114,
      "metadata": {
        "id": "6IPHzvnvzHZ1",
        "colab": {
          "base_uri": "https://localhost:8080/",
          "height": 150
        },
        "outputId": "9e291c99-be56-40b0-c644-6094570b2b25"
      },
      "outputs": [
        {
          "output_type": "execute_result",
          "data": {
            "text/plain": [
              "   Churn  gender  SeniorCitizen  Partner  Dependents  tenure  PhoneService  \\\n",
              "0      0  Female              0        1           1       9             1   \n",
              "1      0    Male              0        0           0       9             1   \n",
              "\n",
              "   MultipleLines InternetService  OnlineSecurity  OnlineBackup  \\\n",
              "0              0             DSL               0             1   \n",
              "1              1             DSL               0             0   \n",
              "\n",
              "   DeviceProtection  TechSupport  StreamingTV  StreamingMovies  \\\n",
              "0                 0            1            1                0   \n",
              "1                 0            0            0                1   \n",
              "\n",
              "         Contract  PaperlessBilling PaymentMethod  Charges.Monthly  \\\n",
              "0        One year                 1  Mailed check             65.6   \n",
              "1  Month-to-month                 0  Mailed check             59.9   \n",
              "\n",
              "   Charges.Total  \n",
              "0          593.3  \n",
              "1          542.4  "
            ],
            "text/html": [
              "\n",
              "  <div id=\"df-d0007f62-6f50-4a72-8872-d9c15e97a894\" class=\"colab-df-container\">\n",
              "    <div>\n",
              "<style scoped>\n",
              "    .dataframe tbody tr th:only-of-type {\n",
              "        vertical-align: middle;\n",
              "    }\n",
              "\n",
              "    .dataframe tbody tr th {\n",
              "        vertical-align: top;\n",
              "    }\n",
              "\n",
              "    .dataframe thead th {\n",
              "        text-align: right;\n",
              "    }\n",
              "</style>\n",
              "<table border=\"1\" class=\"dataframe\">\n",
              "  <thead>\n",
              "    <tr style=\"text-align: right;\">\n",
              "      <th></th>\n",
              "      <th>Churn</th>\n",
              "      <th>gender</th>\n",
              "      <th>SeniorCitizen</th>\n",
              "      <th>Partner</th>\n",
              "      <th>Dependents</th>\n",
              "      <th>tenure</th>\n",
              "      <th>PhoneService</th>\n",
              "      <th>MultipleLines</th>\n",
              "      <th>InternetService</th>\n",
              "      <th>OnlineSecurity</th>\n",
              "      <th>OnlineBackup</th>\n",
              "      <th>DeviceProtection</th>\n",
              "      <th>TechSupport</th>\n",
              "      <th>StreamingTV</th>\n",
              "      <th>StreamingMovies</th>\n",
              "      <th>Contract</th>\n",
              "      <th>PaperlessBilling</th>\n",
              "      <th>PaymentMethod</th>\n",
              "      <th>Charges.Monthly</th>\n",
              "      <th>Charges.Total</th>\n",
              "    </tr>\n",
              "  </thead>\n",
              "  <tbody>\n",
              "    <tr>\n",
              "      <th>0</th>\n",
              "      <td>0</td>\n",
              "      <td>Female</td>\n",
              "      <td>0</td>\n",
              "      <td>1</td>\n",
              "      <td>1</td>\n",
              "      <td>9</td>\n",
              "      <td>1</td>\n",
              "      <td>0</td>\n",
              "      <td>DSL</td>\n",
              "      <td>0</td>\n",
              "      <td>1</td>\n",
              "      <td>0</td>\n",
              "      <td>1</td>\n",
              "      <td>1</td>\n",
              "      <td>0</td>\n",
              "      <td>One year</td>\n",
              "      <td>1</td>\n",
              "      <td>Mailed check</td>\n",
              "      <td>65.6</td>\n",
              "      <td>593.3</td>\n",
              "    </tr>\n",
              "    <tr>\n",
              "      <th>1</th>\n",
              "      <td>0</td>\n",
              "      <td>Male</td>\n",
              "      <td>0</td>\n",
              "      <td>0</td>\n",
              "      <td>0</td>\n",
              "      <td>9</td>\n",
              "      <td>1</td>\n",
              "      <td>1</td>\n",
              "      <td>DSL</td>\n",
              "      <td>0</td>\n",
              "      <td>0</td>\n",
              "      <td>0</td>\n",
              "      <td>0</td>\n",
              "      <td>0</td>\n",
              "      <td>1</td>\n",
              "      <td>Month-to-month</td>\n",
              "      <td>0</td>\n",
              "      <td>Mailed check</td>\n",
              "      <td>59.9</td>\n",
              "      <td>542.4</td>\n",
              "    </tr>\n",
              "  </tbody>\n",
              "</table>\n",
              "</div>\n",
              "    <div class=\"colab-df-buttons\">\n",
              "\n",
              "  <div class=\"colab-df-container\">\n",
              "    <button class=\"colab-df-convert\" onclick=\"convertToInteractive('df-d0007f62-6f50-4a72-8872-d9c15e97a894')\"\n",
              "            title=\"Convert this dataframe to an interactive table.\"\n",
              "            style=\"display:none;\">\n",
              "\n",
              "  <svg xmlns=\"http://www.w3.org/2000/svg\" height=\"24px\" viewBox=\"0 -960 960 960\">\n",
              "    <path d=\"M120-120v-720h720v720H120Zm60-500h600v-160H180v160Zm220 220h160v-160H400v160Zm0 220h160v-160H400v160ZM180-400h160v-160H180v160Zm440 0h160v-160H620v160ZM180-180h160v-160H180v160Zm440 0h160v-160H620v160Z\"/>\n",
              "  </svg>\n",
              "    </button>\n",
              "\n",
              "  <style>\n",
              "    .colab-df-container {\n",
              "      display:flex;\n",
              "      gap: 12px;\n",
              "    }\n",
              "\n",
              "    .colab-df-convert {\n",
              "      background-color: #E8F0FE;\n",
              "      border: none;\n",
              "      border-radius: 50%;\n",
              "      cursor: pointer;\n",
              "      display: none;\n",
              "      fill: #1967D2;\n",
              "      height: 32px;\n",
              "      padding: 0 0 0 0;\n",
              "      width: 32px;\n",
              "    }\n",
              "\n",
              "    .colab-df-convert:hover {\n",
              "      background-color: #E2EBFA;\n",
              "      box-shadow: 0px 1px 2px rgba(60, 64, 67, 0.3), 0px 1px 3px 1px rgba(60, 64, 67, 0.15);\n",
              "      fill: #174EA6;\n",
              "    }\n",
              "\n",
              "    .colab-df-buttons div {\n",
              "      margin-bottom: 4px;\n",
              "    }\n",
              "\n",
              "    [theme=dark] .colab-df-convert {\n",
              "      background-color: #3B4455;\n",
              "      fill: #D2E3FC;\n",
              "    }\n",
              "\n",
              "    [theme=dark] .colab-df-convert:hover {\n",
              "      background-color: #434B5C;\n",
              "      box-shadow: 0px 1px 3px 1px rgba(0, 0, 0, 0.15);\n",
              "      filter: drop-shadow(0px 1px 2px rgba(0, 0, 0, 0.3));\n",
              "      fill: #FFFFFF;\n",
              "    }\n",
              "  </style>\n",
              "\n",
              "    <script>\n",
              "      const buttonEl =\n",
              "        document.querySelector('#df-d0007f62-6f50-4a72-8872-d9c15e97a894 button.colab-df-convert');\n",
              "      buttonEl.style.display =\n",
              "        google.colab.kernel.accessAllowed ? 'block' : 'none';\n",
              "\n",
              "      async function convertToInteractive(key) {\n",
              "        const element = document.querySelector('#df-d0007f62-6f50-4a72-8872-d9c15e97a894');\n",
              "        const dataTable =\n",
              "          await google.colab.kernel.invokeFunction('convertToInteractive',\n",
              "                                                    [key], {});\n",
              "        if (!dataTable) return;\n",
              "\n",
              "        const docLinkHtml = 'Like what you see? Visit the ' +\n",
              "          '<a target=\"_blank\" href=https://colab.research.google.com/notebooks/data_table.ipynb>data table notebook</a>'\n",
              "          + ' to learn more about interactive tables.';\n",
              "        element.innerHTML = '';\n",
              "        dataTable['output_type'] = 'display_data';\n",
              "        await google.colab.output.renderOutput(dataTable, element);\n",
              "        const docLink = document.createElement('div');\n",
              "        docLink.innerHTML = docLinkHtml;\n",
              "        element.appendChild(docLink);\n",
              "      }\n",
              "    </script>\n",
              "  </div>\n",
              "\n",
              "\n",
              "    <div id=\"df-8779c807-23ef-46fe-a639-c29d9e72260e\">\n",
              "      <button class=\"colab-df-quickchart\" onclick=\"quickchart('df-8779c807-23ef-46fe-a639-c29d9e72260e')\"\n",
              "                title=\"Suggest charts\"\n",
              "                style=\"display:none;\">\n",
              "\n",
              "<svg xmlns=\"http://www.w3.org/2000/svg\" height=\"24px\"viewBox=\"0 0 24 24\"\n",
              "     width=\"24px\">\n",
              "    <g>\n",
              "        <path d=\"M19 3H5c-1.1 0-2 .9-2 2v14c0 1.1.9 2 2 2h14c1.1 0 2-.9 2-2V5c0-1.1-.9-2-2-2zM9 17H7v-7h2v7zm4 0h-2V7h2v10zm4 0h-2v-4h2v4z\"/>\n",
              "    </g>\n",
              "</svg>\n",
              "      </button>\n",
              "\n",
              "<style>\n",
              "  .colab-df-quickchart {\n",
              "      --bg-color: #E8F0FE;\n",
              "      --fill-color: #1967D2;\n",
              "      --hover-bg-color: #E2EBFA;\n",
              "      --hover-fill-color: #174EA6;\n",
              "      --disabled-fill-color: #AAA;\n",
              "      --disabled-bg-color: #DDD;\n",
              "  }\n",
              "\n",
              "  [theme=dark] .colab-df-quickchart {\n",
              "      --bg-color: #3B4455;\n",
              "      --fill-color: #D2E3FC;\n",
              "      --hover-bg-color: #434B5C;\n",
              "      --hover-fill-color: #FFFFFF;\n",
              "      --disabled-bg-color: #3B4455;\n",
              "      --disabled-fill-color: #666;\n",
              "  }\n",
              "\n",
              "  .colab-df-quickchart {\n",
              "    background-color: var(--bg-color);\n",
              "    border: none;\n",
              "    border-radius: 50%;\n",
              "    cursor: pointer;\n",
              "    display: none;\n",
              "    fill: var(--fill-color);\n",
              "    height: 32px;\n",
              "    padding: 0;\n",
              "    width: 32px;\n",
              "  }\n",
              "\n",
              "  .colab-df-quickchart:hover {\n",
              "    background-color: var(--hover-bg-color);\n",
              "    box-shadow: 0 1px 2px rgba(60, 64, 67, 0.3), 0 1px 3px 1px rgba(60, 64, 67, 0.15);\n",
              "    fill: var(--button-hover-fill-color);\n",
              "  }\n",
              "\n",
              "  .colab-df-quickchart-complete:disabled,\n",
              "  .colab-df-quickchart-complete:disabled:hover {\n",
              "    background-color: var(--disabled-bg-color);\n",
              "    fill: var(--disabled-fill-color);\n",
              "    box-shadow: none;\n",
              "  }\n",
              "\n",
              "  .colab-df-spinner {\n",
              "    border: 2px solid var(--fill-color);\n",
              "    border-color: transparent;\n",
              "    border-bottom-color: var(--fill-color);\n",
              "    animation:\n",
              "      spin 1s steps(1) infinite;\n",
              "  }\n",
              "\n",
              "  @keyframes spin {\n",
              "    0% {\n",
              "      border-color: transparent;\n",
              "      border-bottom-color: var(--fill-color);\n",
              "      border-left-color: var(--fill-color);\n",
              "    }\n",
              "    20% {\n",
              "      border-color: transparent;\n",
              "      border-left-color: var(--fill-color);\n",
              "      border-top-color: var(--fill-color);\n",
              "    }\n",
              "    30% {\n",
              "      border-color: transparent;\n",
              "      border-left-color: var(--fill-color);\n",
              "      border-top-color: var(--fill-color);\n",
              "      border-right-color: var(--fill-color);\n",
              "    }\n",
              "    40% {\n",
              "      border-color: transparent;\n",
              "      border-right-color: var(--fill-color);\n",
              "      border-top-color: var(--fill-color);\n",
              "    }\n",
              "    60% {\n",
              "      border-color: transparent;\n",
              "      border-right-color: var(--fill-color);\n",
              "    }\n",
              "    80% {\n",
              "      border-color: transparent;\n",
              "      border-right-color: var(--fill-color);\n",
              "      border-bottom-color: var(--fill-color);\n",
              "    }\n",
              "    90% {\n",
              "      border-color: transparent;\n",
              "      border-bottom-color: var(--fill-color);\n",
              "    }\n",
              "  }\n",
              "</style>\n",
              "\n",
              "      <script>\n",
              "        async function quickchart(key) {\n",
              "          const quickchartButtonEl =\n",
              "            document.querySelector('#' + key + ' button');\n",
              "          quickchartButtonEl.disabled = true;  // To prevent multiple clicks.\n",
              "          quickchartButtonEl.classList.add('colab-df-spinner');\n",
              "          try {\n",
              "            const charts = await google.colab.kernel.invokeFunction(\n",
              "                'suggestCharts', [key], {});\n",
              "          } catch (error) {\n",
              "            console.error('Error during call to suggestCharts:', error);\n",
              "          }\n",
              "          quickchartButtonEl.classList.remove('colab-df-spinner');\n",
              "          quickchartButtonEl.classList.add('colab-df-quickchart-complete');\n",
              "        }\n",
              "        (() => {\n",
              "          let quickchartButtonEl =\n",
              "            document.querySelector('#df-8779c807-23ef-46fe-a639-c29d9e72260e button');\n",
              "          quickchartButtonEl.style.display =\n",
              "            google.colab.kernel.accessAllowed ? 'block' : 'none';\n",
              "        })();\n",
              "      </script>\n",
              "    </div>\n",
              "\n",
              "    </div>\n",
              "  </div>\n"
            ],
            "application/vnd.google.colaboratory.intrinsic+json": {
              "type": "dataframe",
              "variable_name": "TelecomX2",
              "summary": "{\n  \"name\": \"TelecomX2\",\n  \"rows\": 7267,\n  \"fields\": [\n    {\n      \"column\": \"Churn\",\n      \"properties\": {\n        \"dtype\": \"number\",\n        \"std\": 0,\n        \"min\": 0,\n        \"max\": 1,\n        \"num_unique_values\": 2,\n        \"samples\": [\n          1,\n          0\n        ],\n        \"semantic_type\": \"\",\n        \"description\": \"\"\n      }\n    },\n    {\n      \"column\": \"gender\",\n      \"properties\": {\n        \"dtype\": \"category\",\n        \"num_unique_values\": 2,\n        \"samples\": [\n          \"Male\",\n          \"Female\"\n        ],\n        \"semantic_type\": \"\",\n        \"description\": \"\"\n      }\n    },\n    {\n      \"column\": \"SeniorCitizen\",\n      \"properties\": {\n        \"dtype\": \"number\",\n        \"std\": 0,\n        \"min\": 0,\n        \"max\": 1,\n        \"num_unique_values\": 2,\n        \"samples\": [\n          1,\n          0\n        ],\n        \"semantic_type\": \"\",\n        \"description\": \"\"\n      }\n    },\n    {\n      \"column\": \"Partner\",\n      \"properties\": {\n        \"dtype\": \"number\",\n        \"std\": 0,\n        \"min\": 0,\n        \"max\": 1,\n        \"num_unique_values\": 2,\n        \"samples\": [\n          0,\n          1\n        ],\n        \"semantic_type\": \"\",\n        \"description\": \"\"\n      }\n    },\n    {\n      \"column\": \"Dependents\",\n      \"properties\": {\n        \"dtype\": \"number\",\n        \"std\": 0,\n        \"min\": 0,\n        \"max\": 1,\n        \"num_unique_values\": 2,\n        \"samples\": [\n          0,\n          1\n        ],\n        \"semantic_type\": \"\",\n        \"description\": \"\"\n      }\n    },\n    {\n      \"column\": \"tenure\",\n      \"properties\": {\n        \"dtype\": \"number\",\n        \"std\": 24,\n        \"min\": 0,\n        \"max\": 72,\n        \"num_unique_values\": 73,\n        \"samples\": [\n          71,\n          53\n        ],\n        \"semantic_type\": \"\",\n        \"description\": \"\"\n      }\n    },\n    {\n      \"column\": \"PhoneService\",\n      \"properties\": {\n        \"dtype\": \"number\",\n        \"std\": 0,\n        \"min\": 0,\n        \"max\": 1,\n        \"num_unique_values\": 2,\n        \"samples\": [\n          0,\n          1\n        ],\n        \"semantic_type\": \"\",\n        \"description\": \"\"\n      }\n    },\n    {\n      \"column\": \"MultipleLines\",\n      \"properties\": {\n        \"dtype\": \"number\",\n        \"std\": 0,\n        \"min\": 0,\n        \"max\": 1,\n        \"num_unique_values\": 2,\n        \"samples\": [\n          1,\n          0\n        ],\n        \"semantic_type\": \"\",\n        \"description\": \"\"\n      }\n    },\n    {\n      \"column\": \"InternetService\",\n      \"properties\": {\n        \"dtype\": \"category\",\n        \"num_unique_values\": 3,\n        \"samples\": [\n          \"DSL\",\n          \"Fiber optic\"\n        ],\n        \"semantic_type\": \"\",\n        \"description\": \"\"\n      }\n    },\n    {\n      \"column\": \"OnlineSecurity\",\n      \"properties\": {\n        \"dtype\": \"number\",\n        \"std\": 0,\n        \"min\": 0,\n        \"max\": 1,\n        \"num_unique_values\": 2,\n        \"samples\": [\n          1,\n          0\n        ],\n        \"semantic_type\": \"\",\n        \"description\": \"\"\n      }\n    },\n    {\n      \"column\": \"OnlineBackup\",\n      \"properties\": {\n        \"dtype\": \"number\",\n        \"std\": 0,\n        \"min\": 0,\n        \"max\": 1,\n        \"num_unique_values\": 2,\n        \"samples\": [\n          0,\n          1\n        ],\n        \"semantic_type\": \"\",\n        \"description\": \"\"\n      }\n    },\n    {\n      \"column\": \"DeviceProtection\",\n      \"properties\": {\n        \"dtype\": \"number\",\n        \"std\": 0,\n        \"min\": 0,\n        \"max\": 1,\n        \"num_unique_values\": 2,\n        \"samples\": [\n          1,\n          0\n        ],\n        \"semantic_type\": \"\",\n        \"description\": \"\"\n      }\n    },\n    {\n      \"column\": \"TechSupport\",\n      \"properties\": {\n        \"dtype\": \"number\",\n        \"std\": 0,\n        \"min\": 0,\n        \"max\": 1,\n        \"num_unique_values\": 2,\n        \"samples\": [\n          0,\n          1\n        ],\n        \"semantic_type\": \"\",\n        \"description\": \"\"\n      }\n    },\n    {\n      \"column\": \"StreamingTV\",\n      \"properties\": {\n        \"dtype\": \"number\",\n        \"std\": 0,\n        \"min\": 0,\n        \"max\": 1,\n        \"num_unique_values\": 2,\n        \"samples\": [\n          0,\n          1\n        ],\n        \"semantic_type\": \"\",\n        \"description\": \"\"\n      }\n    },\n    {\n      \"column\": \"StreamingMovies\",\n      \"properties\": {\n        \"dtype\": \"number\",\n        \"std\": 0,\n        \"min\": 0,\n        \"max\": 1,\n        \"num_unique_values\": 2,\n        \"samples\": [\n          1,\n          0\n        ],\n        \"semantic_type\": \"\",\n        \"description\": \"\"\n      }\n    },\n    {\n      \"column\": \"Contract\",\n      \"properties\": {\n        \"dtype\": \"category\",\n        \"num_unique_values\": 3,\n        \"samples\": [\n          \"One year\",\n          \"Month-to-month\"\n        ],\n        \"semantic_type\": \"\",\n        \"description\": \"\"\n      }\n    },\n    {\n      \"column\": \"PaperlessBilling\",\n      \"properties\": {\n        \"dtype\": \"number\",\n        \"std\": 0,\n        \"min\": 0,\n        \"max\": 1,\n        \"num_unique_values\": 2,\n        \"samples\": [\n          0,\n          1\n        ],\n        \"semantic_type\": \"\",\n        \"description\": \"\"\n      }\n    },\n    {\n      \"column\": \"PaymentMethod\",\n      \"properties\": {\n        \"dtype\": \"category\",\n        \"num_unique_values\": 4,\n        \"samples\": [\n          \"Electronic check\",\n          \"Bank transfer (automatic)\"\n        ],\n        \"semantic_type\": \"\",\n        \"description\": \"\"\n      }\n    },\n    {\n      \"column\": \"Charges.Monthly\",\n      \"properties\": {\n        \"dtype\": \"number\",\n        \"std\": 30.12957188566699,\n        \"min\": 18.25,\n        \"max\": 118.75,\n        \"num_unique_values\": 1585,\n        \"samples\": [\n          100.85,\n          91.8\n        ],\n        \"semantic_type\": \"\",\n        \"description\": \"\"\n      }\n    },\n    {\n      \"column\": \"Charges.Total\",\n      \"properties\": {\n        \"dtype\": \"number\",\n        \"std\": 2266.9151043478787,\n        \"min\": 18.8,\n        \"max\": 8684.8,\n        \"num_unique_values\": 6531,\n        \"samples\": [\n          1994.3,\n          600.0\n        ],\n        \"semantic_type\": \"\",\n        \"description\": \"\"\n      }\n    }\n  ]\n}"
            }
          },
          "metadata": {},
          "execution_count": 114
        }
      ],
      "source": [
        "TelecomX2.head(2)"
      ]
    },
    {
      "cell_type": "code",
      "execution_count": 115,
      "metadata": {
        "id": "SZIoyutAzHUY",
        "colab": {
          "base_uri": "https://localhost:8080/"
        },
        "outputId": "0e2cacd6-924f-4f5d-ebd9-c13d09f2fa5d"
      },
      "outputs": [
        {
          "output_type": "stream",
          "name": "stdout",
          "text": [
            "<class 'pandas.core.frame.DataFrame'>\n",
            "Index: 7267 entries, 0 to 7266\n",
            "Data columns (total 20 columns):\n",
            " #   Column            Non-Null Count  Dtype  \n",
            "---  ------            --------------  -----  \n",
            " 0   Churn             7267 non-null   int64  \n",
            " 1   gender            7267 non-null   object \n",
            " 2   SeniorCitizen     7267 non-null   int64  \n",
            " 3   Partner           7267 non-null   int64  \n",
            " 4   Dependents        7267 non-null   int64  \n",
            " 5   tenure            7267 non-null   int64  \n",
            " 6   PhoneService      7267 non-null   int64  \n",
            " 7   MultipleLines     7267 non-null   int64  \n",
            " 8   InternetService   7267 non-null   object \n",
            " 9   OnlineSecurity    7267 non-null   int64  \n",
            " 10  OnlineBackup      7267 non-null   int64  \n",
            " 11  DeviceProtection  7267 non-null   int64  \n",
            " 12  TechSupport       7267 non-null   int64  \n",
            " 13  StreamingTV       7267 non-null   int64  \n",
            " 14  StreamingMovies   7267 non-null   int64  \n",
            " 15  Contract          7267 non-null   object \n",
            " 16  PaperlessBilling  7267 non-null   int64  \n",
            " 17  PaymentMethod     7267 non-null   object \n",
            " 18  Charges.Monthly   7267 non-null   float64\n",
            " 19  Charges.Total     7267 non-null   float64\n",
            "dtypes: float64(2), int64(14), object(4)\n",
            "memory usage: 1.2+ MB\n"
          ]
        }
      ],
      "source": [
        "TelecomX2.info()"
      ]
    },
    {
      "cell_type": "markdown",
      "metadata": {
        "id": "ErQvfC9EYpFU"
      },
      "source": [
        "###Modificamos las columnas object a numéricas"
      ]
    },
    {
      "cell_type": "code",
      "execution_count": 116,
      "metadata": {
        "id": "_VzYch6PhR4S"
      },
      "outputs": [],
      "source": [
        "import warnings\n",
        "warnings.filterwarnings('ignore')"
      ]
    },
    {
      "cell_type": "code",
      "execution_count": 117,
      "metadata": {
        "id": "Ea2XsLSZIzNC",
        "colab": {
          "base_uri": "https://localhost:8080/",
          "height": 179
        },
        "outputId": "d5b7ad28-1d26-463e-c847-0a115c4c89bc"
      },
      "outputs": [
        {
          "output_type": "execute_result",
          "data": {
            "text/plain": [
              "gender\n",
              "Male      3675\n",
              "Female    3592\n",
              "Name: count, dtype: int64"
            ],
            "text/html": [
              "<div>\n",
              "<style scoped>\n",
              "    .dataframe tbody tr th:only-of-type {\n",
              "        vertical-align: middle;\n",
              "    }\n",
              "\n",
              "    .dataframe tbody tr th {\n",
              "        vertical-align: top;\n",
              "    }\n",
              "\n",
              "    .dataframe thead th {\n",
              "        text-align: right;\n",
              "    }\n",
              "</style>\n",
              "<table border=\"1\" class=\"dataframe\">\n",
              "  <thead>\n",
              "    <tr style=\"text-align: right;\">\n",
              "      <th></th>\n",
              "      <th>count</th>\n",
              "    </tr>\n",
              "    <tr>\n",
              "      <th>gender</th>\n",
              "      <th></th>\n",
              "    </tr>\n",
              "  </thead>\n",
              "  <tbody>\n",
              "    <tr>\n",
              "      <th>Male</th>\n",
              "      <td>3675</td>\n",
              "    </tr>\n",
              "    <tr>\n",
              "      <th>Female</th>\n",
              "      <td>3592</td>\n",
              "    </tr>\n",
              "  </tbody>\n",
              "</table>\n",
              "</div><br><label><b>dtype:</b> int64</label>"
            ]
          },
          "metadata": {},
          "execution_count": 117
        }
      ],
      "source": [
        "TelecomX2['gender'].value_counts()"
      ]
    },
    {
      "cell_type": "code",
      "execution_count": 118,
      "metadata": {
        "id": "uljiIAfPdotT"
      },
      "outputs": [],
      "source": [
        "TelecomX2['gender']= TelecomX2['gender'].replace({'Male':0,'Female':1})"
      ]
    },
    {
      "cell_type": "code",
      "execution_count": 119,
      "metadata": {
        "id": "wvTmfiO49je1",
        "colab": {
          "base_uri": "https://localhost:8080/",
          "height": 210
        },
        "outputId": "36c724ee-4f17-414a-a677-1dd31508f794"
      },
      "outputs": [
        {
          "output_type": "execute_result",
          "data": {
            "text/plain": [
              "InternetService\n",
              "Fiber optic    3198\n",
              "DSL            2488\n",
              "No             1581\n",
              "Name: count, dtype: int64"
            ],
            "text/html": [
              "<div>\n",
              "<style scoped>\n",
              "    .dataframe tbody tr th:only-of-type {\n",
              "        vertical-align: middle;\n",
              "    }\n",
              "\n",
              "    .dataframe tbody tr th {\n",
              "        vertical-align: top;\n",
              "    }\n",
              "\n",
              "    .dataframe thead th {\n",
              "        text-align: right;\n",
              "    }\n",
              "</style>\n",
              "<table border=\"1\" class=\"dataframe\">\n",
              "  <thead>\n",
              "    <tr style=\"text-align: right;\">\n",
              "      <th></th>\n",
              "      <th>count</th>\n",
              "    </tr>\n",
              "    <tr>\n",
              "      <th>InternetService</th>\n",
              "      <th></th>\n",
              "    </tr>\n",
              "  </thead>\n",
              "  <tbody>\n",
              "    <tr>\n",
              "      <th>Fiber optic</th>\n",
              "      <td>3198</td>\n",
              "    </tr>\n",
              "    <tr>\n",
              "      <th>DSL</th>\n",
              "      <td>2488</td>\n",
              "    </tr>\n",
              "    <tr>\n",
              "      <th>No</th>\n",
              "      <td>1581</td>\n",
              "    </tr>\n",
              "  </tbody>\n",
              "</table>\n",
              "</div><br><label><b>dtype:</b> int64</label>"
            ]
          },
          "metadata": {},
          "execution_count": 119
        }
      ],
      "source": [
        "TelecomX2['InternetService'].value_counts()"
      ]
    },
    {
      "cell_type": "code",
      "execution_count": 120,
      "metadata": {
        "id": "8lmwTufMeF6a"
      },
      "outputs": [],
      "source": [
        "TelecomX2['InternetService']= TelecomX2['InternetService'].replace({'Fiber optic':0,'DSL':1,'No':2})"
      ]
    },
    {
      "cell_type": "code",
      "execution_count": 121,
      "metadata": {
        "id": "j393_uzU9ja5",
        "colab": {
          "base_uri": "https://localhost:8080/",
          "height": 210
        },
        "outputId": "6638e94b-567f-4796-a541-b89dddd7c50d"
      },
      "outputs": [
        {
          "output_type": "execute_result",
          "data": {
            "text/plain": [
              "Contract\n",
              "Month-to-month    4005\n",
              "Two year          1743\n",
              "One year          1519\n",
              "Name: count, dtype: int64"
            ],
            "text/html": [
              "<div>\n",
              "<style scoped>\n",
              "    .dataframe tbody tr th:only-of-type {\n",
              "        vertical-align: middle;\n",
              "    }\n",
              "\n",
              "    .dataframe tbody tr th {\n",
              "        vertical-align: top;\n",
              "    }\n",
              "\n",
              "    .dataframe thead th {\n",
              "        text-align: right;\n",
              "    }\n",
              "</style>\n",
              "<table border=\"1\" class=\"dataframe\">\n",
              "  <thead>\n",
              "    <tr style=\"text-align: right;\">\n",
              "      <th></th>\n",
              "      <th>count</th>\n",
              "    </tr>\n",
              "    <tr>\n",
              "      <th>Contract</th>\n",
              "      <th></th>\n",
              "    </tr>\n",
              "  </thead>\n",
              "  <tbody>\n",
              "    <tr>\n",
              "      <th>Month-to-month</th>\n",
              "      <td>4005</td>\n",
              "    </tr>\n",
              "    <tr>\n",
              "      <th>Two year</th>\n",
              "      <td>1743</td>\n",
              "    </tr>\n",
              "    <tr>\n",
              "      <th>One year</th>\n",
              "      <td>1519</td>\n",
              "    </tr>\n",
              "  </tbody>\n",
              "</table>\n",
              "</div><br><label><b>dtype:</b> int64</label>"
            ]
          },
          "metadata": {},
          "execution_count": 121
        }
      ],
      "source": [
        "TelecomX2['Contract'].value_counts()"
      ]
    },
    {
      "cell_type": "code",
      "execution_count": 122,
      "metadata": {
        "id": "R9bAw3g3e7Vl"
      },
      "outputs": [],
      "source": [
        "TelecomX2['Contract']= TelecomX2['Contract'].replace({'Month-to-month':0,'Two year':1,'One year':2})"
      ]
    },
    {
      "cell_type": "code",
      "execution_count": 123,
      "metadata": {
        "id": "eWjsb35K1p2J",
        "colab": {
          "base_uri": "https://localhost:8080/",
          "height": 241
        },
        "outputId": "0af71fc6-798b-4337-d841-e52f38a0a996"
      },
      "outputs": [
        {
          "output_type": "execute_result",
          "data": {
            "text/plain": [
              "PaymentMethod\n",
              "Electronic check             2445\n",
              "Mailed check                 1665\n",
              "Bank transfer (automatic)    1589\n",
              "Credit card (automatic)      1568\n",
              "Name: count, dtype: int64"
            ],
            "text/html": [
              "<div>\n",
              "<style scoped>\n",
              "    .dataframe tbody tr th:only-of-type {\n",
              "        vertical-align: middle;\n",
              "    }\n",
              "\n",
              "    .dataframe tbody tr th {\n",
              "        vertical-align: top;\n",
              "    }\n",
              "\n",
              "    .dataframe thead th {\n",
              "        text-align: right;\n",
              "    }\n",
              "</style>\n",
              "<table border=\"1\" class=\"dataframe\">\n",
              "  <thead>\n",
              "    <tr style=\"text-align: right;\">\n",
              "      <th></th>\n",
              "      <th>count</th>\n",
              "    </tr>\n",
              "    <tr>\n",
              "      <th>PaymentMethod</th>\n",
              "      <th></th>\n",
              "    </tr>\n",
              "  </thead>\n",
              "  <tbody>\n",
              "    <tr>\n",
              "      <th>Electronic check</th>\n",
              "      <td>2445</td>\n",
              "    </tr>\n",
              "    <tr>\n",
              "      <th>Mailed check</th>\n",
              "      <td>1665</td>\n",
              "    </tr>\n",
              "    <tr>\n",
              "      <th>Bank transfer (automatic)</th>\n",
              "      <td>1589</td>\n",
              "    </tr>\n",
              "    <tr>\n",
              "      <th>Credit card (automatic)</th>\n",
              "      <td>1568</td>\n",
              "    </tr>\n",
              "  </tbody>\n",
              "</table>\n",
              "</div><br><label><b>dtype:</b> int64</label>"
            ]
          },
          "metadata": {},
          "execution_count": 123
        }
      ],
      "source": [
        "TelecomX2['PaymentMethod'].value_counts()"
      ]
    },
    {
      "cell_type": "code",
      "execution_count": 124,
      "metadata": {
        "id": "diLH9UwlfiQE"
      },
      "outputs": [],
      "source": [
        "TelecomX2['PaymentMethod']= TelecomX2['PaymentMethod'].replace({'Electronic check':0,'Mailed check':1,'Bank transfer (automatic)':2,'Credit card (automatic)':3})"
      ]
    },
    {
      "cell_type": "markdown",
      "metadata": {
        "id": "6IuxVrmk19iv"
      },
      "source": [
        "###Todas las variables son numéricas"
      ]
    },
    {
      "cell_type": "code",
      "execution_count": 125,
      "metadata": {
        "id": "XblyI3KOxJIR",
        "colab": {
          "base_uri": "https://localhost:8080/"
        },
        "outputId": "8390450f-5c8b-4010-9636-0db243564118"
      },
      "outputs": [
        {
          "output_type": "stream",
          "name": "stdout",
          "text": [
            "<class 'pandas.core.frame.DataFrame'>\n",
            "Index: 7267 entries, 0 to 7266\n",
            "Data columns (total 20 columns):\n",
            " #   Column            Non-Null Count  Dtype  \n",
            "---  ------            --------------  -----  \n",
            " 0   Churn             7267 non-null   int64  \n",
            " 1   gender            7267 non-null   int64  \n",
            " 2   SeniorCitizen     7267 non-null   int64  \n",
            " 3   Partner           7267 non-null   int64  \n",
            " 4   Dependents        7267 non-null   int64  \n",
            " 5   tenure            7267 non-null   int64  \n",
            " 6   PhoneService      7267 non-null   int64  \n",
            " 7   MultipleLines     7267 non-null   int64  \n",
            " 8   InternetService   7267 non-null   int64  \n",
            " 9   OnlineSecurity    7267 non-null   int64  \n",
            " 10  OnlineBackup      7267 non-null   int64  \n",
            " 11  DeviceProtection  7267 non-null   int64  \n",
            " 12  TechSupport       7267 non-null   int64  \n",
            " 13  StreamingTV       7267 non-null   int64  \n",
            " 14  StreamingMovies   7267 non-null   int64  \n",
            " 15  Contract          7267 non-null   int64  \n",
            " 16  PaperlessBilling  7267 non-null   int64  \n",
            " 17  PaymentMethod     7267 non-null   int64  \n",
            " 18  Charges.Monthly   7267 non-null   float64\n",
            " 19  Charges.Total     7267 non-null   float64\n",
            "dtypes: float64(2), int64(18)\n",
            "memory usage: 1.2 MB\n"
          ]
        }
      ],
      "source": [
        "TelecomX2.info()"
      ]
    },
    {
      "cell_type": "code",
      "execution_count": 126,
      "metadata": {
        "id": "clzKjUUbxJD5"
      },
      "outputs": [],
      "source": [
        "X = TelecomX2.drop('Churn', axis=1)\n",
        "y = TelecomX2['Churn']"
      ]
    },
    {
      "cell_type": "code",
      "execution_count": 127,
      "metadata": {
        "id": "kSgVZC4bxI_f",
        "colab": {
          "base_uri": "https://localhost:8080/",
          "height": 133
        },
        "outputId": "f98978fd-29c3-44d3-e919-aed1c7b4b197"
      },
      "outputs": [
        {
          "output_type": "execute_result",
          "data": {
            "text/plain": [
              "   gender  SeniorCitizen  Partner  Dependents  tenure  PhoneService  \\\n",
              "0       1              0        1           1       9             1   \n",
              "1       0              0        0           0       9             1   \n",
              "\n",
              "   MultipleLines  InternetService  OnlineSecurity  OnlineBackup  \\\n",
              "0              0                1               0             1   \n",
              "1              1                1               0             0   \n",
              "\n",
              "   DeviceProtection  TechSupport  StreamingTV  StreamingMovies  Contract  \\\n",
              "0                 0            1            1                0         2   \n",
              "1                 0            0            0                1         0   \n",
              "\n",
              "   PaperlessBilling  PaymentMethod  Charges.Monthly  Charges.Total  \n",
              "0                 1              1             65.6          593.3  \n",
              "1                 0              1             59.9          542.4  "
            ],
            "text/html": [
              "\n",
              "  <div id=\"df-2c25b563-269b-4027-aacd-907a8dd93e27\" class=\"colab-df-container\">\n",
              "    <div>\n",
              "<style scoped>\n",
              "    .dataframe tbody tr th:only-of-type {\n",
              "        vertical-align: middle;\n",
              "    }\n",
              "\n",
              "    .dataframe tbody tr th {\n",
              "        vertical-align: top;\n",
              "    }\n",
              "\n",
              "    .dataframe thead th {\n",
              "        text-align: right;\n",
              "    }\n",
              "</style>\n",
              "<table border=\"1\" class=\"dataframe\">\n",
              "  <thead>\n",
              "    <tr style=\"text-align: right;\">\n",
              "      <th></th>\n",
              "      <th>gender</th>\n",
              "      <th>SeniorCitizen</th>\n",
              "      <th>Partner</th>\n",
              "      <th>Dependents</th>\n",
              "      <th>tenure</th>\n",
              "      <th>PhoneService</th>\n",
              "      <th>MultipleLines</th>\n",
              "      <th>InternetService</th>\n",
              "      <th>OnlineSecurity</th>\n",
              "      <th>OnlineBackup</th>\n",
              "      <th>DeviceProtection</th>\n",
              "      <th>TechSupport</th>\n",
              "      <th>StreamingTV</th>\n",
              "      <th>StreamingMovies</th>\n",
              "      <th>Contract</th>\n",
              "      <th>PaperlessBilling</th>\n",
              "      <th>PaymentMethod</th>\n",
              "      <th>Charges.Monthly</th>\n",
              "      <th>Charges.Total</th>\n",
              "    </tr>\n",
              "  </thead>\n",
              "  <tbody>\n",
              "    <tr>\n",
              "      <th>0</th>\n",
              "      <td>1</td>\n",
              "      <td>0</td>\n",
              "      <td>1</td>\n",
              "      <td>1</td>\n",
              "      <td>9</td>\n",
              "      <td>1</td>\n",
              "      <td>0</td>\n",
              "      <td>1</td>\n",
              "      <td>0</td>\n",
              "      <td>1</td>\n",
              "      <td>0</td>\n",
              "      <td>1</td>\n",
              "      <td>1</td>\n",
              "      <td>0</td>\n",
              "      <td>2</td>\n",
              "      <td>1</td>\n",
              "      <td>1</td>\n",
              "      <td>65.6</td>\n",
              "      <td>593.3</td>\n",
              "    </tr>\n",
              "    <tr>\n",
              "      <th>1</th>\n",
              "      <td>0</td>\n",
              "      <td>0</td>\n",
              "      <td>0</td>\n",
              "      <td>0</td>\n",
              "      <td>9</td>\n",
              "      <td>1</td>\n",
              "      <td>1</td>\n",
              "      <td>1</td>\n",
              "      <td>0</td>\n",
              "      <td>0</td>\n",
              "      <td>0</td>\n",
              "      <td>0</td>\n",
              "      <td>0</td>\n",
              "      <td>1</td>\n",
              "      <td>0</td>\n",
              "      <td>0</td>\n",
              "      <td>1</td>\n",
              "      <td>59.9</td>\n",
              "      <td>542.4</td>\n",
              "    </tr>\n",
              "  </tbody>\n",
              "</table>\n",
              "</div>\n",
              "    <div class=\"colab-df-buttons\">\n",
              "\n",
              "  <div class=\"colab-df-container\">\n",
              "    <button class=\"colab-df-convert\" onclick=\"convertToInteractive('df-2c25b563-269b-4027-aacd-907a8dd93e27')\"\n",
              "            title=\"Convert this dataframe to an interactive table.\"\n",
              "            style=\"display:none;\">\n",
              "\n",
              "  <svg xmlns=\"http://www.w3.org/2000/svg\" height=\"24px\" viewBox=\"0 -960 960 960\">\n",
              "    <path d=\"M120-120v-720h720v720H120Zm60-500h600v-160H180v160Zm220 220h160v-160H400v160Zm0 220h160v-160H400v160ZM180-400h160v-160H180v160Zm440 0h160v-160H620v160ZM180-180h160v-160H180v160Zm440 0h160v-160H620v160Z\"/>\n",
              "  </svg>\n",
              "    </button>\n",
              "\n",
              "  <style>\n",
              "    .colab-df-container {\n",
              "      display:flex;\n",
              "      gap: 12px;\n",
              "    }\n",
              "\n",
              "    .colab-df-convert {\n",
              "      background-color: #E8F0FE;\n",
              "      border: none;\n",
              "      border-radius: 50%;\n",
              "      cursor: pointer;\n",
              "      display: none;\n",
              "      fill: #1967D2;\n",
              "      height: 32px;\n",
              "      padding: 0 0 0 0;\n",
              "      width: 32px;\n",
              "    }\n",
              "\n",
              "    .colab-df-convert:hover {\n",
              "      background-color: #E2EBFA;\n",
              "      box-shadow: 0px 1px 2px rgba(60, 64, 67, 0.3), 0px 1px 3px 1px rgba(60, 64, 67, 0.15);\n",
              "      fill: #174EA6;\n",
              "    }\n",
              "\n",
              "    .colab-df-buttons div {\n",
              "      margin-bottom: 4px;\n",
              "    }\n",
              "\n",
              "    [theme=dark] .colab-df-convert {\n",
              "      background-color: #3B4455;\n",
              "      fill: #D2E3FC;\n",
              "    }\n",
              "\n",
              "    [theme=dark] .colab-df-convert:hover {\n",
              "      background-color: #434B5C;\n",
              "      box-shadow: 0px 1px 3px 1px rgba(0, 0, 0, 0.15);\n",
              "      filter: drop-shadow(0px 1px 2px rgba(0, 0, 0, 0.3));\n",
              "      fill: #FFFFFF;\n",
              "    }\n",
              "  </style>\n",
              "\n",
              "    <script>\n",
              "      const buttonEl =\n",
              "        document.querySelector('#df-2c25b563-269b-4027-aacd-907a8dd93e27 button.colab-df-convert');\n",
              "      buttonEl.style.display =\n",
              "        google.colab.kernel.accessAllowed ? 'block' : 'none';\n",
              "\n",
              "      async function convertToInteractive(key) {\n",
              "        const element = document.querySelector('#df-2c25b563-269b-4027-aacd-907a8dd93e27');\n",
              "        const dataTable =\n",
              "          await google.colab.kernel.invokeFunction('convertToInteractive',\n",
              "                                                    [key], {});\n",
              "        if (!dataTable) return;\n",
              "\n",
              "        const docLinkHtml = 'Like what you see? Visit the ' +\n",
              "          '<a target=\"_blank\" href=https://colab.research.google.com/notebooks/data_table.ipynb>data table notebook</a>'\n",
              "          + ' to learn more about interactive tables.';\n",
              "        element.innerHTML = '';\n",
              "        dataTable['output_type'] = 'display_data';\n",
              "        await google.colab.output.renderOutput(dataTable, element);\n",
              "        const docLink = document.createElement('div');\n",
              "        docLink.innerHTML = docLinkHtml;\n",
              "        element.appendChild(docLink);\n",
              "      }\n",
              "    </script>\n",
              "  </div>\n",
              "\n",
              "\n",
              "    <div id=\"df-2bcc23d4-ede0-4d4f-acd9-22d2d35e156e\">\n",
              "      <button class=\"colab-df-quickchart\" onclick=\"quickchart('df-2bcc23d4-ede0-4d4f-acd9-22d2d35e156e')\"\n",
              "                title=\"Suggest charts\"\n",
              "                style=\"display:none;\">\n",
              "\n",
              "<svg xmlns=\"http://www.w3.org/2000/svg\" height=\"24px\"viewBox=\"0 0 24 24\"\n",
              "     width=\"24px\">\n",
              "    <g>\n",
              "        <path d=\"M19 3H5c-1.1 0-2 .9-2 2v14c0 1.1.9 2 2 2h14c1.1 0 2-.9 2-2V5c0-1.1-.9-2-2-2zM9 17H7v-7h2v7zm4 0h-2V7h2v10zm4 0h-2v-4h2v4z\"/>\n",
              "    </g>\n",
              "</svg>\n",
              "      </button>\n",
              "\n",
              "<style>\n",
              "  .colab-df-quickchart {\n",
              "      --bg-color: #E8F0FE;\n",
              "      --fill-color: #1967D2;\n",
              "      --hover-bg-color: #E2EBFA;\n",
              "      --hover-fill-color: #174EA6;\n",
              "      --disabled-fill-color: #AAA;\n",
              "      --disabled-bg-color: #DDD;\n",
              "  }\n",
              "\n",
              "  [theme=dark] .colab-df-quickchart {\n",
              "      --bg-color: #3B4455;\n",
              "      --fill-color: #D2E3FC;\n",
              "      --hover-bg-color: #434B5C;\n",
              "      --hover-fill-color: #FFFFFF;\n",
              "      --disabled-bg-color: #3B4455;\n",
              "      --disabled-fill-color: #666;\n",
              "  }\n",
              "\n",
              "  .colab-df-quickchart {\n",
              "    background-color: var(--bg-color);\n",
              "    border: none;\n",
              "    border-radius: 50%;\n",
              "    cursor: pointer;\n",
              "    display: none;\n",
              "    fill: var(--fill-color);\n",
              "    height: 32px;\n",
              "    padding: 0;\n",
              "    width: 32px;\n",
              "  }\n",
              "\n",
              "  .colab-df-quickchart:hover {\n",
              "    background-color: var(--hover-bg-color);\n",
              "    box-shadow: 0 1px 2px rgba(60, 64, 67, 0.3), 0 1px 3px 1px rgba(60, 64, 67, 0.15);\n",
              "    fill: var(--button-hover-fill-color);\n",
              "  }\n",
              "\n",
              "  .colab-df-quickchart-complete:disabled,\n",
              "  .colab-df-quickchart-complete:disabled:hover {\n",
              "    background-color: var(--disabled-bg-color);\n",
              "    fill: var(--disabled-fill-color);\n",
              "    box-shadow: none;\n",
              "  }\n",
              "\n",
              "  .colab-df-spinner {\n",
              "    border: 2px solid var(--fill-color);\n",
              "    border-color: transparent;\n",
              "    border-bottom-color: var(--fill-color);\n",
              "    animation:\n",
              "      spin 1s steps(1) infinite;\n",
              "  }\n",
              "\n",
              "  @keyframes spin {\n",
              "    0% {\n",
              "      border-color: transparent;\n",
              "      border-bottom-color: var(--fill-color);\n",
              "      border-left-color: var(--fill-color);\n",
              "    }\n",
              "    20% {\n",
              "      border-color: transparent;\n",
              "      border-left-color: var(--fill-color);\n",
              "      border-top-color: var(--fill-color);\n",
              "    }\n",
              "    30% {\n",
              "      border-color: transparent;\n",
              "      border-left-color: var(--fill-color);\n",
              "      border-top-color: var(--fill-color);\n",
              "      border-right-color: var(--fill-color);\n",
              "    }\n",
              "    40% {\n",
              "      border-color: transparent;\n",
              "      border-right-color: var(--fill-color);\n",
              "      border-top-color: var(--fill-color);\n",
              "    }\n",
              "    60% {\n",
              "      border-color: transparent;\n",
              "      border-right-color: var(--fill-color);\n",
              "    }\n",
              "    80% {\n",
              "      border-color: transparent;\n",
              "      border-right-color: var(--fill-color);\n",
              "      border-bottom-color: var(--fill-color);\n",
              "    }\n",
              "    90% {\n",
              "      border-color: transparent;\n",
              "      border-bottom-color: var(--fill-color);\n",
              "    }\n",
              "  }\n",
              "</style>\n",
              "\n",
              "      <script>\n",
              "        async function quickchart(key) {\n",
              "          const quickchartButtonEl =\n",
              "            document.querySelector('#' + key + ' button');\n",
              "          quickchartButtonEl.disabled = true;  // To prevent multiple clicks.\n",
              "          quickchartButtonEl.classList.add('colab-df-spinner');\n",
              "          try {\n",
              "            const charts = await google.colab.kernel.invokeFunction(\n",
              "                'suggestCharts', [key], {});\n",
              "          } catch (error) {\n",
              "            console.error('Error during call to suggestCharts:', error);\n",
              "          }\n",
              "          quickchartButtonEl.classList.remove('colab-df-spinner');\n",
              "          quickchartButtonEl.classList.add('colab-df-quickchart-complete');\n",
              "        }\n",
              "        (() => {\n",
              "          let quickchartButtonEl =\n",
              "            document.querySelector('#df-2bcc23d4-ede0-4d4f-acd9-22d2d35e156e button');\n",
              "          quickchartButtonEl.style.display =\n",
              "            google.colab.kernel.accessAllowed ? 'block' : 'none';\n",
              "        })();\n",
              "      </script>\n",
              "    </div>\n",
              "\n",
              "    </div>\n",
              "  </div>\n"
            ],
            "application/vnd.google.colaboratory.intrinsic+json": {
              "type": "dataframe",
              "variable_name": "X",
              "summary": "{\n  \"name\": \"X\",\n  \"rows\": 7267,\n  \"fields\": [\n    {\n      \"column\": \"gender\",\n      \"properties\": {\n        \"dtype\": \"number\",\n        \"std\": 0,\n        \"min\": 0,\n        \"max\": 1,\n        \"num_unique_values\": 2,\n        \"samples\": [\n          0,\n          1\n        ],\n        \"semantic_type\": \"\",\n        \"description\": \"\"\n      }\n    },\n    {\n      \"column\": \"SeniorCitizen\",\n      \"properties\": {\n        \"dtype\": \"number\",\n        \"std\": 0,\n        \"min\": 0,\n        \"max\": 1,\n        \"num_unique_values\": 2,\n        \"samples\": [\n          1,\n          0\n        ],\n        \"semantic_type\": \"\",\n        \"description\": \"\"\n      }\n    },\n    {\n      \"column\": \"Partner\",\n      \"properties\": {\n        \"dtype\": \"number\",\n        \"std\": 0,\n        \"min\": 0,\n        \"max\": 1,\n        \"num_unique_values\": 2,\n        \"samples\": [\n          0,\n          1\n        ],\n        \"semantic_type\": \"\",\n        \"description\": \"\"\n      }\n    },\n    {\n      \"column\": \"Dependents\",\n      \"properties\": {\n        \"dtype\": \"number\",\n        \"std\": 0,\n        \"min\": 0,\n        \"max\": 1,\n        \"num_unique_values\": 2,\n        \"samples\": [\n          0,\n          1\n        ],\n        \"semantic_type\": \"\",\n        \"description\": \"\"\n      }\n    },\n    {\n      \"column\": \"tenure\",\n      \"properties\": {\n        \"dtype\": \"number\",\n        \"std\": 24,\n        \"min\": 0,\n        \"max\": 72,\n        \"num_unique_values\": 73,\n        \"samples\": [\n          71,\n          53\n        ],\n        \"semantic_type\": \"\",\n        \"description\": \"\"\n      }\n    },\n    {\n      \"column\": \"PhoneService\",\n      \"properties\": {\n        \"dtype\": \"number\",\n        \"std\": 0,\n        \"min\": 0,\n        \"max\": 1,\n        \"num_unique_values\": 2,\n        \"samples\": [\n          0,\n          1\n        ],\n        \"semantic_type\": \"\",\n        \"description\": \"\"\n      }\n    },\n    {\n      \"column\": \"MultipleLines\",\n      \"properties\": {\n        \"dtype\": \"number\",\n        \"std\": 0,\n        \"min\": 0,\n        \"max\": 1,\n        \"num_unique_values\": 2,\n        \"samples\": [\n          1,\n          0\n        ],\n        \"semantic_type\": \"\",\n        \"description\": \"\"\n      }\n    },\n    {\n      \"column\": \"InternetService\",\n      \"properties\": {\n        \"dtype\": \"number\",\n        \"std\": 0,\n        \"min\": 0,\n        \"max\": 2,\n        \"num_unique_values\": 3,\n        \"samples\": [\n          1,\n          0\n        ],\n        \"semantic_type\": \"\",\n        \"description\": \"\"\n      }\n    },\n    {\n      \"column\": \"OnlineSecurity\",\n      \"properties\": {\n        \"dtype\": \"number\",\n        \"std\": 0,\n        \"min\": 0,\n        \"max\": 1,\n        \"num_unique_values\": 2,\n        \"samples\": [\n          1,\n          0\n        ],\n        \"semantic_type\": \"\",\n        \"description\": \"\"\n      }\n    },\n    {\n      \"column\": \"OnlineBackup\",\n      \"properties\": {\n        \"dtype\": \"number\",\n        \"std\": 0,\n        \"min\": 0,\n        \"max\": 1,\n        \"num_unique_values\": 2,\n        \"samples\": [\n          0,\n          1\n        ],\n        \"semantic_type\": \"\",\n        \"description\": \"\"\n      }\n    },\n    {\n      \"column\": \"DeviceProtection\",\n      \"properties\": {\n        \"dtype\": \"number\",\n        \"std\": 0,\n        \"min\": 0,\n        \"max\": 1,\n        \"num_unique_values\": 2,\n        \"samples\": [\n          1,\n          0\n        ],\n        \"semantic_type\": \"\",\n        \"description\": \"\"\n      }\n    },\n    {\n      \"column\": \"TechSupport\",\n      \"properties\": {\n        \"dtype\": \"number\",\n        \"std\": 0,\n        \"min\": 0,\n        \"max\": 1,\n        \"num_unique_values\": 2,\n        \"samples\": [\n          0,\n          1\n        ],\n        \"semantic_type\": \"\",\n        \"description\": \"\"\n      }\n    },\n    {\n      \"column\": \"StreamingTV\",\n      \"properties\": {\n        \"dtype\": \"number\",\n        \"std\": 0,\n        \"min\": 0,\n        \"max\": 1,\n        \"num_unique_values\": 2,\n        \"samples\": [\n          0,\n          1\n        ],\n        \"semantic_type\": \"\",\n        \"description\": \"\"\n      }\n    },\n    {\n      \"column\": \"StreamingMovies\",\n      \"properties\": {\n        \"dtype\": \"number\",\n        \"std\": 0,\n        \"min\": 0,\n        \"max\": 1,\n        \"num_unique_values\": 2,\n        \"samples\": [\n          1,\n          0\n        ],\n        \"semantic_type\": \"\",\n        \"description\": \"\"\n      }\n    },\n    {\n      \"column\": \"Contract\",\n      \"properties\": {\n        \"dtype\": \"number\",\n        \"std\": 0,\n        \"min\": 0,\n        \"max\": 2,\n        \"num_unique_values\": 3,\n        \"samples\": [\n          2,\n          0\n        ],\n        \"semantic_type\": \"\",\n        \"description\": \"\"\n      }\n    },\n    {\n      \"column\": \"PaperlessBilling\",\n      \"properties\": {\n        \"dtype\": \"number\",\n        \"std\": 0,\n        \"min\": 0,\n        \"max\": 1,\n        \"num_unique_values\": 2,\n        \"samples\": [\n          0,\n          1\n        ],\n        \"semantic_type\": \"\",\n        \"description\": \"\"\n      }\n    },\n    {\n      \"column\": \"PaymentMethod\",\n      \"properties\": {\n        \"dtype\": \"number\",\n        \"std\": 1,\n        \"min\": 0,\n        \"max\": 3,\n        \"num_unique_values\": 4,\n        \"samples\": [\n          0,\n          2\n        ],\n        \"semantic_type\": \"\",\n        \"description\": \"\"\n      }\n    },\n    {\n      \"column\": \"Charges.Monthly\",\n      \"properties\": {\n        \"dtype\": \"number\",\n        \"std\": 30.12957188566699,\n        \"min\": 18.25,\n        \"max\": 118.75,\n        \"num_unique_values\": 1585,\n        \"samples\": [\n          100.85,\n          91.8\n        ],\n        \"semantic_type\": \"\",\n        \"description\": \"\"\n      }\n    },\n    {\n      \"column\": \"Charges.Total\",\n      \"properties\": {\n        \"dtype\": \"number\",\n        \"std\": 2266.9151043478787,\n        \"min\": 18.8,\n        \"max\": 8684.8,\n        \"num_unique_values\": 6531,\n        \"samples\": [\n          1994.3,\n          600.0\n        ],\n        \"semantic_type\": \"\",\n        \"description\": \"\"\n      }\n    }\n  ]\n}"
            }
          },
          "metadata": {},
          "execution_count": 127
        }
      ],
      "source": [
        "X.head(2)\n"
      ]
    },
    {
      "cell_type": "code",
      "execution_count": 128,
      "metadata": {
        "id": "Co6mcECRxI6p",
        "colab": {
          "base_uri": "https://localhost:8080/"
        },
        "outputId": "93034b3b-6c57-46d7-b1c7-07a87ad9ee99"
      },
      "outputs": [
        {
          "output_type": "stream",
          "name": "stdout",
          "text": [
            "<class 'pandas.core.frame.DataFrame'>\n",
            "Index: 7267 entries, 0 to 7266\n",
            "Data columns (total 19 columns):\n",
            " #   Column            Non-Null Count  Dtype  \n",
            "---  ------            --------------  -----  \n",
            " 0   gender            7267 non-null   int64  \n",
            " 1   SeniorCitizen     7267 non-null   int64  \n",
            " 2   Partner           7267 non-null   int64  \n",
            " 3   Dependents        7267 non-null   int64  \n",
            " 4   tenure            7267 non-null   int64  \n",
            " 5   PhoneService      7267 non-null   int64  \n",
            " 6   MultipleLines     7267 non-null   int64  \n",
            " 7   InternetService   7267 non-null   int64  \n",
            " 8   OnlineSecurity    7267 non-null   int64  \n",
            " 9   OnlineBackup      7267 non-null   int64  \n",
            " 10  DeviceProtection  7267 non-null   int64  \n",
            " 11  TechSupport       7267 non-null   int64  \n",
            " 12  StreamingTV       7267 non-null   int64  \n",
            " 13  StreamingMovies   7267 non-null   int64  \n",
            " 14  Contract          7267 non-null   int64  \n",
            " 15  PaperlessBilling  7267 non-null   int64  \n",
            " 16  PaymentMethod     7267 non-null   int64  \n",
            " 17  Charges.Monthly   7267 non-null   float64\n",
            " 18  Charges.Total     7267 non-null   float64\n",
            "dtypes: float64(2), int64(17)\n",
            "memory usage: 1.1 MB\n"
          ]
        }
      ],
      "source": [
        "X.info()"
      ]
    },
    {
      "cell_type": "code",
      "execution_count": 129,
      "metadata": {
        "id": "pMnyV29ptocv",
        "colab": {
          "base_uri": "https://localhost:8080/",
          "height": 147
        },
        "outputId": "bb08082a-f161-4250-e00d-e5f57d41bfac"
      },
      "outputs": [
        {
          "output_type": "execute_result",
          "data": {
            "text/plain": [
              "0    0\n",
              "1    0\n",
              "Name: Churn, dtype: int64"
            ],
            "text/html": [
              "<div>\n",
              "<style scoped>\n",
              "    .dataframe tbody tr th:only-of-type {\n",
              "        vertical-align: middle;\n",
              "    }\n",
              "\n",
              "    .dataframe tbody tr th {\n",
              "        vertical-align: top;\n",
              "    }\n",
              "\n",
              "    .dataframe thead th {\n",
              "        text-align: right;\n",
              "    }\n",
              "</style>\n",
              "<table border=\"1\" class=\"dataframe\">\n",
              "  <thead>\n",
              "    <tr style=\"text-align: right;\">\n",
              "      <th></th>\n",
              "      <th>Churn</th>\n",
              "    </tr>\n",
              "  </thead>\n",
              "  <tbody>\n",
              "    <tr>\n",
              "      <th>0</th>\n",
              "      <td>0</td>\n",
              "    </tr>\n",
              "    <tr>\n",
              "      <th>1</th>\n",
              "      <td>0</td>\n",
              "    </tr>\n",
              "  </tbody>\n",
              "</table>\n",
              "</div><br><label><b>dtype:</b> int64</label>"
            ]
          },
          "metadata": {},
          "execution_count": 129
        }
      ],
      "source": [
        "y.head(2)"
      ]
    },
    {
      "cell_type": "code",
      "execution_count": 130,
      "metadata": {
        "id": "uz_T0A0ztxM2",
        "colab": {
          "base_uri": "https://localhost:8080/"
        },
        "outputId": "eff11d5e-fcf5-4cc0-86ae-e5343e17a8ef"
      },
      "outputs": [
        {
          "output_type": "stream",
          "name": "stdout",
          "text": [
            "<class 'pandas.core.series.Series'>\n",
            "Index: 7267 entries, 0 to 7266\n",
            "Series name: Churn\n",
            "Non-Null Count  Dtype\n",
            "--------------  -----\n",
            "7267 non-null   int64\n",
            "dtypes: int64(1)\n",
            "memory usage: 113.5 KB\n"
          ]
        }
      ],
      "source": [
        "y.info()"
      ]
    },
    {
      "cell_type": "code",
      "execution_count": 131,
      "metadata": {
        "id": "6RTagIC6uHeL",
        "colab": {
          "base_uri": "https://localhost:8080/",
          "height": 179
        },
        "outputId": "d762f095-db1b-40fa-b172-f05d77eba943"
      },
      "outputs": [
        {
          "output_type": "execute_result",
          "data": {
            "text/plain": [
              "Churn\n",
              "0    5398\n",
              "1    1869\n",
              "Name: count, dtype: int64"
            ],
            "text/html": [
              "<div>\n",
              "<style scoped>\n",
              "    .dataframe tbody tr th:only-of-type {\n",
              "        vertical-align: middle;\n",
              "    }\n",
              "\n",
              "    .dataframe tbody tr th {\n",
              "        vertical-align: top;\n",
              "    }\n",
              "\n",
              "    .dataframe thead th {\n",
              "        text-align: right;\n",
              "    }\n",
              "</style>\n",
              "<table border=\"1\" class=\"dataframe\">\n",
              "  <thead>\n",
              "    <tr style=\"text-align: right;\">\n",
              "      <th></th>\n",
              "      <th>count</th>\n",
              "    </tr>\n",
              "    <tr>\n",
              "      <th>Churn</th>\n",
              "      <th></th>\n",
              "    </tr>\n",
              "  </thead>\n",
              "  <tbody>\n",
              "    <tr>\n",
              "      <th>0</th>\n",
              "      <td>5398</td>\n",
              "    </tr>\n",
              "    <tr>\n",
              "      <th>1</th>\n",
              "      <td>1869</td>\n",
              "    </tr>\n",
              "  </tbody>\n",
              "</table>\n",
              "</div><br><label><b>dtype:</b> int64</label>"
            ]
          },
          "metadata": {},
          "execution_count": 131
        }
      ],
      "source": [
        "TelecomX2['Churn'].value_counts()"
      ]
    },
    {
      "cell_type": "markdown",
      "metadata": {
        "id": "xve3IH9pO6hm"
      },
      "source": [
        "###Correlación de variables numéricas con Churn"
      ]
    },
    {
      "cell_type": "code",
      "execution_count": 132,
      "metadata": {
        "colab": {
          "base_uri": "https://localhost:8080/",
          "height": 697
        },
        "id": "GkTfk466PMeF",
        "outputId": "961a068f-90d0-4365-8933-4fad520ad022"
      },
      "outputs": [
        {
          "output_type": "display_data",
          "data": {
            "text/plain": [
              "<Figure size 1000x800 with 2 Axes>"
            ],
            "image/png": "[encoded data removed]"
          },
          "metadata": {}
        }
      ],
      "source": [
        "# Seleccionar solo variables numéricas\n",
        "numericas = TelecomX2.select_dtypes(include=['int64', 'float64'])\n",
        "\n",
        "# Calcular matriz de correlación\n",
        "corr_matrix = numericas.corr()\n",
        "\n",
        "# Crear un mapa de calor de las correlaciones con Churn\n",
        "plt.figure(figsize=(10, 8))\n",
        "sns.heatmap(corr_matrix[['Churn']].sort_values(by='Churn', ascending=False),\n",
        "            annot=True, cmap='coolwarm', center=0)\n",
        "plt.title('Correlación de variables numéricas con Churn')\n",
        "plt.show()"
      ]
    },
    {
      "cell_type": "markdown",
      "source": [
        "###Variables positivamente correlacionadas con Churn (mayor valor → mayor probabilidad de baja):\n",
        "\n",
        "Variable\tCorrelación\tInterpretación\n",
        "\n",
        "**Charges.Monthly**\t+0.19\tClientes con facturas mensuales más altas tienden a irse más. Posiblemente porque sienten que el servicio no justifica el precio.\n",
        "\n",
        "**PaperlessBilling**\t+0.19\tQuienes reciben facturas electrónicas tienen mayor churn. Esto podría estar asociado a usuarios más jóvenes o digitales, que también suelen cambiar más de proveedor.\n",
        "\n",
        "**SeniorCitizen**\t+0.15\tLos adultos mayores tienen una ligera tendencia a cancelar más, aunque la relación no es fuerte. Podría estar relacionado con ingresos fijos o necesidades tecnológicas diferentes.\n",
        "\n",
        "**StreamingTV / Movies**\t+0.06\tUsar servicios de streaming no garantiza permanencia. Puede indicar perfiles de usuarios más exigentes o que comparan más.\n",
        "\n",
        "**MultipleLines**\t+0.04\tTener múltiples líneas no asegura lealtad, tal vez por promociones de la competencia.\n",
        "\n",
        "**PhoneService / gender**\t+0.01\tPrácticamente neutros, sin impacto real relevante.\n",
        "\n",
        "**En resumen: Los clientes que pagan más, tienen servicios digitales activos y reciben facturación electrónica parecen ser más propensos a irse.**\n",
        "\n",
        "###Variables negativamente correlacionadas con Churn (mayor valor → menor probabilidad de baja):\n",
        "\n",
        "Variable\tCorrelación\tInterpretación\n",
        "\n",
        "**tenure**\t-0.34\tCuanto más tiempo lleva un cliente, menos probable es que se vaya. La lealtad crece con el tiempo.\n",
        "\n",
        "**Contract**\t-0.33\tContratos a plazo fijo (por ejemplo, anual) reducen mucho el churn. Las ofertas con compromiso parecen efectivas.\n",
        "\n",
        "**InternetService**\t-0.31\tAlgunas tecnologías (como fibra) pueden estar más asociadas a menor churn por mejor calidad.\n",
        "\n",
        "**PaymentMethod**\t-0.26\tMétodos de pago más estables (como débito automático) suelen tener menor churn.\n",
        "\n",
        "**Charges.Total**\t-0.19\tLos que ya gastaron mucho en la empresa suelen quedarse más. Hay un efecto de “costo hundido” o inversión previa.\n",
        "\n",
        "**OnlineSecurity / TechSupport**\t-0.16\tTener soporte técnico o seguridad activa parece aumentar la satisfacción.\n",
        "\n",
        "**Partner / Dependents**\t-0.15\tClientes con pareja o familia tienden a ser más estables, posiblemente por razones económicas o estabilidad general.\n",
        "\n",
        "**En resumen: La permanencia, los contratos fijos, servicios de valor agregado y vínculos personales/familiares reducen significativamente el riesgo de cancelación.**\n",
        "\n",
        "\n",
        "\n",
        "\n"
      ],
      "metadata": {
        "id": "W5nGGGZHRKt4"
      }
    },
    {
      "cell_type": "code",
      "source": [],
      "metadata": {
        "id": "1CsF4Qthb9nA"
      },
      "execution_count": 132,
      "outputs": []
    },
    {
      "cell_type": "markdown",
      "source": [
        "###¿Qué modelos de Machine Learning podés usar?\n",
        "####Dado que la variable objetivo es Churn (abandono del cliente, es binaria), este es un problema de clasificación binaria. Se pueden aplicar modelos como:\n",
        "####Modelos clásicos de clasificación:\n",
        "\n",
        "####Regresión logística (LogisticRegression)\n",
        "####Árboles de decisión\n",
        "####K-Nearest Neighbors (KNN)\n",
        "####SVM (Support Vector Machines)\n",
        "####RamdomForetClassifier"
      ],
      "metadata": {
        "id": "WpHZS_hkeTBh"
      }
    },
    {
      "cell_type": "markdown",
      "source": [
        "###Comprobación de la exactitud de los modelos(accuracy)"
      ],
      "metadata": {
        "id": "wBNLo3yJYcgN"
      }
    },
    {
      "cell_type": "code",
      "execution_count": 133,
      "metadata": {
        "id": "bnlXvSaw1HJN"
      },
      "outputs": [],
      "source": [
        "from sklearn.model_selection import train_test_split\n",
        "X,X_test,y,y_test = train_test_split(X,y,test_size=0.15,stratify=y,random_state=5)\n",
        "X_train,X_val,y_train,y_val = train_test_split(X,y,stratify=y,random_state=5)"
      ]
    },
    {
      "cell_type": "markdown",
      "metadata": {
        "id": "62sOJ3fo17W0"
      },
      "source": [
        "###Modelo LogisticRegression\n",
        "\n",
        "\n"
      ]
    },
    {
      "cell_type": "code",
      "execution_count": 134,
      "metadata": {
        "id": "bydFJ2GX10xZ",
        "colab": {
          "base_uri": "https://localhost:8080/"
        },
        "outputId": "43ca62a5-b271-49fd-a5c2-03b9cbbfdf55"
      },
      "outputs": [
        {
          "output_type": "execute_result",
          "data": {
            "text/plain": [
              "0.8120989917506874"
            ]
          },
          "metadata": {},
          "execution_count": 134
        }
      ],
      "source": [
        "from sklearn.linear_model import LogisticRegression\n",
        "modelo_lr = LogisticRegression()\n",
        "modelo_lr.fit(X_train, y_train)\n",
        "modelo_lr.score(X_test, y_test)\n"
      ]
    },
    {
      "cell_type": "markdown",
      "metadata": {
        "id": "CB8AEk382VY8"
      },
      "source": [
        "###Árbol de decisión"
      ]
    },
    {
      "cell_type": "code",
      "execution_count": 135,
      "metadata": {
        "id": "w24Whfyw10sa",
        "colab": {
          "base_uri": "https://localhost:8080/"
        },
        "outputId": "058d6360-397a-4574-dada-caa6378375b7"
      },
      "outputs": [
        {
          "output_type": "execute_result",
          "data": {
            "text/plain": [
              "0.7882676443629697"
            ]
          },
          "metadata": {},
          "execution_count": 135
        }
      ],
      "source": [
        "from sklearn.tree import DecisionTreeClassifier\n",
        "modelo_arbol = DecisionTreeClassifier(max_depth=3, random_state=5)\n",
        "modelo_arbol.fit(X_train, y_train)\n",
        "modelo_arbol.score(X_test, y_test)"
      ]
    },
    {
      "cell_type": "markdown",
      "metadata": {
        "id": "QQ18rfTg3Ckl"
      },
      "source": [
        "###Modelo KNN"
      ]
    },
    {
      "cell_type": "code",
      "execution_count": 136,
      "metadata": {
        "id": "h_MPR-cL10nH",
        "colab": {
          "base_uri": "https://localhost:8080/"
        },
        "outputId": "38b21f30-5f01-42fc-cb0b-24ce3e9551a6"
      },
      "outputs": [
        {
          "output_type": "execute_result",
          "data": {
            "text/plain": [
              "0.7571035747021082"
            ]
          },
          "metadata": {},
          "execution_count": 136
        }
      ],
      "source": [
        "from sklearn.neighbors import KNeighborsClassifier\n",
        "knn = KNeighborsClassifier()\n",
        "knn.fit(X_train, y_train)\n",
        "knn.score(X_test, y_test)"
      ]
    },
    {
      "cell_type": "markdown",
      "metadata": {
        "id": "hPJYpoG-CDt7"
      },
      "source": [
        "###Modelo SVC (Support Vector Classifier)\n",
        "\n",
        "\n"
      ]
    },
    {
      "cell_type": "code",
      "execution_count": 137,
      "metadata": {
        "id": "S2Npjw09B8bE",
        "colab": {
          "base_uri": "https://localhost:8080/"
        },
        "outputId": "4b5778f8-403d-4bf9-fb64-dd000596dbf8"
      },
      "outputs": [
        {
          "output_type": "execute_result",
          "data": {
            "text/plain": [
              "0.7424381301558204"
            ]
          },
          "metadata": {},
          "execution_count": 137
        }
      ],
      "source": [
        "from sklearn.svm import SVC\n",
        "SVC_model = SVC()\n",
        "SVC_model.fit(X_train, y_train)\n",
        "SVC_model.score(X_test, y_test)\n"
      ]
    },
    {
      "cell_type": "markdown",
      "metadata": {
        "id": "WYahXgS9EElo"
      },
      "source": [
        "###Modelo RamdomForetClassifier"
      ]
    },
    {
      "cell_type": "code",
      "execution_count": 138,
      "metadata": {
        "id": "-ufSfQ-aEDCu",
        "colab": {
          "base_uri": "https://localhost:8080/"
        },
        "outputId": "2444e35b-ad49-43ce-ef74-7da256f56c5d"
      },
      "outputs": [
        {
          "output_type": "execute_result",
          "data": {
            "text/plain": [
              "0.7901008249312558"
            ]
          },
          "metadata": {},
          "execution_count": 138
        }
      ],
      "source": [
        "from sklearn.ensemble import RandomForestClassifier\n",
        "modelo_rf = RandomForestClassifier(max_depth=3, random_state=5)\n",
        "modelo_rf.fit(X_train, y_train)\n",
        "modelo_rf.score(X_test, y_test)"
      ]
    },
    {
      "cell_type": "markdown",
      "metadata": {
        "id": "hUlh9I3U319S"
      },
      "source": [
        "###Mejor modelo"
      ]
    },
    {
      "cell_type": "code",
      "execution_count": 139,
      "metadata": {
        "id": "lx78BPwq10iw",
        "colab": {
          "base_uri": "https://localhost:8080/"
        },
        "outputId": "0742f628-13d2-4eaf-d490-cb18cd581105"
      },
      "outputs": [
        {
          "output_type": "stream",
          "name": "stdout",
          "text": [
            "La exactitud del modelo LogisticRegression,0.8120989917506874\n",
            "La exactitud del modelo de árbol,0.7882676443629697\n",
            "La exactitud del modelo knn,0.7571035747021082\n",
            "La exactitud del modelo SVC,0.7424381301558204\n",
            "La exactitud del modelo randomforest,0.7901008249312558\n"
          ]
        }
      ],
      "source": [
        "lista = [('LogisticRegression',modelo_lr,X_test),('de árbol',modelo_arbol,X_test),('knn',knn,X_test),('SVC',SVC_model,X_test),('randomforest',modelo_rf,X_test)]\n",
        "for i in lista:\n",
        "  print(f'La exactitud del modelo {i[0]},{i[1].score(i[2],y_test)}')"
      ]
    },
    {
      "cell_type": "markdown",
      "source": [
        "El modelo LogisticRegression se considera el modelo con mayor proporción de aciertos sobre el conjunto de prueba(obtuvo el mayor valor de accuracy(exactitud) (0.8121) entre todos los modelos evaluados)\n",
        "No se trata de que sea el \"mejor modelo posible\", sino que en esta prueba concreta, bajo la métrica accuracy, superó a los demás.\n",
        "\n",
        "¿Es suficiente usar sólo accuracy?No siempre. La accuracy puede ser engañosa.\n",
        "Si el dataset está desbalanceado (por ejemplo, si el 80% de los datos son de una clase y el modelo simplemente predice siempre esa clase).\n",
        "En problemas como Churn (cancelación de clientes), donde suele haber desbalance, es importante mirar también otras métricas."
      ],
      "metadata": {
        "id": "ilwe_OhsZMRD"
      }
    },
    {
      "cell_type": "markdown",
      "metadata": {
        "id": "wFkXxcooSJdm"
      },
      "source": [
        "###Validando los modelos"
      ]
    },
    {
      "cell_type": "code",
      "execution_count": 140,
      "metadata": {
        "id": "zVZE1PyYSSEq",
        "colab": {
          "base_uri": "https://localhost:8080/"
        },
        "outputId": "4baf6bc8-9529-4210-d8eb-d9582d9fa222"
      },
      "outputs": [
        {
          "output_type": "stream",
          "name": "stdout",
          "text": [
            "La validación del modelo1 con el conjunto de entrenamiento es de: 0.8048359240069085\n",
            "La validación del modelo1 con el conjunto de validaciones es de: 0.802461139896373\n"
          ]
        }
      ],
      "source": [
        "modelo1 = LogisticRegression()\n",
        "modelo1.fit(X_train, y_train)\n",
        "print(f'La validación del modelo1 con el conjunto de entrenamiento es de: {modelo1.score(X_train,y_train)}')\n",
        "print(f'La validación del modelo1 con el conjunto de validaciones es de: {modelo1.score(X_val, y_val)}')"
      ]
    },
    {
      "cell_type": "code",
      "execution_count": 141,
      "metadata": {
        "id": "IzhZoQa_SR_e",
        "colab": {
          "base_uri": "https://localhost:8080/"
        },
        "outputId": "343ea395-90e3-46ef-f079-8c3923a6d052"
      },
      "outputs": [
        {
          "output_type": "stream",
          "name": "stdout",
          "text": [
            "La validación del modelo2 con el conjunto de entrenamiento es de: 0.8754317789291882\n",
            "La validación del modelo2 con el conjunto de validaciones es de: 0.7791450777202072\n"
          ]
        }
      ],
      "source": [
        "modelo2 = DecisionTreeClassifier(max_depth=10)\n",
        "modelo2.fit(X_train, y_train)\n",
        "print(f'La validación del modelo2 con el conjunto de entrenamiento es de: {modelo2.score(X_train,y_train)}')\n",
        "print(f'La validación del modelo2 con el conjunto de validaciones es de: {modelo2.score(X_val, y_val)}')"
      ]
    },
    {
      "cell_type": "code",
      "execution_count": 142,
      "metadata": {
        "id": "5ENm3dEjSR7I",
        "colab": {
          "base_uri": "https://localhost:8080/"
        },
        "outputId": "86076bd1-bf9f-4718-c2ea-14b9a382fed6"
      },
      "outputs": [
        {
          "output_type": "stream",
          "name": "stdout",
          "text": [
            "La validación del modelo3 con el conjunto de entrenamiento es de: 0.8303108808290155\n",
            "La validación del modelo3 con el conjunto de validaciones es de: 0.7512953367875648\n"
          ]
        }
      ],
      "source": [
        "modelo3 = KNeighborsClassifier()\n",
        "modelo3.fit(X_train, y_train)\n",
        "print(f'La validación del modelo3 con el conjunto de entrenamiento es de: {modelo3.score(X_train,y_train)}')\n",
        "print(f'La validación del modelo3 con el conjunto de validaciones es de: {modelo3.score(X_val, y_val)}')"
      ]
    },
    {
      "cell_type": "code",
      "execution_count": 143,
      "metadata": {
        "id": "RpXJFa14SR2s",
        "colab": {
          "base_uri": "https://localhost:8080/"
        },
        "outputId": "663ea6b3-8021-4c30-d799-c8cd85b6e6a9"
      },
      "outputs": [
        {
          "output_type": "stream",
          "name": "stdout",
          "text": [
            "La validación del modelo4 con el conjunto de entrenamiento es de: 0.6640759930915371\n",
            "La validación del modelo4 con el conjunto de validaciones es de: 0.6645077720207254\n"
          ]
        }
      ],
      "source": [
        "modelo4 =  SVC(class_weight='balanced')\n",
        "modelo4.fit(X_train, y_train)\n",
        "print(f'La validación del modelo4 con el conjunto de entrenamiento es de: {modelo4.score(X_train,y_train)}')\n",
        "print(f'La validación del modelo4 con el conjunto de validaciones es de: {modelo4.score(X_val, y_val)}')"
      ]
    },
    {
      "cell_type": "code",
      "execution_count": 144,
      "metadata": {
        "id": "lNtws0mcSRx2",
        "colab": {
          "base_uri": "https://localhost:8080/"
        },
        "outputId": "f1fdf26c-3ac6-49d6-ac25-f8065184c23e"
      },
      "outputs": [
        {
          "output_type": "stream",
          "name": "stdout",
          "text": [
            "La validación del modelo5 con el conjunto de entrenamiento es de: 0.792314335060449\n",
            "La validación del modelo5 con el conjunto de validaciones es de: 0.788860103626943\n"
          ]
        }
      ],
      "source": [
        "modelo5 = RandomForestClassifier(max_depth=3, random_state=5)\n",
        "modelo5.fit(X_train, y_train)\n",
        "print(f'La validación del modelo5 con el conjunto de entrenamiento es de: {modelo5.score(X_train,y_train)}')\n",
        "print(f'La validación del modelo5 con el conjunto de validaciones es de: {modelo5.score(X_val, y_val)}')"
      ]
    },
    {
      "cell_type": "markdown",
      "source": [
        "En la validación de modelos, en modelo que tiene mejor performance es el Modelo 1 (Regresión Logística):\n",
        "\n",
        "Buen rendimiento en validación: 80.2%.\n",
        "\n",
        "Casi sin overfitting (aprende patrones generales útiles para predecir casos nuevos)\n",
        "\n",
        "Muy buen modelo base, simple y confiable.\n",
        "\n",
        "Está generalizando mejor. ¿Por qué? Porque no se está memorizando todas las\n",
        "salidas\n",
        "\n",
        "Aquí ya comenzamos a encontrar el camino para poder hacer nuestra validación de los modelos, pero también\n",
        "nos falta evaluarlos."
      ],
      "metadata": {
        "id": "8Y-sG8MLmhzz"
      }
    },
    {
      "cell_type": "markdown",
      "metadata": {
        "id": "uE43_XVz0w7u"
      },
      "source": [
        "###Evaluando los modelos"
      ]
    },
    {
      "cell_type": "markdown",
      "metadata": {
        "id": "IZLyiNRqRYRm"
      },
      "source": [
        "###Matriz de confusión"
      ]
    },
    {
      "cell_type": "markdown",
      "metadata": {
        "id": "jbMMBiZWQwAA"
      },
      "source": [
        "[[TN FP]\n",
        "\n",
        "[FN TP]]\n",
        "\n",
        "TN: Verdaderos Negativos (predijo que no había Churn, y no lo había)\n",
        "\n",
        "FP: Falsos Positivos (predijo Churn, pero no era)\n",
        "\n",
        "FN: Falsos Negativos (no predijo Churn, pero sí lo había)\n",
        "\n",
        "TP: Verdaderos Positivos (predijo correctamente Churn)\n",
        "\n"
      ]
    },
    {
      "cell_type": "markdown",
      "metadata": {
        "id": "ikcelLI-WVuM"
      },
      "source": [
        "<a href=\"https://imgbb.com/\"><img src=\"https://i.ibb.co/6Jp6rKyC/Captura-de-tela-2025-03-22-120744.png\" alt=\"Captura-de-tela-2025-03-22-120744\" border=\"0\"></a>"
      ]
    },
    {
      "cell_type": "markdown",
      "source": [
        "###Modelo Regresión Logística"
      ],
      "metadata": {
        "id": "HvQTZ7SOoLYD"
      }
    },
    {
      "cell_type": "code",
      "source": [
        "from sklearn.metrics import accuracy_score, precision_score, recall_score, f1_score\n",
        "\n",
        "y_pred = modelo1.predict(X_test)  # Reemplazá 'modelo' con el que estés evaluando\n",
        "\n",
        "print(f'La Exactitud (Accuracy) del modelo1 es: {accuracy_score(y_test, y_pred):.4f}')\n",
        "print(f'La Precisión (Precision) del modelo1 es: {precision_score(y_test, y_pred):.4f}')\n",
        "print(f'La Sensibilidad (Recall) del modelo1 es: {recall_score(y_test, y_pred):.4f}')\n",
        "print(f'El F1-Score del modelo1 es: {f1_score(y_test, y_pred):.4f}')"
      ],
      "metadata": {
        "id": "N0bc0aHpmYKg",
        "colab": {
          "base_uri": "https://localhost:8080/"
        },
        "outputId": "84969906-7c0b-4e73-d327-b34a07aaad2e"
      },
      "execution_count": 145,
      "outputs": [
        {
          "output_type": "stream",
          "name": "stdout",
          "text": [
            "La Exactitud (Accuracy) del modelo1 es: 0.8121\n",
            "La Precisión (Precision) del modelo1 es: 0.6792\n",
            "La Sensibilidad (Recall) del modelo1 es: 0.5125\n",
            "El F1-Score del modelo1 es: 0.5842\n"
          ]
        }
      ]
    },
    {
      "cell_type": "markdown",
      "source": [
        "###Modelo Árbol de Decisión"
      ],
      "metadata": {
        "id": "G_dKgdQHnRGP"
      }
    },
    {
      "cell_type": "code",
      "source": [
        "from sklearn.metrics import accuracy_score, precision_score, recall_score, f1_score\n",
        "\n",
        "y_pred = modelo2.predict(X_test)  # Reemplazá 'modelo' con el que estés evaluando\n",
        "\n",
        "print(f'La Exactitud (Accuracy) del modelo2 es: {accuracy_score(y_test, y_pred):.4f}')\n",
        "print(f'La Precisión (Precision) del modelo2 es: {precision_score(y_test, y_pred):.4f}')\n",
        "print(f'La Sensibilidad (Recall) del modelo2 es: {recall_score(y_test, y_pred):.4f}')\n",
        "print(f'El F1-Score del modelo2 es: {f1_score(y_test, y_pred):.4f}')"
      ],
      "metadata": {
        "id": "LeDFkDYRoWgo",
        "colab": {
          "base_uri": "https://localhost:8080/"
        },
        "outputId": "4e711bf5-eda5-46c8-8f7e-22594e4274c0"
      },
      "execution_count": 146,
      "outputs": [
        {
          "output_type": "stream",
          "name": "stdout",
          "text": [
            "La Exactitud (Accuracy) del modelo2 es: 0.7736\n",
            "La Precisión (Precision) del modelo2 es: 0.5664\n",
            "La Sensibilidad (Recall) del modelo2 es: 0.5160\n",
            "El F1-Score del modelo2 es: 0.5400\n"
          ]
        }
      ]
    },
    {
      "cell_type": "markdown",
      "source": [
        "###Modelo KNN"
      ],
      "metadata": {
        "id": "Gl_I2ZsDnBC_"
      }
    },
    {
      "cell_type": "code",
      "source": [
        "from sklearn.metrics import accuracy_score, precision_score, recall_score, f1_score\n",
        "\n",
        "y_pred = modelo3.predict(X_test)  # Reemplazá 'modelo' con el que estés evaluando\n",
        "\n",
        "print(f'La Exactitud (Accuracy) del modelo3 es: {accuracy_score(y_test, y_pred):.4f}')\n",
        "print(f'La Precisión (Precision) del modelo3 es: {precision_score(y_test, y_pred):.4f}')\n",
        "print(f'La Sensibilidad (Recall) del modelo3 es: {recall_score(y_test, y_pred):.4f}')\n",
        "print(f'El F1-Score del modelo3 es: {f1_score(y_test, y_pred):.4f}')\n"
      ],
      "metadata": {
        "id": "vZhWJ4CgoXxs",
        "colab": {
          "base_uri": "https://localhost:8080/"
        },
        "outputId": "51f31a05-3682-40e4-c524-82147310fbf9"
      },
      "execution_count": 147,
      "outputs": [
        {
          "output_type": "stream",
          "name": "stdout",
          "text": [
            "La Exactitud (Accuracy) del modelo3 es: 0.7571\n",
            "La Precisión (Precision) del modelo3 es: 0.5404\n",
            "La Sensibilidad (Recall) del modelo3 es: 0.3808\n",
            "El F1-Score del modelo3 es: 0.4468\n"
          ]
        }
      ]
    },
    {
      "cell_type": "markdown",
      "source": [
        "###Modelo SVC (Support Vector Classifier)"
      ],
      "metadata": {
        "id": "ES0wpJLxon3C"
      }
    },
    {
      "cell_type": "code",
      "source": [],
      "metadata": {
        "id": "CrXDnKS8osGe"
      },
      "execution_count": 147,
      "outputs": []
    },
    {
      "cell_type": "code",
      "source": [
        "from sklearn.metrics import accuracy_score, precision_score, recall_score, f1_score\n",
        "\n",
        "y_pred = modelo4.predict(X_test)  # Reemplazá 'modelo' con el que estés evaluando\n",
        "\n",
        "print(f'La Exactitud (Accuracy) del modelo4 es: {accuracy_score(y_test, y_pred):.4f}')\n",
        "print(f'La Precisión (Precision) del modelo4 es: {precision_score(y_test, y_pred):.4f}')\n",
        "print(f'La Sensibilidad (Recall) del modelo4 es: {recall_score(y_test, y_pred):.4f}')\n",
        "print(f'El F1-Score del modelo4 es: {f1_score(y_test, y_pred):.4f}')\n"
      ],
      "metadata": {
        "id": "lI5k7_LRos09",
        "colab": {
          "base_uri": "https://localhost:8080/"
        },
        "outputId": "4f433525-2488-49ec-e8af-8ba65dbe1210"
      },
      "execution_count": 148,
      "outputs": [
        {
          "output_type": "stream",
          "name": "stdout",
          "text": [
            "La Exactitud (Accuracy) del modelo4 es: 0.6581\n",
            "La Precisión (Precision) del modelo4 es: 0.3883\n",
            "La Sensibilidad (Recall) del modelo4 es: 0.5694\n",
            "El F1-Score del modelo4 es: 0.4618\n"
          ]
        }
      ]
    },
    {
      "cell_type": "markdown",
      "source": [
        "###Modelo RamdomForetClassifier"
      ],
      "metadata": {
        "id": "5e3bJ5FApCUI"
      }
    },
    {
      "cell_type": "code",
      "source": [],
      "metadata": {
        "id": "w5LfXKBepI3T"
      },
      "execution_count": 148,
      "outputs": []
    },
    {
      "cell_type": "code",
      "source": [
        "from sklearn.metrics import accuracy_score, precision_score, recall_score, f1_score\n",
        "\n",
        "y_pred = modelo5.predict(X_test)  # Reemplazá 'modelo' con el que estés evaluando\n",
        "\n",
        "print(f'La Exactitud (Accuracy) del modelo5 es: {accuracy_score(y_test, y_pred):.4f}')\n",
        "print(f'La Precisión (Precision) del modelo5 es: {precision_score(y_test, y_pred):.4f}')\n",
        "print(f'La Sensibilidad (Recall) del modelo5 es: {recall_score(y_test, y_pred):.4f}')\n",
        "print(f'El F1-Score del modelo5 es: {f1_score(y_test, y_pred):.4f}')\n"
      ],
      "metadata": {
        "id": "GAigKAaypKKP",
        "colab": {
          "base_uri": "https://localhost:8080/"
        },
        "outputId": "349db7fd-45f3-4006-8772-3d80115a316d"
      },
      "execution_count": 149,
      "outputs": [
        {
          "output_type": "stream",
          "name": "stdout",
          "text": [
            "La Exactitud (Accuracy) del modelo5 es: 0.7901\n",
            "La Precisión (Precision) del modelo5 es: 0.7281\n",
            "La Sensibilidad (Recall) del modelo5 es: 0.2954\n",
            "El F1-Score del modelo5 es: 0.4203\n"
          ]
        }
      ]
    },
    {
      "cell_type": "code",
      "source": [
        "import pandas as pd\n",
        "\n",
        "# Datos del rendimiento de los modelos\n",
        "data = {\n",
        "    \"Modelo\": [\n",
        "        \"1. Regresión Logística\",\n",
        "        \"2. Árbol de Decisión\",\n",
        "        \"3. KNN\",\n",
        "        \"4. SVM (balanceado)\",\n",
        "        \"5. Random Forest (limitado)\"\n",
        "    ],\n",
        "    \"Accuracy\": [0.8121, 0.7736, 0.7571, 0.6581, 0.7901],\n",
        "    \"Precision\": [0.6792, 0.5675, 0.5404, 0.3883, 0.7281],\n",
        "    \"Recall\": [0.5125, 0.5089, 0.3808, 0.5694, 0.2954],\n",
        "    \"F1-Score\": [0.5842, 0.5366, 0.4468, 0.4618, 0.4203]\n",
        "}\n",
        "\n",
        "# Crear el DataFrame\n",
        "df = pd.DataFrame(data)\n",
        "\n",
        "# Resaltar los valores máximos por columna\n",
        "styled_df = df.style.highlight_max(color='lightgreen', subset=['Accuracy', 'Precision', 'Recall', 'F1-Score'])\n",
        "\n",
        "# Mostrar la tabla\n",
        "styled_df\n"
      ],
      "metadata": {
        "colab": {
          "base_uri": "https://localhost:8080/",
          "height": 207
        },
        "id": "7whJbz6wUCMb",
        "outputId": "a6b4f0b8-6425-4cd2-8fdd-67d09b33828c"
      },
      "execution_count": 150,
      "outputs": [
        {
          "output_type": "execute_result",
          "data": {
            "text/plain": [
              "<pandas.io.formats.style.Styler at 0x7861bc360610>"
            ],
            "text/html": [
              "<style type=\"text/css\">\n",
              "#T_b0bd1_row0_col1, #T_b0bd1_row0_col4, #T_b0bd1_row3_col3, #T_b0bd1_row4_col2 {\n",
              "  background-color: lightgreen;\n",
              "}\n",
              "</style>\n",
              "<table id=\"T_b0bd1\" class=\"dataframe\">\n",
              "  <thead>\n",
              "    <tr>\n",
              "      <th class=\"blank level0\" >&nbsp;</th>\n",
              "      <th id=\"T_b0bd1_level0_col0\" class=\"col_heading level0 col0\" >Modelo</th>\n",
              "      <th id=\"T_b0bd1_level0_col1\" class=\"col_heading level0 col1\" >Accuracy</th>\n",
              "      <th id=\"T_b0bd1_level0_col2\" class=\"col_heading level0 col2\" >Precision</th>\n",
              "      <th id=\"T_b0bd1_level0_col3\" class=\"col_heading level0 col3\" >Recall</th>\n",
              "      <th id=\"T_b0bd1_level0_col4\" class=\"col_heading level0 col4\" >F1-Score</th>\n",
              "    </tr>\n",
              "  </thead>\n",
              "  <tbody>\n",
              "    <tr>\n",
              "      <th id=\"T_b0bd1_level0_row0\" class=\"row_heading level0 row0\" >0</th>\n",
              "      <td id=\"T_b0bd1_row0_col0\" class=\"data row0 col0\" >1. Regresión Logística</td>\n",
              "      <td id=\"T_b0bd1_row0_col1\" class=\"data row0 col1\" >0.812100</td>\n",
              "      <td id=\"T_b0bd1_row0_col2\" class=\"data row0 col2\" >0.679200</td>\n",
              "      <td id=\"T_b0bd1_row0_col3\" class=\"data row0 col3\" >0.512500</td>\n",
              "      <td id=\"T_b0bd1_row0_col4\" class=\"data row0 col4\" >0.584200</td>\n",
              "    </tr>\n",
              "    <tr>\n",
              "      <th id=\"T_b0bd1_level0_row1\" class=\"row_heading level0 row1\" >1</th>\n",
              "      <td id=\"T_b0bd1_row1_col0\" class=\"data row1 col0\" >2. Árbol de Decisión</td>\n",
              "      <td id=\"T_b0bd1_row1_col1\" class=\"data row1 col1\" >0.773600</td>\n",
              "      <td id=\"T_b0bd1_row1_col2\" class=\"data row1 col2\" >0.567500</td>\n",
              "      <td id=\"T_b0bd1_row1_col3\" class=\"data row1 col3\" >0.508900</td>\n",
              "      <td id=\"T_b0bd1_row1_col4\" class=\"data row1 col4\" >0.536600</td>\n",
              "    </tr>\n",
              "    <tr>\n",
              "      <th id=\"T_b0bd1_level0_row2\" class=\"row_heading level0 row2\" >2</th>\n",
              "      <td id=\"T_b0bd1_row2_col0\" class=\"data row2 col0\" >3. KNN</td>\n",
              "      <td id=\"T_b0bd1_row2_col1\" class=\"data row2 col1\" >0.757100</td>\n",
              "      <td id=\"T_b0bd1_row2_col2\" class=\"data row2 col2\" >0.540400</td>\n",
              "      <td id=\"T_b0bd1_row2_col3\" class=\"data row2 col3\" >0.380800</td>\n",
              "      <td id=\"T_b0bd1_row2_col4\" class=\"data row2 col4\" >0.446800</td>\n",
              "    </tr>\n",
              "    <tr>\n",
              "      <th id=\"T_b0bd1_level0_row3\" class=\"row_heading level0 row3\" >3</th>\n",
              "      <td id=\"T_b0bd1_row3_col0\" class=\"data row3 col0\" >4. SVM (balanceado)</td>\n",
              "      <td id=\"T_b0bd1_row3_col1\" class=\"data row3 col1\" >0.658100</td>\n",
              "      <td id=\"T_b0bd1_row3_col2\" class=\"data row3 col2\" >0.388300</td>\n",
              "      <td id=\"T_b0bd1_row3_col3\" class=\"data row3 col3\" >0.569400</td>\n",
              "      <td id=\"T_b0bd1_row3_col4\" class=\"data row3 col4\" >0.461800</td>\n",
              "    </tr>\n",
              "    <tr>\n",
              "      <th id=\"T_b0bd1_level0_row4\" class=\"row_heading level0 row4\" >4</th>\n",
              "      <td id=\"T_b0bd1_row4_col0\" class=\"data row4 col0\" >5. Random Forest (limitado)</td>\n",
              "      <td id=\"T_b0bd1_row4_col1\" class=\"data row4 col1\" >0.790100</td>\n",
              "      <td id=\"T_b0bd1_row4_col2\" class=\"data row4 col2\" >0.728100</td>\n",
              "      <td id=\"T_b0bd1_row4_col3\" class=\"data row4 col3\" >0.295400</td>\n",
              "      <td id=\"T_b0bd1_row4_col4\" class=\"data row4 col4\" >0.420300</td>\n",
              "    </tr>\n",
              "  </tbody>\n",
              "</table>\n"
            ]
          },
          "metadata": {},
          "execution_count": 150
        }
      ]
    },
    {
      "cell_type": "markdown",
      "source": [
        "###¿Cuál es el mejor modelo?\n",
        "\n",
        "####Modelo 1 - Regresión Logística\n",
        "####Es el modelo que tiene:\n",
        "\n",
        "####Mejor F1-Score.\n",
        "\n",
        "####Buen equilibrio entre precisión, recall y F1-Score .\n",
        "\n",
        "####Muy buena generalización (ya lo habías visto por la baja diferencia entre entrenamiento y validación).\n",
        "\n",
        "####Probablemente también el más estable y fácil de interpretar."
      ],
      "metadata": {
        "id": "fQA7xzWSkE6X"
      }
    },
    {
      "cell_type": "markdown",
      "source": [
        "###Modelo Regresión Logística"
      ],
      "metadata": {
        "id": "KlTH95G6lH_4"
      }
    },
    {
      "cell_type": "markdown",
      "source": [
        "###Matriz de confusión"
      ],
      "metadata": {
        "id": "AzOE-aOMlc_n"
      }
    },
    {
      "cell_type": "code",
      "source": [
        "from sklearn.metrics import confusion_matrix\n",
        "y_previsto = modelo1.predict(X_val)\n",
        "matriz_confusion1 = confusion_matrix(y_val,y_previsto)\n",
        "matriz_confusion1"
      ],
      "metadata": {
        "id": "smyhlmtrlsly",
        "colab": {
          "base_uri": "https://localhost:8080/"
        },
        "outputId": "abe0b18b-0870-4b6e-db26-d9387c168964"
      },
      "execution_count": 151,
      "outputs": [
        {
          "output_type": "execute_result",
          "data": {
            "text/plain": [
              "array([[1035,  112],\n",
              "       [ 193,  204]])"
            ]
          },
          "metadata": {},
          "execution_count": 151
        }
      ]
    },
    {
      "cell_type": "code",
      "source": [
        "from sklearn.metrics import ConfusionMatrixDisplay\n",
        "visualizacion = ConfusionMatrixDisplay(confusion_matrix=matriz_confusion1, display_labels=['Retención','Evasión'])\n",
        "visualizacion.plot();\n"
      ],
      "metadata": {
        "id": "-mUv61fOl2E-",
        "colab": {
          "base_uri": "https://localhost:8080/",
          "height": 503
        },
        "outputId": "64280044-0194-483f-a236-a24e0503a081"
      },
      "execution_count": 152,
      "outputs": [
        {
          "output_type": "display_data",
          "data": {
            "text/plain": [
              "<Figure size 800x550 with 2 Axes>"
            ],
            "image/png": "[encoded data removed]"
          },
          "metadata": {}
        }
      ]
    },
    {
      "cell_type": "markdown",
      "source": [
        "###Curva ROC"
      ],
      "metadata": {
        "id": "4Ql_5m3zoN-W"
      }
    },
    {
      "cell_type": "code",
      "source": [
        "from sklearn.metrics import RocCurveDisplay, roc_auc_score\n",
        "import matplotlib.pyplot as plt\n",
        "\n",
        "# Lista de modelos con sus nombres\n",
        "modelos = [\n",
        "    ('Regresión Logística', modelo1),\n",
        "    ('Árbol de Decisión', modelo2),\n",
        "    ('KNN', modelo3),\n",
        "    ('SVC', modelo4),\n",
        "    ('Random Forest', modelo5),\n",
        "]\n",
        "\n",
        "# Crear figura con 2 filas y 3 columnas\n",
        "fig, axes = plt.subplots(2, 3, figsize=(18, 10))  # 18 de ancho, 10 de alto\n",
        "axes = axes.flatten()  # Aplanar matriz de ejes para acceder con índice simple\n",
        "\n",
        "for i, (nombre, modelo) in enumerate(modelos):\n",
        "    ax = axes[i]\n",
        "\n",
        "    # Obtener probabilidades\n",
        "    if hasattr(modelo, \"predict_proba\"):\n",
        "        probas = modelo.predict_proba(X_val)[:, 1]\n",
        "    elif hasattr(modelo, \"decision_function\"):\n",
        "        probas = modelo.decision_function(X_val)\n",
        "    else:\n",
        "        print(f\"El modelo {nombre} no tiene método predict_proba ni decision_function.\")\n",
        "        continue\n",
        "\n",
        "    # Mostrar curva ROC\n",
        "    RocCurveDisplay.from_predictions(y_val, probas, ax=ax, name=nombre)\n",
        "\n",
        "    # Título con AUC\n",
        "    auc = roc_auc_score(y_val, probas)\n",
        "    ax.set_title(f\"{nombre}\\nAUC = {auc:.2f}\")\n",
        "    ax.grid(True)\n",
        "\n",
        "# Eliminar subplot vacío (el sexto, ya que solo hay 5 modelos)Modelo LogisticRegression\n",
        "fig.delaxes(axes[-1])\n",
        "\n",
        "plt.tight_layout()\n",
        "plt.show()\n"
      ],
      "metadata": {
        "id": "26uu3e9COS64",
        "colab": {
          "base_uri": "https://localhost:8080/",
          "height": 1000
        },
        "outputId": "0494a1d0-7062-47fa-b279-e78caf218be0"
      },
      "execution_count": 153,
      "outputs": [
        {
          "output_type": "display_data",
          "data": {
            "text/plain": [
              "<Figure size 1800x1000 with 5 Axes>"
            ],
            "image/png": "[encoded data removed]"
          },
          "metadata": {}
        }
      ]
    },
    {
      "cell_type": "markdown",
      "source": [
        "###Interpretación modelo por modelo:\n",
        "####1. Random Forest (AUC: 0.836)\n",
        "\n",
        "####Mejor rendimiento general.\n",
        "\n",
        "####Excelente capacidad para distinguir entre clientes que hacen churn y los que no.\n",
        "\n",
        "####Ideal para producción si no te preocupa la interpretabilidad.\n",
        "\n",
        "####Puede capturar relaciones no lineales y combinaciones de atributos complejas.\n",
        "\n",
        "####2. Regresión Logística (AUC: 0.833)\n",
        "\n",
        "####Muy cercano al Random Forest, lo cual es muy positivo.\n",
        "\n",
        "####Más interpretable: podés ver pesos/coefs de cada variable.\n",
        "\n",
        "####Excelente opción si necesitás justificar decisiones (por ejemplo, ante gerencia o auditoría).\n",
        "\n",
        "####Menos propenso a overfitting que árboles.\n",
        "\n",
        "####3. Árbol de Decisión (AUC: 0.752)\n",
        "\n",
        "#####Razonablemente bueno, pero significativamente más bajo.\n",
        "\n",
        "####Probablemente overfitea o no generaliza bien.\n",
        "\n",
        "####Sirve como base visual, pero mejor usar Random Forest.\n",
        "\n",
        "####4. KNN (AUC: 0.717)\n",
        "\n",
        "####AUC modesto → capacidad limitada de separación.\n",
        "\n",
        "####Suele verse afectado por escalado de datos, ruido y dimensionalidad.\n",
        "\n",
        "####No ideal para este problema a menos que mejores su entorno.\n",
        "\n",
        "####5. SVC (AUC: 0.702)\n",
        "\n",
        "####El más bajo del grupo.\n",
        "\n",
        "####Podría deberse a:\n",
        "\n",
        "####No haber hecho buen escalado de variables.\n",
        "\n",
        "####Kernel no óptimo.\n",
        "\n",
        "####Mal ajuste de hiperparámetros (C, gamma).\n",
        "\n",
        "####No es la mejor opción en este caso.\n",
        "\n",
        "####Conclusión general:\n",
        "\n",
        "####Tanto Random Forest como Regresión Logística tienen AUC altos (~0.83) → Son tus mejores modelos.\n",
        "\n",
        "####Si querés máxima precisión, usá Random Forest.\n",
        "\n",
        "####Si querés entendimiento claro del modelo, usá Regresión Logística.\n",
        "\n",
        "####Los demás modelos no ofrecen ventajas competitivas en este caso.\n",
        "\n"
      ],
      "metadata": {
        "id": "G6ETrgnTlaSS"
      }
    },
    {
      "cell_type": "markdown",
      "source": [
        "### Curva de precisión vs sensibilidad"
      ],
      "metadata": {
        "id": "Gpg5OPRyoed6"
      }
    },
    {
      "cell_type": "code",
      "source": [
        "from sklearn.metrics import PrecisionRecallDisplay, precision_recall_curve, average_precision_score\n",
        "import matplotlib.pyplot as plt\n",
        "\n",
        "# Lista de modelos y sus nombres\n",
        "modelos = [\n",
        "    ('Regresión Logística', modelo1),\n",
        "    ('Árbol de Decisión', modelo2),\n",
        "    ('KNN', modelo3),\n",
        "    ('SVC', modelo4),\n",
        "    ('Random Forest', modelo5),\n",
        "]\n",
        "\n",
        "# Crear subplots: 2 filas, 3 columnas\n",
        "fig, axes = plt.subplots(2, 3, figsize=(18, 10))\n",
        "axes = axes.flatten()  # Aplanar para acceder por índice\n",
        "\n",
        "for i, (nombre, modelo) in enumerate(modelos):\n",
        "    ax = axes[i]\n",
        "\n",
        "    # Obtener probabilidades para la clase positiva\n",
        "    if hasattr(modelo, \"predict_proba\"):\n",
        "        probas = modelo.predict_proba(X_val)[:, 1]\n",
        "    elif hasattr(modelo, \"decision_function\"):\n",
        "        probas = modelo.decision_function(X_val)\n",
        "    else:\n",
        "        print(f\"{nombre} no tiene método predict_proba ni decision_function.\")\n",
        "        continue\n",
        "\n",
        "    # Mostrar la curva Precision-Recall\n",
        "    PrecisionRecallDisplay.from_predictions(y_val, probas, ax=ax, name=nombre)\n",
        "\n",
        "    # También podés mostrar el Average Precision Score (opcional)\n",
        "    avg_precision = average_precision_score(y_val, probas)\n",
        "    ax.set_title(f\"{nombre}\\nAverage Precision = {avg_precision:.2f}\")\n",
        "    ax.grid(True)\n",
        "\n",
        "# Eliminar subplot vacío (el sexto)\n",
        "fig.delaxes(axes[-1])\n",
        "\n",
        "plt.tight_layout()\n",
        "plt.show()\n"
      ],
      "metadata": {
        "id": "S-Ty1sAIolcj",
        "colab": {
          "base_uri": "https://localhost:8080/",
          "height": 1000
        },
        "outputId": "057dfa05-2dfd-4ba8-ffac-c2345a9a8cc9"
      },
      "execution_count": 154,
      "outputs": [
        {
          "output_type": "display_data",
          "data": {
            "text/plain": [
              "<Figure size 1800x1000 with 5 Axes>"
            ],
            "image/png": "[encoded data removed]"
          },
          "metadata": {}
        }
      ]
    },
    {
      "cell_type": "code",
      "source": [
        "from sklearn.metrics import average_precision_score\n",
        "\n",
        "modelos = [\n",
        "    ('Regresión Logística', modelo1),\n",
        "    ('Árbol de Decisión', modelo2),\n",
        "    ('KNN', modelo3),\n",
        "    ('SVC', modelo4),\n",
        "    ('Random Forest', modelo5),\n",
        "]\n",
        "\n",
        "for nombre, modelo in modelos:\n",
        "    # Obtener probabilidades o scores continuos\n",
        "    if hasattr(modelo, \"predict_proba\"):\n",
        "        probas = modelo.predict_proba(X_val)[:, 1]\n",
        "    elif hasattr(modelo, \"decision_function\"):\n",
        "        probas = modelo.decision_function(X_val)\n",
        "    else:\n",
        "        print(f\" {nombre} no tiene método predict_proba ni decision_function.\")\n",
        "        continue\n",
        "\n",
        "    # Calcular average precision score\n",
        "    ap_score = average_precision_score(y_val, probas)\n",
        "    print(f\"Score promedio Precisión-Recall ({nombre}): {ap_score:.3f}\")\n"
      ],
      "metadata": {
        "id": "VuT39mwrtG0K",
        "colab": {
          "base_uri": "https://localhost:8080/"
        },
        "outputId": "6f38898c-8efd-494e-8062-a7f2e684c739"
      },
      "execution_count": 155,
      "outputs": [
        {
          "output_type": "stream",
          "name": "stdout",
          "text": [
            "Score promedio Precisión-Recall (Regresión Logística): 0.629\n",
            "Score promedio Precisión-Recall (Árbol de Decisión): 0.474\n",
            "Score promedio Precisión-Recall (KNN): 0.452\n",
            "Score promedio Precisión-Recall (SVC): 0.509\n",
            "Score promedio Precisión-Recall (Random Forest): 0.632\n"
          ]
        }
      ]
    },
    {
      "cell_type": "markdown",
      "source": [
        "###¿Qué significa?\n",
        "\n",
        "####Cuanto más alto el Average Precision, mejor el modelo detecta correctamente la clase positiva con el menor costo\n",
        "####de falsos positivos.\n",
        "\n",
        "####Random Forest y Regresión Logística probablemente tengan el mejor trade-off en tu caso."
      ],
      "metadata": {
        "id": "OSikgyFyt2Yd"
      }
    },
    {
      "cell_type": "markdown",
      "source": [
        "### Informe de métricas"
      ],
      "metadata": {
        "id": "i9mD4floyqrp"
      }
    },
    {
      "cell_type": "code",
      "source": [
        "from sklearn.metrics import classification_report\n",
        "\n",
        "modelos = [\n",
        "    ('Regresión Logística', modelo1),\n",
        "    ('Árbol de Decisión', modelo2),\n",
        "    ('KNN', modelo3),\n",
        "    ('SVC', modelo4),\n",
        "    ('Random Forest', modelo5),\n",
        "]\n",
        "\n",
        "for nombre, modelo in modelos:\n",
        "    print(f\"\\n Reporte de clasificación: {nombre}\")\n",
        "    y_pred = modelo.predict(X_val)\n",
        "    print(classification_report(y_val, y_pred, digits=3))\n"
      ],
      "metadata": {
        "id": "XmHmZS1D1TxJ",
        "colab": {
          "base_uri": "https://localhost:8080/"
        },
        "outputId": "f865840e-9f57-42e7-db76-04da91e51404"
      },
      "execution_count": 156,
      "outputs": [
        {
          "output_type": "stream",
          "name": "stdout",
          "text": [
            "\n",
            " Reporte de clasificación: Regresión Logística\n",
            "              precision    recall  f1-score   support\n",
            "\n",
            "           0      0.843     0.902     0.872      1147\n",
            "           1      0.646     0.514     0.572       397\n",
            "\n",
            "    accuracy                          0.802      1544\n",
            "   macro avg      0.744     0.708     0.722      1544\n",
            "weighted avg      0.792     0.802     0.795      1544\n",
            "\n",
            "\n",
            " Reporte de clasificación: Árbol de Decisión\n",
            "              precision    recall  f1-score   support\n",
            "\n",
            "           0      0.849     0.855     0.852      1147\n",
            "           1      0.572     0.559     0.566       397\n",
            "\n",
            "    accuracy                          0.779      1544\n",
            "   macro avg      0.710     0.707     0.709      1544\n",
            "weighted avg      0.778     0.779     0.778      1544\n",
            "\n",
            "\n",
            " Reporte de clasificación: KNN\n",
            "              precision    recall  f1-score   support\n",
            "\n",
            "           0      0.814     0.862     0.837      1147\n",
            "           1      0.520     0.431     0.471       397\n",
            "\n",
            "    accuracy                          0.751      1544\n",
            "   macro avg      0.667     0.646     0.654      1544\n",
            "weighted avg      0.738     0.751     0.743      1544\n",
            "\n",
            "\n",
            " Reporte de clasificación: SVC\n",
            "              precision    recall  f1-score   support\n",
            "\n",
            "           0      0.821     0.701     0.756      1147\n",
            "           1      0.393     0.559     0.462       397\n",
            "\n",
            "    accuracy                          0.665      1544\n",
            "   macro avg      0.607     0.630     0.609      1544\n",
            "weighted avg      0.711     0.665     0.681      1544\n",
            "\n",
            "\n",
            " Reporte de clasificación: Random Forest\n",
            "              precision    recall  f1-score   support\n",
            "\n",
            "           0      0.799     0.956     0.871      1147\n",
            "           1      0.708     0.305     0.426       397\n",
            "\n",
            "    accuracy                          0.789      1544\n",
            "   macro avg      0.753     0.631     0.648      1544\n",
            "weighted avg      0.775     0.789     0.756      1544\n",
            "\n"
          ]
        }
      ]
    },
    {
      "cell_type": "markdown",
      "source": [
        "###Resumen comparativo por clase 1 (churn):\n",
        "\n",
        "| Modelo             | Precisión (1) | Recall (1) | F1-score (1) | Accuracy |\n",
        "| ------------------ | ------------- | ---------- | ------------ | -------- |\n",
        "| **Reg. Logística** | 0.646         | 0.514      | 0.572        | 0.802    |\n",
        "| **Árbol Decisión** | 0.573         | 0.562      | 0.567        | 0.780    |\n",
        "| **KNN**            | 0.520         | 0.431      | 0.471        | 0.751    |\n",
        "| **SVC**            | 0.393         | 0.559      | 0.462        | 0.665    |\n",
        "| **Random Forest**  | 0.708         | 0.305      | 0.426        | 0.789    |\n",
        "\n",
        "###Análisis y conclusiones:\n",
        "###Regresión Logística:\n",
        "\n",
        "####El mejor equilibrio entre precisión y recall en clase 1.\n",
        "\n",
        "####F1-score más alto para clase 1 (0.572).\n",
        "\n",
        "####Buena accuracy general (0.802).\n",
        "\n",
        "####Ideal si querés buen rendimiento general y entendimiento del modelo.\n",
        "\n",
        "###Árbol de Decisión:\n",
        "\n",
        "###Similar a regresión logística pero ligeramente inferior.\n",
        "\n",
        "###Mejor recall que Random Forest.\n",
        "\n",
        "###F1-score cercano (0.567).\n",
        "\n",
        "###Random Forest:\n",
        "\n",
        "###Tiene la mayor precisión en clase 1 (0.708), pero un recall muy bajo (0.305).\n",
        "\n",
        "###F1-score bajo (0.426) porque detecta muy pocos churns reales.\n",
        "\n",
        "###Puede estar favoreciendo la clase mayoritaria (0), típico cuando no se balancean clases.\n",
        "\n",
        "###KNN y SVC:\n",
        "\n",
        "###Ambos tienen bajo recall y bajo f1-score en clase 1.\n",
        "\n",
        "###No recomendables en este caso sin ajustes.\n",
        "\n",
        "###Conclusión final:\n",
        "\n",
        "###El modelo que mejor valúa los datos según las métricas es la Regresión Logística.\n",
        "###Tiene el mejor F1-score en clase 1, y un balance aceptable entre precisión, recall y accuracy.\n",
        "\n",
        "\n"
      ],
      "metadata": {
        "id": "SwjmqRN28Zae"
      }
    },
    {
      "cell_type": "markdown",
      "source": [
        "#--------------------------------------------------------------------------------------------------------------------------------------"
      ],
      "metadata": {
        "id": "4R5uwRFGIfI9"
      }
    },
    {
      "cell_type": "markdown",
      "source": [
        "###Habiendo realizado los correspondientes procesos validación de modelos y métricas de evaluación el modelo que tuvo mejor performance es el MODELO DE REGRESION LOGISTICA (LogisticRegression)\n",
        "\n",
        "####El modelo de regresión logística es un algoritmo de Machine Learning supervisado que se utiliza principalmente para resolver problemas de clasificación binaria (aunque también puede extenderse a multiclase).\n",
        "\n",
        "####¿Qué hace?\n",
        "\n",
        "####Predice la probabilidad de que una observación pertenezca a una clase específica. Por ejemplo:\n",
        "\n",
        "####¿Un cliente se dará de baja o no? (Churn = 1 o 0)\n",
        "\n",
        "####¿Un correo es spam o no? (Spam = Sí o No)\n",
        "\n",
        "####¿Un tumor es maligno o benigno?\n",
        "\n",
        "####OBJETIVO:\n",
        "\n",
        "####Predecir si un cliente se dará de baja (Churn = 1) o seguirá activo (Churn = 0)."
      ],
      "metadata": {
        "id": "FRcvjaUPFFkz"
      }
    },
    {
      "cell_type": "markdown",
      "source": [
        "#---------------------------------------------------------------------------------------------------------------------------------------------------"
      ],
      "metadata": {
        "id": "rozl1e-MIwVQ"
      }
    },
    {
      "cell_type": "markdown",
      "source": [
        "###Validación cruzada"
      ],
      "metadata": {
        "id": "PE2jsqbQrozr"
      }
    },
    {
      "cell_type": "markdown",
      "source": [
        "###Modelo LogisticRegression"
      ],
      "metadata": {
        "id": "Sh8mVh4ps_Fa"
      }
    },
    {
      "cell_type": "code",
      "source": [
        "from sklearn.model_selection import KFold,cross_validate"
      ],
      "metadata": {
        "id": "nX0uAfQTtIC2"
      },
      "execution_count": 157,
      "outputs": []
    },
    {
      "cell_type": "code",
      "source": [
        "kf = KFold(n_splits=5,shuffle=True,random_state=5)\n",
        "cv_resultados1 = cross_validate(modelo1,X,y,cv=kf)\n",
        "print(f\"El test_score es: {cv_resultados1['test_score']}\")\n",
        "promedio = cv_resultados1['test_score'].mean()\n",
        "desvio_std = cv_resultados1['test_score'].std()\n",
        "print(f'El promedio de exactitud es de: {promedio}')\n",
        "print(f'El desvio estandar de exactitud es de: {desvio_std}')\n",
        "print(f'El intervalo de confianza es de: {promedio-2*desvio_std},{min(promedio+2*desvio_std,1)}')"
      ],
      "metadata": {
        "id": "AHeeCgCntPTb",
        "colab": {
          "base_uri": "https://localhost:8080/"
        },
        "outputId": "52b825b9-76f4-45c7-b1fe-35213ae5546a"
      },
      "execution_count": 158,
      "outputs": [
        {
          "output_type": "stream",
          "name": "stdout",
          "text": [
            "El test_score es: [0.79854369 0.78704453 0.80080972 0.8097166  0.82024291]\n",
            "El promedio de exactitud es de: 0.8032714909005149\n",
            "El desvio estandar de exactitud es de: 0.011147154017821582\n",
            "El intervalo de confianza es de: 0.7809771828648717,0.825565798936158\n"
          ]
        }
      ]
    },
    {
      "cell_type": "markdown",
      "source": [
        "###Árbol de decición"
      ],
      "metadata": {
        "id": "Zrl-K50axpQA"
      }
    },
    {
      "cell_type": "code",
      "source": [
        "kf = KFold(n_splits=5,shuffle=True,random_state=5)\n",
        "cv_resultados2 = cross_validate(modelo2,X,y,cv=kf)\n",
        "print(f\"El test_score es: {cv_resultados2['test_score']}\")\n",
        "promedio = cv_resultados2['test_score'].mean()\n",
        "desvio_std = cv_resultados2['test_score'].std()\n",
        "print(f'El promedio de exactitud es de: {promedio}')\n",
        "print(f'El desvio estandar de exactitud es de: {desvio_std}')\n",
        "print(f'El intervalo de confianza es de: {promedio-2*desvio_std},{min(promedio+2*desvio_std,1)}')"
      ],
      "metadata": {
        "id": "6Vl5lLSJxylS",
        "colab": {
          "base_uri": "https://localhost:8080/"
        },
        "outputId": "11821de0-1347-4a20-c085-5781d32054a3"
      },
      "execution_count": 159,
      "outputs": [
        {
          "output_type": "stream",
          "name": "stdout",
          "text": [
            "El test_score es: [0.75970874 0.74898785 0.76680162 0.76842105 0.77165992]\n",
            "El promedio de exactitud es de: 0.7631158366416415\n",
            "El desvio estandar de exactitud es de: 0.008073906908394822\n",
            "El intervalo de confianza es de: 0.7469680228248519,0.7792636504584312\n"
          ]
        }
      ]
    },
    {
      "cell_type": "markdown",
      "source": [
        "###Modelo KNN"
      ],
      "metadata": {
        "id": "ccN_-fB0yN0C"
      }
    },
    {
      "cell_type": "code",
      "source": [
        "kf = KFold(n_splits=5,shuffle=True,random_state=5)\n",
        "cv_resultados3 = cross_validate(modelo3,X,y,cv=kf)\n",
        "print(f\"El test_score es: {cv_resultados3['test_score']}\")\n",
        "promedio = cv_resultados3['test_score'].mean()\n",
        "desvio_std = cv_resultados3['test_score'].std()\n",
        "print(f'El promedio de exactitud es de: {promedio}')\n",
        "print(f'El desvio estandar de exactitud es de: {desvio_std}')\n",
        "print(f'El intervalo de confianza es de: {promedio-2*desvio_std},{min(promedio+2*desvio_std,1)}')"
      ],
      "metadata": {
        "id": "Jni21187yVdZ",
        "colab": {
          "base_uri": "https://localhost:8080/"
        },
        "outputId": "2d31c776-4cc3-41c8-c9a2-fede9c8c051d"
      },
      "execution_count": 160,
      "outputs": [
        {
          "output_type": "stream",
          "name": "stdout",
          "text": [
            "El test_score es: [0.7710356  0.76032389 0.7708502  0.7562753  0.7708502 ]\n",
            "El promedio de exactitud es de: 0.7658670387694404\n",
            "El desvio estandar de exactitud es de: 0.006310400465693954\n",
            "El intervalo de confianza es de: 0.7532462378380524,0.7784878397008284\n"
          ]
        }
      ]
    },
    {
      "cell_type": "markdown",
      "source": [
        "###Modelo SVC (Support Vector Classifier)"
      ],
      "metadata": {
        "id": "suNPO-RnyzU2"
      }
    },
    {
      "cell_type": "code",
      "source": [
        "kf = KFold(n_splits=5,shuffle=True,random_state=5)\n",
        "cv_resultados4 = cross_validate(modelo4,X,y,cv=kf)\n",
        "print(f\"El test_score es: {cv_resultados4['test_score']}\")\n",
        "promedio = cv_resultados4['test_score'].mean()\n",
        "desvio_std = cv_resultados4['test_score'].std()\n",
        "print(f'El promedio de exactitud es de: {promedio}')\n",
        "print(f'El desvio estandar de exactitud es de: {desvio_std}')\n",
        "print(f'El intervalo de confianza es de: {promedio-2*desvio_std},{min(promedio+2*desvio_std,1)}')"
      ],
      "metadata": {
        "id": "9tG5E1Poy_m9",
        "colab": {
          "base_uri": "https://localhost:8080/"
        },
        "outputId": "75238e0a-af65-4644-8a24-c0cd74522798"
      },
      "execution_count": 161,
      "outputs": [
        {
          "output_type": "stream",
          "name": "stdout",
          "text": [
            "El test_score es: [0.66504854 0.67449393 0.66882591 0.68340081 0.64696356]\n",
            "El promedio de exactitud es de: 0.6677465508431273\n",
            "El desvio estandar de exactitud es de: 0.012090986414087155\n",
            "El intervalo de confianza es de: 0.6435645780149529,0.6919285236713016\n"
          ]
        }
      ]
    },
    {
      "cell_type": "markdown",
      "source": [
        "###Modelo RamdomForetClassifier"
      ],
      "metadata": {
        "id": "Q_oBXhglzaiz"
      }
    },
    {
      "cell_type": "code",
      "source": [
        "kf = KFold(n_splits=5,shuffle=True,random_state=5)\n",
        "cv_resultados5 = cross_validate(modelo5,X,y,cv=kf)\n",
        "print(f\"El test_score es: {cv_resultados5['test_score']}\")\n",
        "promedio = cv_resultados5['test_score'].mean()\n",
        "desvio_std = cv_resultados5['test_score'].std()\n",
        "print(f'El promedio de exactitud es de: {promedio}')\n",
        "print(f'El desvio estandar de exactitud es de: {desvio_std}')\n",
        "print(f'El intervalo de confianza es de: {promedio-2*desvio_std},{min(promedio+2*desvio_std,1)}')"
      ],
      "metadata": {
        "id": "d4sCJQOzzmdB",
        "colab": {
          "base_uri": "https://localhost:8080/"
        },
        "outputId": "d3ebfcff-a141-4c4a-95c6-1d4debdc9c38"
      },
      "execution_count": 162,
      "outputs": [
        {
          "output_type": "stream",
          "name": "stdout",
          "text": [
            "El test_score es: [0.79692557 0.7757085  0.77732794 0.78704453 0.79352227]\n",
            "El promedio de exactitud es de: 0.7861057610418878\n",
            "El desvio estandar de exactitud es de: 0.008462945906455877\n",
            "El intervalo de confianza es de: 0.7691798692289761,0.8030316528547995\n"
          ]
        }
      ]
    },
    {
      "cell_type": "markdown",
      "source": [
        "###En la Validación Cruzada el modelo que tuvo mejor desempeño fue el\n",
        "###Modelo LogisticRegression\n",
        "\n",
        "###El test_score es: [0.79854369 0.78704453 0.80080972 0.8097166  0.82024291]\n",
        "\n",
        "###El promedio de exactitud es de: 0.8032714909005149\n",
        "\n",
        "###El desvio estandar de exactitud es de: 0.011147154017821582\n",
        "\n",
        "###El intervalo de confianza es de: 0.7809771828648717,0.825565798936158\n",
        "\n",
        "###En la Validación Cruzada se determina la exactitud del modelo entrenado. No es suficiente hay que mejorar el Recall osea mide la proporción de datos positivos que fueron correctamente identificados por el modelo(FalsosNegativos(FN)); para eso haremos la Validación Cruzada con Sensibilidad."
      ],
      "metadata": {
        "id": "RLoEwU6X2U9x"
      }
    },
    {
      "cell_type": "markdown",
      "source": [
        "### Validación cruzada con sensibilidad"
      ],
      "metadata": {
        "id": "PwpdVvS592gJ"
      }
    },
    {
      "cell_type": "code",
      "source": [
        "def intervalo_confianza(resultados):\n",
        " promedio = resultados['test_score'].mean()\n",
        " desvio_std = resultados['test_score'].std()\n",
        " return (f'El intervalo de confianza es de: {promedio-2*desvio_std},{min(promedio+2*desvio_std,1)}')"
      ],
      "metadata": {
        "id": "iSfpQ1yOBO8F"
      },
      "execution_count": 163,
      "outputs": []
    },
    {
      "cell_type": "markdown",
      "source": [
        "###Modelo LogisticRegression"
      ],
      "metadata": {
        "id": "8as1ASwuB-32"
      }
    },
    {
      "cell_type": "code",
      "source": [
        "kf = KFold(n_splits=5,shuffle=True,random_state=5)\n",
        "cv_resultados1 = cross_validate(modelo1,X,y,cv=kf,scoring='recall')\n",
        "print(f\"El test_score es: {cv_resultados1['test_score']}\")\n",
        "print(intervalo_confianza(cv_resultados1))"
      ],
      "metadata": {
        "id": "zd8PyKAHCLUI",
        "colab": {
          "base_uri": "https://localhost:8080/"
        },
        "outputId": "8adc46e3-c710-4acb-cb54-4140e6e3b9a1"
      },
      "execution_count": 164,
      "outputs": [
        {
          "output_type": "stream",
          "name": "stdout",
          "text": [
            "El test_score es: [0.4829932  0.49074074 0.48929664 0.55172414 0.54012346]\n",
            "El intervalo de confianza es de: 0.4532003257754085,0.5687509417551662\n"
          ]
        }
      ]
    },
    {
      "cell_type": "markdown",
      "source": [
        "###Modelo Árbol de Decisión"
      ],
      "metadata": {
        "id": "yzqR03yIRJx6"
      }
    },
    {
      "cell_type": "code",
      "source": [
        "kf = KFold(n_splits=5,shuffle=True,random_state=5)\n",
        "cv_resultados2 = cross_validate(modelo2,X,y,cv=kf,scoring='recall')\n",
        "print(f\"El test_score es: {cv_resultados2['test_score']}\")\n",
        "print(intervalo_confianza(cv_resultados2))"
      ],
      "metadata": {
        "id": "WrXd-i9fRS0t",
        "colab": {
          "base_uri": "https://localhost:8080/"
        },
        "outputId": "15419e61-0302-471f-c911-1c96a6da2603"
      },
      "execution_count": 165,
      "outputs": [
        {
          "output_type": "stream",
          "name": "stdout",
          "text": [
            "El test_score es: [0.53061224 0.4845679  0.42201835 0.57680251 0.50308642]\n",
            "El intervalo de confianza es de: 0.4010215769033987,0.6058133920351843\n"
          ]
        }
      ]
    },
    {
      "cell_type": "markdown",
      "source": [
        "###Modelo KNN"
      ],
      "metadata": {
        "id": "IcHNCPKHSFKQ"
      }
    },
    {
      "cell_type": "code",
      "source": [
        "kf = KFold(n_splits=5,shuffle=True,random_state=5)\n",
        "cv_resultados3 = cross_validate(modelo3,X,y,cv=kf,scoring='recall')\n",
        "print(f\"El test_score es: {cv_resultados3['test_score']}\")\n",
        "print(intervalo_confianza(cv_resultados3))"
      ],
      "metadata": {
        "id": "ljVSzxlCSNkG",
        "colab": {
          "base_uri": "https://localhost:8080/"
        },
        "outputId": "9a992218-4c6b-4503-887f-d74145c2cc61"
      },
      "execution_count": 166,
      "outputs": [
        {
          "output_type": "stream",
          "name": "stdout",
          "text": [
            "El test_score es: [0.39795918 0.43209877 0.40366972 0.4169279  0.44444444]\n",
            "El intervalo de confianza es de: 0.3843671849776637,0.4536728222252064\n"
          ]
        }
      ]
    },
    {
      "cell_type": "markdown",
      "source": [
        "###Modelo SVC (Support Vector Classifier)"
      ],
      "metadata": {
        "id": "7BzjnYTqShjZ"
      }
    },
    {
      "cell_type": "code",
      "source": [
        "kf = KFold(n_splits=5,shuffle=True,random_state=5)\n",
        "cv_resultados4 = cross_validate(modelo4,X,y,cv=kf,scoring='recall')\n",
        "print(f\"El test_score es: {cv_resultados4['test_score']}\")\n",
        "print(intervalo_confianza(cv_resultados4))"
      ],
      "metadata": {
        "id": "YUI6NHBuSsGX",
        "colab": {
          "base_uri": "https://localhost:8080/"
        },
        "outputId": "10599ba3-73f3-4fa3-9709-79666cdc5726"
      },
      "execution_count": 167,
      "outputs": [
        {
          "output_type": "stream",
          "name": "stdout",
          "text": [
            "El test_score es: [0.54421769 0.55864198 0.56880734 0.56426332 0.58950617]\n",
            "El intervalo de confianza es de: 0.5355863580135272,0.5945882410090855\n"
          ]
        }
      ]
    },
    {
      "cell_type": "markdown",
      "source": [
        "###Modelo RamdomForetClassifier"
      ],
      "metadata": {
        "id": "ypHwtc8wTADu"
      }
    },
    {
      "cell_type": "code",
      "source": [
        "kf = KFold(n_splits=5,shuffle=True,random_state=5)\n",
        "cv_resultados5 = cross_validate(modelo5,X,y,cv=kf,scoring='recall')\n",
        "print(f\"El test_score es: {cv_resultados5['test_score']}\")\n",
        "print(intervalo_confianza(cv_resultados5))"
      ],
      "metadata": {
        "id": "cCDrkwFnTJTs",
        "colab": {
          "base_uri": "https://localhost:8080/"
        },
        "outputId": "f2355d1d-d95f-43be-879e-55952965cef3"
      },
      "execution_count": 168,
      "outputs": [
        {
          "output_type": "stream",
          "name": "stdout",
          "text": [
            "El test_score es: [0.27210884 0.27469136 0.28746177 0.28526646 0.31481481]\n",
            "El intervalo de confianza es de: 0.25653655077181986,0.31720074833117123\n"
          ]
        }
      ]
    },
    {
      "cell_type": "markdown",
      "source": [
        "###Comparación de modelos según recall:\n",
        "\n",
        "| Modelo      | Recall Promedio | Intervalo de Confianza |\n",
        "| ----------- | --------------- | ---------------------- |\n",
        "| **modelo1** | 0.5114          | \\[0.4532, 0.5688]      |\n",
        "| **modelo2** | 0.5056          | \\[0.3965, 0.6140]      |\n",
        "| **modelo3** | 0.4190          | \\[0.3844, 0.4537]      |\n",
        "| **modelo4** | **0.5651**      | **\\[0.5356, 0.5946]**  |\n",
        "| **modelo5** | 0.2869          | \\[0.2565, 0.3172]      |\n",
        "\n",
        "####El modelo 4 es claramente el mejor en cuanto a recall:\n",
        "\n",
        "####Tiene el recall promedio más alto (0.5651)\n",
        "\n",
        "####Su intervalo de confianza está completamente por encima del resto (ni siquiera se solapa con modelos como el 3 o el 5).\n",
        "\n",
        "####Es también más consistente, ya que su desviación estándar es baja comparada con modelo2, por ejemplo."
      ],
      "metadata": {
        "id": "exXE5n27rZmn"
      }
    },
    {
      "cell_type": "markdown",
      "source": [
        "###Stratfield Kfold Estratificando los datos"
      ],
      "metadata": {
        "id": "Jd5axl1ATwWb"
      }
    },
    {
      "cell_type": "code",
      "source": [
        "from sklearn.model_selection import StratifiedKFold"
      ],
      "metadata": {
        "id": "p-hysuVdVo7z"
      },
      "execution_count": 169,
      "outputs": []
    },
    {
      "cell_type": "markdown",
      "source": [
        "###Modelo LogisticRegression"
      ],
      "metadata": {
        "id": "jH6hgmJ9WGwb"
      }
    },
    {
      "cell_type": "code",
      "source": [
        "skf = StratifiedKFold(n_splits=5,shuffle=True,random_state=5)\n",
        "cv_resultados1 = cross_validate(modelo1,X,y,cv=skf,scoring='recall')\n",
        "print(f\"El test_score es: {cv_resultados1['test_score']}\")\n",
        "print(intervalo_confianza(cv_resultados1))"
      ],
      "metadata": {
        "id": "xAIW2igvWQSH",
        "colab": {
          "base_uri": "https://localhost:8080/"
        },
        "outputId": "a93ab581-8369-4599-9747-e99534bbf0ba"
      },
      "execution_count": 170,
      "outputs": [
        {
          "output_type": "stream",
          "name": "stdout",
          "text": [
            "El test_score es: [0.46855346 0.47003155 0.53943218 0.48742138 0.53773585]\n",
            "El intervalo de confianza es de: 0.4372497725922656,0.5640199930962847\n"
          ]
        }
      ]
    },
    {
      "cell_type": "markdown",
      "source": [
        "###Modelo Árbol de Decisión"
      ],
      "metadata": {
        "id": "bCcEGEuLXNhl"
      }
    },
    {
      "cell_type": "code",
      "source": [
        "skf = StratifiedKFold(n_splits=5,shuffle=True,random_state=5)\n",
        "cv_resultados2 = cross_validate(modelo2,X,y,cv=skf,scoring='recall')\n",
        "print(f\"El test_score es: {cv_resultados2['test_score']}\")\n",
        "print(intervalo_confianza(cv_resultados2))"
      ],
      "metadata": {
        "id": "RTV-3lfoXWGN",
        "colab": {
          "base_uri": "https://localhost:8080/"
        },
        "outputId": "ac37ee94-51bc-4566-e30d-67b0f0ab1f7c"
      },
      "execution_count": 171,
      "outputs": [
        {
          "output_type": "stream",
          "name": "stdout",
          "text": [
            "El test_score es: [0.49056604 0.5362776  0.58044164 0.49371069 0.49371069]\n",
            "El intervalo de confianza es de: 0.44873499731232175,0.5891476684020207\n"
          ]
        }
      ]
    },
    {
      "cell_type": "markdown",
      "source": [
        "###Modelo KNN"
      ],
      "metadata": {
        "id": "wDtEbvWDXxlK"
      }
    },
    {
      "cell_type": "code",
      "source": [
        "skf = StratifiedKFold(n_splits=5,shuffle=True,random_state=5)\n",
        "cv_resultados3 = cross_validate(modelo3,X,y,cv=skf,scoring='recall')\n",
        "print(f\"El test_score es: {cv_resultados3['test_score']}\")\n",
        "print(intervalo_confianza(cv_resultados3))"
      ],
      "metadata": {
        "id": "0bgzJoJPX4MJ",
        "colab": {
          "base_uri": "https://localhost:8080/"
        },
        "outputId": "a8da1778-0640-4cb6-cac3-b1f17ad45a61"
      },
      "execution_count": 172,
      "outputs": [
        {
          "output_type": "stream",
          "name": "stdout",
          "text": [
            "El test_score es: [0.42767296 0.37223975 0.49211356 0.40880503 0.41194969]\n",
            "El intervalo de confianza es de: 0.3440820161474486,0.501030377956077\n"
          ]
        }
      ]
    },
    {
      "cell_type": "markdown",
      "source": [
        "###Modelo SVC (Support Vector Classifier)"
      ],
      "metadata": {
        "id": "yveG8ZUdYLty"
      }
    },
    {
      "cell_type": "code",
      "source": [
        "skf = StratifiedKFold(n_splits=5,shuffle=True,random_state=5)\n",
        "cv_resultados4 = cross_validate(modelo4,X,y,cv=skf,scoring='recall')\n",
        "print(f\"El test_score es: {cv_resultados4['test_score']}\")\n",
        "print(intervalo_confianza(cv_resultados4))"
      ],
      "metadata": {
        "id": "fNdUPdOdYSf8",
        "colab": {
          "base_uri": "https://localhost:8080/"
        },
        "outputId": "482384d8-e9be-4492-ee2d-ed9a7531b24e"
      },
      "execution_count": 173,
      "outputs": [
        {
          "output_type": "stream",
          "name": "stdout",
          "text": [
            "El test_score es: [0.55974843 0.53312303 0.66246057 0.49371069 0.55031447]\n",
            "El intervalo de confianza es de: 0.44776933217334086,0.6719735402747276\n"
          ]
        }
      ]
    },
    {
      "cell_type": "markdown",
      "source": [
        "###Modelo RamdomForetClassifier"
      ],
      "metadata": {
        "id": "lzq1Wz2nYpJH"
      }
    },
    {
      "cell_type": "code",
      "source": [
        "skf = StratifiedKFold(n_splits=5,shuffle=True,random_state=5)\n",
        "cv_resultados5 = cross_validate(modelo5,X,y,cv=skf,scoring='recall')\n",
        "print(f\"El test_score es: {cv_resultados5['test_score']}\")\n",
        "print(intervalo_confianza(cv_resultados5))"
      ],
      "metadata": {
        "id": "M7sRahJtYx-7",
        "colab": {
          "base_uri": "https://localhost:8080/"
        },
        "outputId": "a5347ed4-195e-43a5-a352-5d317570c255"
      },
      "execution_count": 174,
      "outputs": [
        {
          "output_type": "stream",
          "name": "stdout",
          "text": [
            "El test_score es: [0.29874214 0.25867508 0.30283912 0.27672956 0.29245283]\n",
            "El intervalo de confianza es de: 0.253390528517394,0.3183849610367992\n"
          ]
        }
      ]
    },
    {
      "cell_type": "markdown",
      "source": [
        "###Comparativa de modelos (StratifiedKFold, métrica = recall):\n",
        "\n",
        "| Modelo      | Recall promedio | Intervalo de Confianza  |\n",
        "| ----------- | --------------- | ----------------------- |\n",
        "| **modelo1** | 0.5006          | \\[0.4372, 0.5640]       |\n",
        "| **modelo2** | 0.5126          | \\[0.4437, 0.5816]       |\n",
        "| **modelo3** | 0.4226          | \\[0.3441, 0.5010]       |\n",
        "| **modelo4** | **0.5595**      | **\\[0.4478, 0.6720]**   |\n",
        "| **modelo5** | 0.2851          | \\[0.2534, 0.3184]       |\n",
        "\n",
        "###El modelo 4 es nuevamente el mejor:\n",
        "\n",
        "###Tiene el recall más alto (0.5595).\n",
        "\n",
        "###Su intervalo de confianza es el más alto y más amplio.\n",
        "\n",
        "###El límite inferior del IC de modelo4 (0.4478) supera o iguala al promedio de todos los demás modelos.\n",
        "\n",
        "###Además, es el único que alcanza valores por encima de 0.66 en algunas folds, lo que indica que puede tener alto poder predictivo en algunos subconjuntos."
      ],
      "metadata": {
        "id": "uBzpr7JptZ2E"
      }
    },
    {
      "cell_type": "markdown",
      "source": [
        "###Balanceo de Datos\n",
        "\n",
        "###Oversampling"
      ],
      "metadata": {
        "id": "_bpB3Ug7uLN7"
      }
    },
    {
      "cell_type": "code",
      "source": [
        "TelecomX2['Churn'].value_counts()"
      ],
      "metadata": {
        "colab": {
          "base_uri": "https://localhost:8080/",
          "height": 179
        },
        "id": "PAMxECSsndZw",
        "outputId": "09e78a45-eca6-4bcc-fbab-2e0f7dcc9203"
      },
      "execution_count": 175,
      "outputs": [
        {
          "output_type": "execute_result",
          "data": {
            "text/plain": [
              "Churn\n",
              "0    5398\n",
              "1    1869\n",
              "Name: count, dtype: int64"
            ],
            "text/html": [
              "<div>\n",
              "<style scoped>\n",
              "    .dataframe tbody tr th:only-of-type {\n",
              "        vertical-align: middle;\n",
              "    }\n",
              "\n",
              "    .dataframe tbody tr th {\n",
              "        vertical-align: top;\n",
              "    }\n",
              "\n",
              "    .dataframe thead th {\n",
              "        text-align: right;\n",
              "    }\n",
              "</style>\n",
              "<table border=\"1\" class=\"dataframe\">\n",
              "  <thead>\n",
              "    <tr style=\"text-align: right;\">\n",
              "      <th></th>\n",
              "      <th>count</th>\n",
              "    </tr>\n",
              "    <tr>\n",
              "      <th>Churn</th>\n",
              "      <th></th>\n",
              "    </tr>\n",
              "  </thead>\n",
              "  <tbody>\n",
              "    <tr>\n",
              "      <th>0</th>\n",
              "      <td>5398</td>\n",
              "    </tr>\n",
              "    <tr>\n",
              "      <th>1</th>\n",
              "      <td>1869</td>\n",
              "    </tr>\n",
              "  </tbody>\n",
              "</table>\n",
              "</div><br><label><b>dtype:</b> int64</label>"
            ]
          },
          "metadata": {},
          "execution_count": 175
        }
      ]
    },
    {
      "cell_type": "code",
      "source": [
        "TelecomX2['Churn'].value_counts(normalize=True)"
      ],
      "metadata": {
        "colab": {
          "base_uri": "https://localhost:8080/",
          "height": 179
        },
        "id": "4d9ubs5Gnf7Q",
        "outputId": "fa7bc03c-b63d-41b0-c1af-c16f6b714fc2"
      },
      "execution_count": 176,
      "outputs": [
        {
          "output_type": "execute_result",
          "data": {
            "text/plain": [
              "Churn\n",
              "0    0.74281\n",
              "1    0.25719\n",
              "Name: proportion, dtype: float64"
            ],
            "text/html": [
              "<div>\n",
              "<style scoped>\n",
              "    .dataframe tbody tr th:only-of-type {\n",
              "        vertical-align: middle;\n",
              "    }\n",
              "\n",
              "    .dataframe tbody tr th {\n",
              "        vertical-align: top;\n",
              "    }\n",
              "\n",
              "    .dataframe thead th {\n",
              "        text-align: right;\n",
              "    }\n",
              "</style>\n",
              "<table border=\"1\" class=\"dataframe\">\n",
              "  <thead>\n",
              "    <tr style=\"text-align: right;\">\n",
              "      <th></th>\n",
              "      <th>proportion</th>\n",
              "    </tr>\n",
              "    <tr>\n",
              "      <th>Churn</th>\n",
              "      <th></th>\n",
              "    </tr>\n",
              "  </thead>\n",
              "  <tbody>\n",
              "    <tr>\n",
              "      <th>0</th>\n",
              "      <td>0.74281</td>\n",
              "    </tr>\n",
              "    <tr>\n",
              "      <th>1</th>\n",
              "      <td>0.25719</td>\n",
              "    </tr>\n",
              "  </tbody>\n",
              "</table>\n",
              "</div><br><label><b>dtype:</b> float64</label>"
            ]
          },
          "metadata": {},
          "execution_count": 176
        }
      ]
    },
    {
      "cell_type": "code",
      "source": [
        "from imblearn.over_sampling import SMOTE\n",
        "oversampling = SMOTE()\n",
        "X_balanceada, y_balanceada = oversampling.fit_resample(X,y)\n",
        "y_balanceada.value_counts(normalize=True)"
      ],
      "metadata": {
        "id": "Y3CQZJ8aHszu",
        "colab": {
          "base_uri": "https://localhost:8080/",
          "height": 179
        },
        "outputId": "bd55a48f-bc8a-427a-e47a-b2ae1da9a511"
      },
      "execution_count": 177,
      "outputs": [
        {
          "output_type": "execute_result",
          "data": {
            "text/plain": [
              "Churn\n",
              "0    0.5\n",
              "1    0.5\n",
              "Name: proportion, dtype: float64"
            ],
            "text/html": [
              "<div>\n",
              "<style scoped>\n",
              "    .dataframe tbody tr th:only-of-type {\n",
              "        vertical-align: middle;\n",
              "    }\n",
              "\n",
              "    .dataframe tbody tr th {\n",
              "        vertical-align: top;\n",
              "    }\n",
              "\n",
              "    .dataframe thead th {\n",
              "        text-align: right;\n",
              "    }\n",
              "</style>\n",
              "<table border=\"1\" class=\"dataframe\">\n",
              "  <thead>\n",
              "    <tr style=\"text-align: right;\">\n",
              "      <th></th>\n",
              "      <th>proportion</th>\n",
              "    </tr>\n",
              "    <tr>\n",
              "      <th>Churn</th>\n",
              "      <th></th>\n",
              "    </tr>\n",
              "  </thead>\n",
              "  <tbody>\n",
              "    <tr>\n",
              "      <th>0</th>\n",
              "      <td>0.5</td>\n",
              "    </tr>\n",
              "    <tr>\n",
              "      <th>1</th>\n",
              "      <td>0.5</td>\n",
              "    </tr>\n",
              "  </tbody>\n",
              "</table>\n",
              "</div><br><label><b>dtype:</b> float64</label>"
            ]
          },
          "metadata": {},
          "execution_count": 177
        }
      ]
    },
    {
      "cell_type": "markdown",
      "source": [
        "###Modelo LogisticRegression"
      ],
      "metadata": {
        "id": "ov2vcvY-Iln0"
      }
    },
    {
      "cell_type": "code",
      "source": [
        "skf = StratifiedKFold(n_splits=5,shuffle=True,random_state=5)\n",
        "cv_resultados1 = cross_validate(modelo1,X_balanceada,y_balanceada,cv=skf,scoring='recall')\n",
        "print(f\"El test_score es: {cv_resultados1['test_score']}\")\n",
        "print(intervalo_confianza(cv_resultados1))"
      ],
      "metadata": {
        "id": "oq0FqKhXI2k7",
        "colab": {
          "base_uri": "https://localhost:8080/"
        },
        "outputId": "a5e8b803-2ee3-4ca1-e1c7-75f8d67f43be"
      },
      "execution_count": 178,
      "outputs": [
        {
          "output_type": "stream",
          "name": "stdout",
          "text": [
            "El test_score es: [0.8453159  0.84514722 0.85387132 0.8583878  0.84095861]\n",
            "El intervalo de confianza es de: 0.8359426397738815,0.8615296994586733\n"
          ]
        }
      ]
    },
    {
      "cell_type": "markdown",
      "source": [
        "###Modelo Árbol de Decisión"
      ],
      "metadata": {
        "id": "KGBjCvdgJSuM"
      }
    },
    {
      "cell_type": "code",
      "source": [
        "skf = StratifiedKFold(n_splits=5,shuffle=True,random_state=5)\n",
        "cv_resultados2 = cross_validate(modelo2,X_balanceada,y_balanceada,cv=skf,scoring='recall')\n",
        "print(f\"El test_score es: {cv_resultados2['test_score']}\")\n",
        "print(intervalo_confianza(cv_resultados2))"
      ],
      "metadata": {
        "id": "ozHbtZnkJZhC",
        "colab": {
          "base_uri": "https://localhost:8080/"
        },
        "outputId": "31a18eb3-4fdd-4e03-bc9f-1d6595e615f2"
      },
      "execution_count": 179,
      "outputs": [
        {
          "output_type": "stream",
          "name": "stdout",
          "text": [
            "El test_score es: [0.83551198 0.82769902 0.83969466 0.85294118 0.81263617]\n",
            "El intervalo de confianza es de: 0.80702618335193,0.8603670165064695\n"
          ]
        }
      ]
    },
    {
      "cell_type": "markdown",
      "source": [
        "###Modelo KNN"
      ],
      "metadata": {
        "id": "gDDMJ4C9Jpq8"
      }
    },
    {
      "cell_type": "code",
      "source": [
        "skf = StratifiedKFold(n_splits=5,shuffle=True,random_state=5)\n",
        "cv_resultados3 = cross_validate(modelo3,X_balanceada,y_balanceada,cv=skf,scoring='recall')\n",
        "print(f\"El test_score es: {cv_resultados3['test_score']}\")\n",
        "print(intervalo_confianza(cv_resultados3))"
      ],
      "metadata": {
        "id": "UzuWYsN_KId6",
        "colab": {
          "base_uri": "https://localhost:8080/"
        },
        "outputId": "bad73fe8-0048-4d24-a910-60612204afd8"
      },
      "execution_count": 180,
      "outputs": [
        {
          "output_type": "stream",
          "name": "stdout",
          "text": [
            "El test_score es: [0.81263617 0.83315158 0.83751363 0.81699346 0.83006536]\n",
            "El intervalo de confianza es de: 0.8068903870061369,0.8452536936965426\n"
          ]
        }
      ]
    },
    {
      "cell_type": "markdown",
      "source": [
        "###Modelo SVC (Support Vector Classifier)"
      ],
      "metadata": {
        "id": "2sHKnZb1KWKT"
      }
    },
    {
      "cell_type": "code",
      "source": [
        "skf = StratifiedKFold(n_splits=5,shuffle=True,random_state=5)\n",
        "cv_resultados4 = cross_validate(modelo4,X_balanceada,y_balanceada,cv=skf,scoring='recall')\n",
        "print(f\"El test_score es: {cv_resultados4['test_score']}\")\n",
        "print(intervalo_confianza(cv_resultados4))"
      ],
      "metadata": {
        "id": "h-dG6OpxKgAG",
        "colab": {
          "base_uri": "https://localhost:8080/"
        },
        "outputId": "0a16c96b-0df6-4e78-a734-e9c9b159868f"
      },
      "execution_count": 181,
      "outputs": [
        {
          "output_type": "stream",
          "name": "stdout",
          "text": [
            "El test_score es: [0.58932462 0.61504907 0.64013086 0.59912854 0.61328976]\n",
            "El intervalo de confianza es de: 0.5769722552999103,0.6457968862837803\n"
          ]
        }
      ]
    },
    {
      "cell_type": "markdown",
      "source": [
        "###Modelo RamdomForetClassifier"
      ],
      "metadata": {
        "id": "NzNvBdnPK5QF"
      }
    },
    {
      "cell_type": "code",
      "source": [
        "skf = StratifiedKFold(n_splits=5,shuffle=True,random_state=5)\n",
        "cv_resultados5 = cross_validate(modelo5,X_balanceada,y_balanceada,cv=skf,scoring='recall')\n",
        "print(f\"El test_score es: {cv_resultados5['test_score']}\")\n",
        "print(intervalo_confianza(cv_resultados5))"
      ],
      "metadata": {
        "id": "YbyrZU6yLA_q",
        "colab": {
          "base_uri": "https://localhost:8080/"
        },
        "outputId": "e5fdf9db-470f-4fa1-e96c-57a1e46fb055"
      },
      "execution_count": 182,
      "outputs": [
        {
          "output_type": "stream",
          "name": "stdout",
          "text": [
            "El test_score es: [0.85294118 0.86259542 0.85714286 0.85511983 0.8540305 ]\n",
            "El intervalo de confianza es de: 0.8495456275914883,0.8631862845117755\n"
          ]
        }
      ]
    },
    {
      "cell_type": "markdown",
      "source": [
        "###Estamos evaluando los modelos después de aplicar SMOTE, lo cual es ideal cuando el dataset está desbalanceado y te interesa mejorar la detección de la clase minoritaria (churn en tu caso).\n",
        "\n",
        "###Comparativa de modelos con SMOTE aplicado y validación cruzada (StratifiedKFold, métrica = recall):\n",
        "\n",
        "| Modelo      | Recall promedio | Intervalo de Confianza  |\n",
        "| ----------- | --------------- | ----------------------- |\n",
        "| **modelo1** | 0.8428          | \\[0.8044, 0.8813]       |\n",
        "| **modelo2** | 0.8351          | \\[0.8063, 0.8654]       |\n",
        "| **modelo3** | 0.8306          | \\[0.8158, 0.8455]       |\n",
        "| **modelo4** | 0.5986          | \\[0.5626, 0.6354]       |\n",
        "| **modelo5** | **0.8537**      | **\\[0.8242, 0.8825]**   |\n",
        "\n",
        "###El modelo5 valuó mejor los datos\n",
        "\n",
        "###Tiene el recall promedio más alto (0.8537).\n",
        "\n",
        "###Su intervalo de confianza es el más alto y consistente.\n",
        "\n",
        "###Aunque modelo1 tiene un intervalo superior similar, el promedio de modelo5 lo supera, y su mínimo (0.8242) sigue estando por encima del promedio de los otros modelos, incluyendo a modelo3.\n",
        "\n",
        "###También destaca que el recall es más uniforme en modelo5, lo que indica mayor estabilidad entre las folds.\n",
        "###Lectura estratégica:\n",
        "\n",
        "###Si tu objetivo es detectar la mayor cantidad posible de clientes que cancelan el servicio (recall alto), entonces modelo5 + SMOTE es actualmente tu mejor alternativa.\n",
        "\n",
        "###Pero hay que destacar que el Oversampling es el aumento artificial de muestras de la clase minorista y crea un mayor recall"
      ],
      "metadata": {
        "id": "r8-0qrKFwmnM"
      }
    },
    {
      "cell_type": "markdown",
      "source": [
        "###Pipeline para validación"
      ],
      "metadata": {
        "id": "-SL81etuL6Fe"
      }
    },
    {
      "cell_type": "code",
      "source": [
        "from imblearn.pipeline import Pipeline as imbpipeline"
      ],
      "metadata": {
        "id": "Py2clTIFNz49"
      },
      "execution_count": 183,
      "outputs": []
    },
    {
      "cell_type": "markdown",
      "source": [
        "###Modelo LogisticRegression"
      ],
      "metadata": {
        "id": "bJ4vM3ifNplb"
      }
    },
    {
      "cell_type": "code",
      "source": [
        "pipeline = imbpipeline([('over_sampling',SMOTE()),('logistic',modelo1)])\n",
        "skf = StratifiedKFold(n_splits=5,shuffle=True,random_state=5)\n",
        "cv_resultados1 = cross_validate(pipeline,X,y,cv=skf,scoring='recall')\n",
        "intervalo_confianza(cv_resultados1)"
      ],
      "metadata": {
        "id": "xDqujvD2N9b3",
        "colab": {
          "base_uri": "https://localhost:8080/",
          "height": 35
        },
        "outputId": "074b78a9-7df6-4448-f0fd-f38e070dafb0"
      },
      "execution_count": 184,
      "outputs": [
        {
          "output_type": "execute_result",
          "data": {
            "text/plain": [
              "'El intervalo de confianza es de: 0.6145166538916993,0.7330777353311644'"
            ],
            "application/vnd.google.colaboratory.intrinsic+json": {
              "type": "string"
            }
          },
          "metadata": {},
          "execution_count": 184
        }
      ]
    },
    {
      "cell_type": "markdown",
      "source": [
        "###Modelo Árbol de Decisión"
      ],
      "metadata": {
        "id": "tTSHPiL2OqOs"
      }
    },
    {
      "cell_type": "code",
      "source": [
        "pipeline = imbpipeline([('over_sampling',SMOTE()),('arbol',modelo2)])\n",
        "skf = StratifiedKFold(n_splits=5,shuffle=True,random_state=5)\n",
        "cv_resultados2 = cross_validate(pipeline,X,y,cv=skf,scoring='recall')\n",
        "intervalo_confianza(cv_resultados2)"
      ],
      "metadata": {
        "id": "fLSHor37OwkZ",
        "colab": {
          "base_uri": "https://localhost:8080/",
          "height": 35
        },
        "outputId": "9c2da467-8152-456b-9ab2-98cbdfd6e949"
      },
      "execution_count": 185,
      "outputs": [
        {
          "output_type": "execute_result",
          "data": {
            "text/plain": [
              "'El intervalo de confianza es de: 0.5645799789374557,0.7024160332046787'"
            ],
            "application/vnd.google.colaboratory.intrinsic+json": {
              "type": "string"
            }
          },
          "metadata": {},
          "execution_count": 185
        }
      ]
    },
    {
      "cell_type": "markdown",
      "source": [
        "###Modelo KNN"
      ],
      "metadata": {
        "id": "6t3EqCsiPSi6"
      }
    },
    {
      "cell_type": "code",
      "source": [
        "pipeline = imbpipeline([('over_sampling',SMOTE()),('knn',modelo3)])\n",
        "skf = StratifiedKFold(n_splits=5,shuffle=True,random_state=5)\n",
        "cv_resultados3 = cross_validate(pipeline,X,y,cv=skf,scoring='recall')\n",
        "intervalo_confianza(cv_resultados3)"
      ],
      "metadata": {
        "id": "1pTHeearPW5x",
        "colab": {
          "base_uri": "https://localhost:8080/",
          "height": 35
        },
        "outputId": "63d9a68b-0cb1-440a-d3f1-60ff48a687b3"
      },
      "execution_count": 186,
      "outputs": [
        {
          "output_type": "execute_result",
          "data": {
            "text/plain": [
              "'El intervalo de confianza es de: 0.5911453371838699,0.6897188970878997'"
            ],
            "application/vnd.google.colaboratory.intrinsic+json": {
              "type": "string"
            }
          },
          "metadata": {},
          "execution_count": 186
        }
      ]
    },
    {
      "cell_type": "markdown",
      "source": [
        "###Modelo SVC (Support Vector Classifier)"
      ],
      "metadata": {
        "id": "9RUTyfq2PtC8"
      }
    },
    {
      "cell_type": "code",
      "source": [
        "pipeline = imbpipeline([('over_sampling',SMOTE()),('supportvector',modelo4)])\n",
        "skf = StratifiedKFold(n_splits=5,shuffle=True,random_state=5)\n",
        "cv_resultados4 = cross_validate(pipeline,X,y,cv=skf,scoring='recall')\n",
        "intervalo_confianza(cv_resultados4)"
      ],
      "metadata": {
        "id": "qOCBvZi1PxP7",
        "colab": {
          "base_uri": "https://localhost:8080/",
          "height": 35
        },
        "outputId": "aa1a363c-9274-4fc0-c683-7156e3acbf22"
      },
      "execution_count": 187,
      "outputs": [
        {
          "output_type": "execute_result",
          "data": {
            "text/plain": [
              "'El intervalo de confianza es de: 0.4940706762643787,0.7012192866346549'"
            ],
            "application/vnd.google.colaboratory.intrinsic+json": {
              "type": "string"
            }
          },
          "metadata": {},
          "execution_count": 187
        }
      ]
    },
    {
      "cell_type": "markdown",
      "source": [
        "###Modelo RamdomForetClassifier"
      ],
      "metadata": {
        "id": "KHG8r5jeQH1Q"
      }
    },
    {
      "cell_type": "code",
      "source": [
        "pipeline = imbpipeline([('over_sampling',SMOTE()),('ramdomforet',modelo5)])\n",
        "skf = StratifiedKFold(n_splits=5,shuffle=True,random_state=5)\n",
        "cv_resultados5 = cross_validate(pipeline,X,y,cv=skf,scoring='recall')\n",
        "intervalo_confianza(cv_resultados5)"
      ],
      "metadata": {
        "id": "Nh1ck_4NQLx4",
        "colab": {
          "base_uri": "https://localhost:8080/",
          "height": 35
        },
        "outputId": "a80e5f2e-5ed0-4704-b73a-134c248ebf4f"
      },
      "execution_count": 188,
      "outputs": [
        {
          "output_type": "execute_result",
          "data": {
            "text/plain": [
              "'El intervalo de confianza es de: 0.7411837450514814,0.8104302461791993'"
            ],
            "application/vnd.google.colaboratory.intrinsic+json": {
              "type": "string"
            }
          },
          "metadata": {},
          "execution_count": 188
        }
      ]
    },
    {
      "cell_type": "markdown",
      "source": [
        "###El recall es especialmente importante en problemas de Churn, ya que querés identificar correctamente a los clientes que sí se van a ir.\n",
        "\n",
        "| Modelo                     | Intervalo de confianza (recall) | Promedio aproximado |\n",
        "\n",
        "| -------------------------- | ------------------------------- |\n",
        "------------------- |\n",
        "\n",
        "| **LogisticRegression**     | (0.6144, 0.7924)                | = **0.703**         |\n",
        "\n",
        "| Árbol de Decisión          | (0.5443, 0.7604)                | = 0.652             |\n",
        "\n",
        "| KNN                        | (0.5812, 0.7147)                | = 0.648             |\n",
        "\n",
        "| SVC                        | (0.4914, 0.7140)                | = 0.603             |\n",
        "\n",
        "##| **RandomForestClassifier** | (0.7140, 0.8402)                | = **0.777**     |\n"
      ],
      "metadata": {
        "id": "TJlXU-3aygZi"
      }
    },
    {
      "cell_type": "markdown",
      "source": [
        "###Conclusión:\n",
        "\n",
        "###El mejor modelo según el recall es RandomForestClassifier, porque:\n",
        "\n",
        "####Tiene el mayor recall promedio estimado (≈ 0.777).\n",
        "\n",
        "####Su intervalo de confianza es el más alto de todos.\n",
        "\n",
        "####Tiene mejor estabilidad, ya que su mínimo (0.7140) es mayor que los promedios de otros modelos.\n",
        "\n",
        "####Con este modelo (RandomForestClassifier) se puede maximizar la capacidad de detectar clientes que se van a ir.\n",
        "\n"
      ],
      "metadata": {
        "id": "q1Mi5Rfvz40u"
      }
    },
    {
      "cell_type": "markdown",
      "source": [
        "###Undersampling"
      ],
      "metadata": {
        "id": "_cjyILfuRHbc"
      }
    },
    {
      "cell_type": "code",
      "source": [
        "from imblearn.under_sampling import NearMiss"
      ],
      "metadata": {
        "id": "K8-jLkDtRTh6"
      },
      "execution_count": 189,
      "outputs": []
    },
    {
      "cell_type": "markdown",
      "source": [
        "###Modelo LogisticRegression"
      ],
      "metadata": {
        "id": "UJJRWOaaRlnP"
      }
    },
    {
      "cell_type": "code",
      "source": [
        "pipeline = imbpipeline([('undersample',NearMiss(version = 3)),('logistic',modelo1)])\n",
        "skf = StratifiedKFold(n_splits=5,shuffle=True,random_state=5)\n",
        "cv_resultados1 = cross_validate(pipeline,X,y,cv=skf,scoring='recall')\n",
        "intervalo_confianza(cv_resultados1)"
      ],
      "metadata": {
        "id": "oQ0iVRpWRu7j",
        "colab": {
          "base_uri": "https://localhost:8080/",
          "height": 35
        },
        "outputId": "0bcc3f54-db54-4541-d44c-54ac95b63860"
      },
      "execution_count": 190,
      "outputs": [
        {
          "output_type": "execute_result",
          "data": {
            "text/plain": [
              "'El intervalo de confianza es de: 0.6941707650827657,0.7982959531681321'"
            ],
            "application/vnd.google.colaboratory.intrinsic+json": {
              "type": "string"
            }
          },
          "metadata": {},
          "execution_count": 190
        }
      ]
    },
    {
      "cell_type": "markdown",
      "source": [
        "###Modelo Árbol de Decisión"
      ],
      "metadata": {
        "id": "yCdvb83hSz7B"
      }
    },
    {
      "cell_type": "code",
      "source": [
        "pipeline = imbpipeline([('undersample',NearMiss(version = 3)),('arbol',modelo2)])\n",
        "skf = StratifiedKFold(n_splits=5,shuffle=True,random_state=5)\n",
        "cv_resultados2 = cross_validate(pipeline,X,y,cv=skf,scoring='recall')\n",
        "intervalo_confianza(cv_resultados2)"
      ],
      "metadata": {
        "id": "tKU0SZSvNAup",
        "colab": {
          "base_uri": "https://localhost:8080/",
          "height": 35
        },
        "outputId": "1afc63cc-98e8-445c-f288-e50e68e54d02"
      },
      "execution_count": 191,
      "outputs": [
        {
          "output_type": "execute_result",
          "data": {
            "text/plain": [
              "'El intervalo de confianza es de: 0.5854878481300467,0.7193432135131093'"
            ],
            "application/vnd.google.colaboratory.intrinsic+json": {
              "type": "string"
            }
          },
          "metadata": {},
          "execution_count": 191
        }
      ]
    },
    {
      "cell_type": "markdown",
      "source": [
        "###Modelo KNN"
      ],
      "metadata": {
        "id": "FM7jWt54TK7w"
      }
    },
    {
      "cell_type": "code",
      "source": [
        "pipeline = imbpipeline([('undersample',NearMiss(version = 3)),('knn',modelo3)])\n",
        "skf = StratifiedKFold(n_splits=5,shuffle=True,random_state=5)\n",
        "cv_resultados3 = cross_validate(pipeline,X,y,cv=skf,scoring='recall')\n",
        "intervalo_confianza(cv_resultados3)"
      ],
      "metadata": {
        "id": "L0fSy407TWhM",
        "colab": {
          "base_uri": "https://localhost:8080/",
          "height": 35
        },
        "outputId": "99aaa272-87d3-4fca-d03c-36cb95137069"
      },
      "execution_count": 192,
      "outputs": [
        {
          "output_type": "execute_result",
          "data": {
            "text/plain": [
              "'El intervalo de confianza es de: 0.4513162702145991,0.6268139998090106'"
            ],
            "application/vnd.google.colaboratory.intrinsic+json": {
              "type": "string"
            }
          },
          "metadata": {},
          "execution_count": 192
        }
      ]
    },
    {
      "cell_type": "markdown",
      "source": [
        "###Modelo SVC (Support Vector Classifier)"
      ],
      "metadata": {
        "id": "PSM3VuBlTph_"
      }
    },
    {
      "cell_type": "code",
      "source": [
        "pipeline = imbpipeline([('undersample',NearMiss(version = 3)),('supportvector',modelo4)])\n",
        "skf = StratifiedKFold(n_splits=5,shuffle=True,random_state=5)\n",
        "cv_resultados4 = cross_validate(pipeline,X,y,cv=skf,scoring='recall')\n",
        "intervalo_confianza(cv_resultados4)"
      ],
      "metadata": {
        "id": "p4-Vrl58Ttyz",
        "colab": {
          "base_uri": "https://localhost:8080/",
          "height": 35
        },
        "outputId": "c43f8109-f7c7-4cc2-a5a7-86fa8d7f56aa"
      },
      "execution_count": 193,
      "outputs": [
        {
          "output_type": "execute_result",
          "data": {
            "text/plain": [
              "'El intervalo de confianza es de: 0.41815287140305085,0.6222375815461783'"
            ],
            "application/vnd.google.colaboratory.intrinsic+json": {
              "type": "string"
            }
          },
          "metadata": {},
          "execution_count": 193
        }
      ]
    },
    {
      "cell_type": "markdown",
      "source": [
        "###Modelo RamdomForetClassifier"
      ],
      "metadata": {
        "id": "V-Vuq1U4UG9D"
      }
    },
    {
      "cell_type": "code",
      "source": [
        "pipeline = imbpipeline([('undersample',NearMiss(version = 3)),('ramdomforet',modelo5)])\n",
        "skf = StratifiedKFold(n_splits=5,shuffle=True,random_state=5)\n",
        "cv_resultados5 = cross_validate(pipeline,X,y,cv=skf,scoring='recall')\n",
        "intervalo_confianza(cv_resultados5)"
      ],
      "metadata": {
        "id": "HctIj9EGUMwy",
        "colab": {
          "base_uri": "https://localhost:8080/",
          "height": 35
        },
        "outputId": "c5b7d030-485e-49ac-a52c-e8f95f5091a8"
      },
      "execution_count": 194,
      "outputs": [
        {
          "output_type": "execute_result",
          "data": {
            "text/plain": [
              "'El intervalo de confianza es de: 0.5540847813418028,0.7570236844241238'"
            ],
            "application/vnd.google.colaboratory.intrinsic+json": {
              "type": "string"
            }
          },
          "metadata": {},
          "execution_count": 194
        }
      ]
    },
    {
      "cell_type": "markdown",
      "source": [
        "###Probando los modelo"
      ],
      "metadata": {
        "id": "IlOuU06mVY6I"
      }
    },
    {
      "cell_type": "code",
      "source": [
        "undersample = NearMiss(version=3)\n",
        "x_balanceada, y_balanceada = undersample.fit_resample(X,y)"
      ],
      "metadata": {
        "id": "4AC6cK7AVe_o"
      },
      "execution_count": 195,
      "outputs": []
    },
    {
      "cell_type": "markdown",
      "source": [
        "###Modelo LogisticRegression"
      ],
      "metadata": {
        "id": "pgiARHNTVp7s"
      }
    },
    {
      "cell_type": "code",
      "source": [
        "modelo1.fit(x_balanceada,y_balanceada)\n",
        "y_previsto = modelo1.predict(X_test)\n",
        "print(classification_report(y_test,y_previsto))\n",
        "ConfusionMatrixDisplay.from_predictions(y_test,y_previsto);"
      ],
      "metadata": {
        "id": "a6-KYiq-V2gI",
        "colab": {
          "base_uri": "https://localhost:8080/",
          "height": 666
        },
        "outputId": "d0e4158f-c96e-48e1-8361-459cb2397dfa"
      },
      "execution_count": 196,
      "outputs": [
        {
          "output_type": "stream",
          "name": "stdout",
          "text": [
            "              precision    recall  f1-score   support\n",
            "\n",
            "           0       0.89      0.72      0.80       810\n",
            "           1       0.48      0.73      0.58       281\n",
            "\n",
            "    accuracy                           0.73      1091\n",
            "   macro avg       0.68      0.73      0.69      1091\n",
            "weighted avg       0.78      0.73      0.74      1091\n",
            "\n"
          ]
        },
        {
          "output_type": "display_data",
          "data": {
            "text/plain": [
              "<Figure size 800x550 with 2 Axes>"
            ],
            "image/png": "[encoded data removed]"
          },
          "metadata": {}
        }
      ]
    },
    {
      "cell_type": "markdown",
      "source": [
        "###Modelo RamdomForetClassifier"
      ],
      "metadata": {
        "id": "4igGEBKrdbVj"
      }
    },
    {
      "cell_type": "code",
      "source": [
        "modelo5.fit(x_balanceada,y_balanceada)\n",
        "y_previsto = modelo5.predict(X_test)\n",
        "print(classification_report(y_test,y_previsto))\n",
        "ConfusionMatrixDisplay.from_predictions(y_test,y_previsto);"
      ],
      "metadata": {
        "id": "_Hv1g7R9dgOF",
        "colab": {
          "base_uri": "https://localhost:8080/",
          "height": 666
        },
        "outputId": "87935c73-4d1f-4f60-871f-3487e8bda994"
      },
      "execution_count": 197,
      "outputs": [
        {
          "output_type": "stream",
          "name": "stdout",
          "text": [
            "              precision    recall  f1-score   support\n",
            "\n",
            "           0       0.85      0.80      0.82       810\n",
            "           1       0.51      0.60      0.55       281\n",
            "\n",
            "    accuracy                           0.75      1091\n",
            "   macro avg       0.68      0.70      0.69      1091\n",
            "weighted avg       0.76      0.75      0.75      1091\n",
            "\n"
          ]
        },
        {
          "output_type": "display_data",
          "data": {
            "text/plain": [
              "<Figure size 800x550 with 2 Axes>"
            ],
            "image/png": "[encoded data removed]"
          },
          "metadata": {}
        }
      ]
    },
    {
      "cell_type": "markdown",
      "source": [
        "###En esta evalucación de los cinco modelos los reportes de clasificación tras aplicar undersampling con NearMiss v3 y evaluar cada modelo sobre el conjunto de prueba (X_test, y_test) son:\n"
      ],
      "metadata": {
        "id": "gcHAXix91yFI"
      }
    },
    {
      "cell_type": "code",
      "source": [
        "import pandas as pd\n",
        "import matplotlib.pyplot as plt\n",
        "\n",
        "# Crear la tabla de resultados\n",
        "data = {\n",
        "    'Modelo': ['Modelo 1', 'Modelo 2', 'Modelo 3', 'Modelo 4', 'Modelo 5'],\n",
        "    'Precision (Churn=1)': [0.48, 0.40, 0.44, 0.38, 0.51],\n",
        "    'Recall (Churn=1)':    [0.73, 0.64, 0.51, 0.51, 0.60],\n",
        "    'F1-Score (Churn=1)':  [0.58, 0.49, 0.47, 0.43, 0.55],\n",
        "    'Accuracy':            [0.73, 0.66, 0.70, 0.66, 0.75]\n",
        "}\n",
        "\n",
        "df = pd.DataFrame(data)\n",
        "\n",
        "# Mostrar tabla con tamaño de fuente grande\n",
        "fig, ax = plt.subplots(figsize=(12, 3))\n",
        "ax.axis('off')\n",
        "tabla = ax.table(cellText=df.values,\n",
        "                 colLabels=df.columns,\n",
        "                 cellLoc='center',\n",
        "                 loc='center')\n",
        "\n",
        "tabla.auto_set_font_size(False)\n",
        "tabla.set_fontsize(14)\n",
        "tabla.scale(2, 2)  # ancho x alto de las celdas\n",
        "\n",
        "plt.title(\"Comparativa de Modelos con Undersampling (NearMiss v3)\", fontsize=18, weight='bold')\n",
        "plt.show()\n"
      ],
      "metadata": {
        "colab": {
          "base_uri": "https://localhost:8080/",
          "height": 259
        },
        "id": "X1fkVNLZGD3n",
        "outputId": "d085b4bb-9e64-4afe-93d0-b8f85c78b9e7"
      },
      "execution_count": 198,
      "outputs": [
        {
          "output_type": "display_data",
          "data": {
            "text/plain": [
              "<Figure size 1200x300 with 1 Axes>"
            ],
            "image/png": "[encoded data removed]"
          },
          "metadata": {}
        }
      ]
    },
    {
      "cell_type": "markdown",
      "source": [
        "###Tras aplicar técnicas de undersampling (NearMiss versión 3) para corregir el desbalance de clases en los datos de clientes, se evaluaron cinco modelos de Machine Learning con el objetivo de predecir la cancelación de servicios (Churn).\n",
        "\n",
        "###Hallazgos clave:\n",
        "\n",
        "###Modelo 1 se destacó por su recall (0.73), logrando detectar la mayor cantidad de clientes en riesgo de cancelar el servicio. Es una opción agresiva, adecuada cuando el costo de no detectar a un churner es alto.\n",
        "\n",
        "###Modelo 5 obtuvo la mejor precisión (0.51) y la mayor exactitud general (0.75). Es una opción más conservadora y precisa, ideal para campañas donde se desea minimizar falsas alarmas hacia clientes fieles."
      ],
      "metadata": {
        "id": "1Kkg-HuwXn9d"
      }
    },
    {
      "cell_type": "markdown",
      "source": [
        "###Optimización hiperparámetros"
      ],
      "metadata": {
        "id": "0sGrdtnZ9ANm"
      }
    },
    {
      "cell_type": "code",
      "source": [
        "TelecomX2.columns\n"
      ],
      "metadata": {
        "colab": {
          "base_uri": "https://localhost:8080/"
        },
        "id": "oHCoKHxaAlIg",
        "outputId": "657d3ff5-dcf4-406b-beee-4aedc2cca17e"
      },
      "execution_count": 199,
      "outputs": [
        {
          "output_type": "execute_result",
          "data": {
            "text/plain": [
              "Index(['Churn', 'gender', 'SeniorCitizen', 'Partner', 'Dependents', 'tenure',\n",
              "       'PhoneService', 'MultipleLines', 'InternetService', 'OnlineSecurity',\n",
              "       'OnlineBackup', 'DeviceProtection', 'TechSupport', 'StreamingTV',\n",
              "       'StreamingMovies', 'Contract', 'PaperlessBilling', 'PaymentMethod',\n",
              "       'Charges.Monthly', 'Charges.Total'],\n",
              "      dtype='object')"
            ]
          },
          "metadata": {},
          "execution_count": 199
        }
      ]
    },
    {
      "cell_type": "code",
      "source": [
        "len(TelecomX2.columns)"
      ],
      "metadata": {
        "colab": {
          "base_uri": "https://localhost:8080/"
        },
        "id": "ajWUGwzIBDbF",
        "outputId": "4112def1-80f4-48a7-8672-fadb68750f7a"
      },
      "execution_count": 200,
      "outputs": [
        {
          "output_type": "execute_result",
          "data": {
            "text/plain": [
              "20"
            ]
          },
          "metadata": {},
          "execution_count": 200
        }
      ]
    },
    {
      "cell_type": "code",
      "source": [
        "import numpy as np\n",
        "import pandas as pd\n",
        "\n",
        "# Obtener los coeficientes\n",
        "coefs = modelo1.coef_[0]\n",
        "variables = X.columns  # Asumiendo que X es un DataFrame\n",
        "\n",
        "# Crear DataFrame con resultados\n",
        "tabla_coef = pd.DataFrame({\n",
        "    'Variable': variables,\n",
        "    'Coeficiente': coefs,\n",
        "    'Odds Ratio': np.exp(coefs),\n",
        "    'Importancia absoluta': np.abs(coefs)\n",
        "}).sort_values(by='Importancia absoluta', ascending=False)\n",
        "\n",
        "# Mostrar top 10\n",
        "tabla_coef.head(10)\n"
      ],
      "metadata": {
        "colab": {
          "base_uri": "https://localhost:8080/",
          "height": 364
        },
        "id": "VszzklI7_dDV",
        "outputId": "66783630-0ea6-4302-e92c-7b0278c3acd1"
      },
      "execution_count": 201,
      "outputs": [
        {
          "output_type": "execute_result",
          "data": {
            "text/plain": [
              "            Variable  Coeficiente  Odds Ratio  Importancia absoluta\n",
              "11       TechSupport    -0.637222    0.528759              0.637222\n",
              "8     OnlineSecurity    -0.597334    0.550277              0.597334\n",
              "15  PaperlessBilling     0.512584    1.669599              0.512584\n",
              "14          Contract    -0.333152    0.716661              0.333152\n",
              "1      SeniorCitizen     0.291572    1.338530              0.291572\n",
              "9       OnlineBackup    -0.290337    0.748011              0.290337\n",
              "7    InternetService     0.275618    1.317344              0.275618\n",
              "3         Dependents    -0.208667    0.811666              0.208667\n",
              "16     PaymentMethod    -0.153130    0.858018              0.153130\n",
              "5       PhoneService    -0.088763    0.915062              0.088763"
            ],
            "text/html": [
              "\n",
              "  <div id=\"df-118dee5b-e6c5-4901-ba52-63728d3b0a62\" class=\"colab-df-container\">\n",
              "    <div>\n",
              "<style scoped>\n",
              "    .dataframe tbody tr th:only-of-type {\n",
              "        vertical-align: middle;\n",
              "    }\n",
              "\n",
              "    .dataframe tbody tr th {\n",
              "        vertical-align: top;\n",
              "    }\n",
              "\n",
              "    .dataframe thead th {\n",
              "        text-align: right;\n",
              "    }\n",
              "</style>\n",
              "<table border=\"1\" class=\"dataframe\">\n",
              "  <thead>\n",
              "    <tr style=\"text-align: right;\">\n",
              "      <th></th>\n",
              "      <th>Variable</th>\n",
              "      <th>Coeficiente</th>\n",
              "      <th>Odds Ratio</th>\n",
              "      <th>Importancia absoluta</th>\n",
              "    </tr>\n",
              "  </thead>\n",
              "  <tbody>\n",
              "    <tr>\n",
              "      <th>11</th>\n",
              "      <td>TechSupport</td>\n",
              "      <td>-0.637222</td>\n",
              "      <td>0.528759</td>\n",
              "      <td>0.637222</td>\n",
              "    </tr>\n",
              "    <tr>\n",
              "      <th>8</th>\n",
              "      <td>OnlineSecurity</td>\n",
              "      <td>-0.597334</td>\n",
              "      <td>0.550277</td>\n",
              "      <td>0.597334</td>\n",
              "    </tr>\n",
              "    <tr>\n",
              "      <th>15</th>\n",
              "      <td>PaperlessBilling</td>\n",
              "      <td>0.512584</td>\n",
              "      <td>1.669599</td>\n",
              "      <td>0.512584</td>\n",
              "    </tr>\n",
              "    <tr>\n",
              "      <th>14</th>\n",
              "      <td>Contract</td>\n",
              "      <td>-0.333152</td>\n",
              "      <td>0.716661</td>\n",
              "      <td>0.333152</td>\n",
              "    </tr>\n",
              "    <tr>\n",
              "      <th>1</th>\n",
              "      <td>SeniorCitizen</td>\n",
              "      <td>0.291572</td>\n",
              "      <td>1.338530</td>\n",
              "      <td>0.291572</td>\n",
              "    </tr>\n",
              "    <tr>\n",
              "      <th>9</th>\n",
              "      <td>OnlineBackup</td>\n",
              "      <td>-0.290337</td>\n",
              "      <td>0.748011</td>\n",
              "      <td>0.290337</td>\n",
              "    </tr>\n",
              "    <tr>\n",
              "      <th>7</th>\n",
              "      <td>InternetService</td>\n",
              "      <td>0.275618</td>\n",
              "      <td>1.317344</td>\n",
              "      <td>0.275618</td>\n",
              "    </tr>\n",
              "    <tr>\n",
              "      <th>3</th>\n",
              "      <td>Dependents</td>\n",
              "      <td>-0.208667</td>\n",
              "      <td>0.811666</td>\n",
              "      <td>0.208667</td>\n",
              "    </tr>\n",
              "    <tr>\n",
              "      <th>16</th>\n",
              "      <td>PaymentMethod</td>\n",
              "      <td>-0.153130</td>\n",
              "      <td>0.858018</td>\n",
              "      <td>0.153130</td>\n",
              "    </tr>\n",
              "    <tr>\n",
              "      <th>5</th>\n",
              "      <td>PhoneService</td>\n",
              "      <td>-0.088763</td>\n",
              "      <td>0.915062</td>\n",
              "      <td>0.088763</td>\n",
              "    </tr>\n",
              "  </tbody>\n",
              "</table>\n",
              "</div>\n",
              "    <div class=\"colab-df-buttons\">\n",
              "\n",
              "  <div class=\"colab-df-container\">\n",
              "    <button class=\"colab-df-convert\" onclick=\"convertToInteractive('df-118dee5b-e6c5-4901-ba52-63728d3b0a62')\"\n",
              "            title=\"Convert this dataframe to an interactive table.\"\n",
              "            style=\"display:none;\">\n",
              "\n",
              "  <svg xmlns=\"http://www.w3.org/2000/svg\" height=\"24px\" viewBox=\"0 -960 960 960\">\n",
              "    <path d=\"M120-120v-720h720v720H120Zm60-500h600v-160H180v160Zm220 220h160v-160H400v160Zm0 220h160v-160H400v160ZM180-400h160v-160H180v160Zm440 0h160v-160H620v160ZM180-180h160v-160H180v160Zm440 0h160v-160H620v160Z\"/>\n",
              "  </svg>\n",
              "    </button>\n",
              "\n",
              "  <style>\n",
              "    .colab-df-container {\n",
              "      display:flex;\n",
              "      gap: 12px;\n",
              "    }\n",
              "\n",
              "    .colab-df-convert {\n",
              "      background-color: #E8F0FE;\n",
              "      border: none;\n",
              "      border-radius: 50%;\n",
              "      cursor: pointer;\n",
              "      display: none;\n",
              "      fill: #1967D2;\n",
              "      height: 32px;\n",
              "      padding: 0 0 0 0;\n",
              "      width: 32px;\n",
              "    }\n",
              "\n",
              "    .colab-df-convert:hover {\n",
              "      background-color: #E2EBFA;\n",
              "      box-shadow: 0px 1px 2px rgba(60, 64, 67, 0.3), 0px 1px 3px 1px rgba(60, 64, 67, 0.15);\n",
              "      fill: #174EA6;\n",
              "    }\n",
              "\n",
              "    .colab-df-buttons div {\n",
              "      margin-bottom: 4px;\n",
              "    }\n",
              "\n",
              "    [theme=dark] .colab-df-convert {\n",
              "      background-color: #3B4455;\n",
              "      fill: #D2E3FC;\n",
              "    }\n",
              "\n",
              "    [theme=dark] .colab-df-convert:hover {\n",
              "      background-color: #434B5C;\n",
              "      box-shadow: 0px 1px 3px 1px rgba(0, 0, 0, 0.15);\n",
              "      filter: drop-shadow(0px 1px 2px rgba(0, 0, 0, 0.3));\n",
              "      fill: #FFFFFF;\n",
              "    }\n",
              "  </style>\n",
              "\n",
              "    <script>\n",
              "      const buttonEl =\n",
              "        document.querySelector('#df-118dee5b-e6c5-4901-ba52-63728d3b0a62 button.colab-df-convert');\n",
              "      buttonEl.style.display =\n",
              "        google.colab.kernel.accessAllowed ? 'block' : 'none';\n",
              "\n",
              "      async function convertToInteractive(key) {\n",
              "        const element = document.querySelector('#df-118dee5b-e6c5-4901-ba52-63728d3b0a62');\n",
              "        const dataTable =\n",
              "          await google.colab.kernel.invokeFunction('convertToInteractive',\n",
              "                                                    [key], {});\n",
              "        if (!dataTable) return;\n",
              "\n",
              "        const docLinkHtml = 'Like what you see? Visit the ' +\n",
              "          '<a target=\"_blank\" href=https://colab.research.google.com/notebooks/data_table.ipynb>data table notebook</a>'\n",
              "          + ' to learn more about interactive tables.';\n",
              "        element.innerHTML = '';\n",
              "        dataTable['output_type'] = 'display_data';\n",
              "        await google.colab.output.renderOutput(dataTable, element);\n",
              "        const docLink = document.createElement('div');\n",
              "        docLink.innerHTML = docLinkHtml;\n",
              "        element.appendChild(docLink);\n",
              "      }\n",
              "    </script>\n",
              "  </div>\n",
              "\n",
              "\n",
              "    <div id=\"df-20213a5a-6bc4-403c-a503-6f0dd5146f93\">\n",
              "      <button class=\"colab-df-quickchart\" onclick=\"quickchart('df-20213a5a-6bc4-403c-a503-6f0dd5146f93')\"\n",
              "                title=\"Suggest charts\"\n",
              "                style=\"display:none;\">\n",
              "\n",
              "<svg xmlns=\"http://www.w3.org/2000/svg\" height=\"24px\"viewBox=\"0 0 24 24\"\n",
              "     width=\"24px\">\n",
              "    <g>\n",
              "        <path d=\"M19 3H5c-1.1 0-2 .9-2 2v14c0 1.1.9 2 2 2h14c1.1 0 2-.9 2-2V5c0-1.1-.9-2-2-2zM9 17H7v-7h2v7zm4 0h-2V7h2v10zm4 0h-2v-4h2v4z\"/>\n",
              "    </g>\n",
              "</svg>\n",
              "      </button>\n",
              "\n",
              "<style>\n",
              "  .colab-df-quickchart {\n",
              "      --bg-color: #E8F0FE;\n",
              "      --fill-color: #1967D2;\n",
              "      --hover-bg-color: #E2EBFA;\n",
              "      --hover-fill-color: #174EA6;\n",
              "      --disabled-fill-color: #AAA;\n",
              "      --disabled-bg-color: #DDD;\n",
              "  }\n",
              "\n",
              "  [theme=dark] .colab-df-quickchart {\n",
              "      --bg-color: #3B4455;\n",
              "      --fill-color: #D2E3FC;\n",
              "      --hover-bg-color: #434B5C;\n",
              "      --hover-fill-color: #FFFFFF;\n",
              "      --disabled-bg-color: #3B4455;\n",
              "      --disabled-fill-color: #666;\n",
              "  }\n",
              "\n",
              "  .colab-df-quickchart {\n",
              "    background-color: var(--bg-color);\n",
              "    border: none;\n",
              "    border-radius: 50%;\n",
              "    cursor: pointer;\n",
              "    display: none;\n",
              "    fill: var(--fill-color);\n",
              "    height: 32px;\n",
              "    padding: 0;\n",
              "    width: 32px;\n",
              "  }\n",
              "\n",
              "  .colab-df-quickchart:hover {\n",
              "    background-color: var(--hover-bg-color);\n",
              "    box-shadow: 0 1px 2px rgba(60, 64, 67, 0.3), 0 1px 3px 1px rgba(60, 64, 67, 0.15);\n",
              "    fill: var(--button-hover-fill-color);\n",
              "  }\n",
              "\n",
              "  .colab-df-quickchart-complete:disabled,\n",
              "  .colab-df-quickchart-complete:disabled:hover {\n",
              "    background-color: var(--disabled-bg-color);\n",
              "    fill: var(--disabled-fill-color);\n",
              "    box-shadow: none;\n",
              "  }\n",
              "\n",
              "  .colab-df-spinner {\n",
              "    border: 2px solid var(--fill-color);\n",
              "    border-color: transparent;\n",
              "    border-bottom-color: var(--fill-color);\n",
              "    animation:\n",
              "      spin 1s steps(1) infinite;\n",
              "  }\n",
              "\n",
              "  @keyframes spin {\n",
              "    0% {\n",
              "      border-color: transparent;\n",
              "      border-bottom-color: var(--fill-color);\n",
              "      border-left-color: var(--fill-color);\n",
              "    }\n",
              "    20% {\n",
              "      border-color: transparent;\n",
              "      border-left-color: var(--fill-color);\n",
              "      border-top-color: var(--fill-color);\n",
              "    }\n",
              "    30% {\n",
              "      border-color: transparent;\n",
              "      border-left-color: var(--fill-color);\n",
              "      border-top-color: var(--fill-color);\n",
              "      border-right-color: var(--fill-color);\n",
              "    }\n",
              "    40% {\n",
              "      border-color: transparent;\n",
              "      border-right-color: var(--fill-color);\n",
              "      border-top-color: var(--fill-color);\n",
              "    }\n",
              "    60% {\n",
              "      border-color: transparent;\n",
              "      border-right-color: var(--fill-color);\n",
              "    }\n",
              "    80% {\n",
              "      border-color: transparent;\n",
              "      border-right-color: var(--fill-color);\n",
              "      border-bottom-color: var(--fill-color);\n",
              "    }\n",
              "    90% {\n",
              "      border-color: transparent;\n",
              "      border-bottom-color: var(--fill-color);\n",
              "    }\n",
              "  }\n",
              "</style>\n",
              "\n",
              "      <script>\n",
              "        async function quickchart(key) {\n",
              "          const quickchartButtonEl =\n",
              "            document.querySelector('#' + key + ' button');\n",
              "          quickchartButtonEl.disabled = true;  // To prevent multiple clicks.\n",
              "          quickchartButtonEl.classList.add('colab-df-spinner');\n",
              "          try {\n",
              "            const charts = await google.colab.kernel.invokeFunction(\n",
              "                'suggestCharts', [key], {});\n",
              "          } catch (error) {\n",
              "            console.error('Error during call to suggestCharts:', error);\n",
              "          }\n",
              "          quickchartButtonEl.classList.remove('colab-df-spinner');\n",
              "          quickchartButtonEl.classList.add('colab-df-quickchart-complete');\n",
              "        }\n",
              "        (() => {\n",
              "          let quickchartButtonEl =\n",
              "            document.querySelector('#df-20213a5a-6bc4-403c-a503-6f0dd5146f93 button');\n",
              "          quickchartButtonEl.style.display =\n",
              "            google.colab.kernel.accessAllowed ? 'block' : 'none';\n",
              "        })();\n",
              "      </script>\n",
              "    </div>\n",
              "\n",
              "    </div>\n",
              "  </div>\n"
            ],
            "application/vnd.google.colaboratory.intrinsic+json": {
              "type": "dataframe",
              "variable_name": "tabla_coef",
              "summary": "{\n  \"name\": \"tabla_coef\",\n  \"rows\": 19,\n  \"fields\": [\n    {\n      \"column\": \"Variable\",\n      \"properties\": {\n        \"dtype\": \"string\",\n        \"num_unique_values\": 19,\n        \"samples\": [\n          \"TechSupport\",\n          \"OnlineBackup\",\n          \"Partner\"\n        ],\n        \"semantic_type\": \"\",\n        \"description\": \"\"\n      }\n    },\n    {\n      \"column\": \"Coeficiente\",\n      \"properties\": {\n        \"dtype\": \"number\",\n        \"std\": 0.27823592348339354,\n        \"min\": -0.6372220660336514,\n        \"max\": 0.5125835964928935,\n        \"num_unique_values\": 19,\n        \"samples\": [\n          -0.6372220660336514,\n          -0.29033723046044213,\n          -0.08118936957507888\n        ],\n        \"semantic_type\": \"\",\n        \"description\": \"\"\n      }\n    },\n    {\n      \"column\": \"Odds Ratio\",\n      \"properties\": {\n        \"dtype\": \"number\",\n        \"std\": 0.26856412260969087,\n        \"min\": 0.5287592439992082,\n        \"max\": 1.6695991981114138,\n        \"num_unique_values\": 19,\n        \"samples\": [\n          0.5287592439992082,\n          0.7480112728542626,\n          0.9220190725513934\n        ],\n        \"semantic_type\": \"\",\n        \"description\": \"\"\n      }\n    },\n    {\n      \"column\": \"Importancia absoluta\",\n      \"properties\": {\n        \"dtype\": \"number\",\n        \"std\": 0.2038876753552629,\n        \"min\": 0.0004021630351608168,\n        \"max\": 0.6372220660336514,\n        \"num_unique_values\": 19,\n        \"samples\": [\n          0.6372220660336514,\n          0.29033723046044213,\n          0.08118936957507888\n        ],\n        \"semantic_type\": \"\",\n        \"description\": \"\"\n      }\n    }\n  ]\n}"
            }
          },
          "metadata": {},
          "execution_count": 201
        }
      ]
    },
    {
      "cell_type": "code",
      "source": [
        "from sklearn.linear_model import LogisticRegression\n",
        "from sklearn.model_selection import GridSearchCV, StratifiedKFold\n",
        "from imblearn.pipeline import Pipeline as imbpipeline\n",
        "from imblearn.under_sampling import NearMiss\n",
        "\n",
        "# Modelo base\n",
        "modelo1 = LogisticRegression(solver='liblinear',random_state=42)\n",
        "\n",
        "# Pipeline con NearMiss y modelo\n",
        "pipeline = imbpipeline([\n",
        "    ('undersample', NearMiss(version=3)),\n",
        "    ('logistic', modelo1)\n",
        "])\n",
        "\n",
        "# Grid de hiperparámetros\n",
        "param_grid = {\n",
        "    'logistic__C': [0.01, 0.1, 1, 10, 100],\n",
        "    'logistic__penalty': ['l1', 'l2']\n",
        "}\n",
        "\n",
        "# Validación cruzada\n",
        "cv = StratifiedKFold(n_splits=5, shuffle=True, random_state=5)\n",
        "\n",
        "# GridSearchCV optimizando recall\n",
        "grid = GridSearchCV(pipeline, param_grid=param_grid, cv=cv, scoring='recall', n_jobs=-1)\n",
        "grid.fit(X, y)\n",
        "\n",
        "# Resultados\n",
        "print(\"Mejores hiperparámetros:\", grid.best_params_)\n",
        "print(\"Mejor recall promedio:\", grid.best_score_)\n",
        "\n",
        "# Guardar modelo optimizado\n",
        "import joblib\n",
        "joblib.dump(grid.best_estimator_, 'champion.pkl')\n"
      ],
      "metadata": {
        "colab": {
          "base_uri": "https://localhost:8080/"
        },
        "id": "a5qLItZJjSO9",
        "outputId": "a10e408c-9e28-47e8-a0e4-67530b4dbb76"
      },
      "execution_count": 202,
      "outputs": [
        {
          "output_type": "stream",
          "name": "stdout",
          "text": [
            "Mejores hiperparámetros: {'logistic__C': 100, 'logistic__penalty': 'l1'}\n",
            "Mejor recall promedio: 0.7512747257107713\n"
          ]
        },
        {
          "output_type": "execute_result",
          "data": {
            "text/plain": [
              "['champion.pkl']"
            ]
          },
          "metadata": {},
          "execution_count": 202
        }
      ]
    },
    {
      "cell_type": "code",
      "source": [],
      "metadata": {
        "id": "UCVDX0x1WtjL"
      },
      "execution_count": 202,
      "outputs": []
    },
    {
      "cell_type": "markdown",
      "source": [
        "###Conclusión\n",
        "\n",
        "###Luego de aplicar técnicas de Optimización de hiperparámetros el recall del Modelo 1 tuvo una mejora de 0,75 logrando detectar la mayor cantidad de clientes en riesgo de cancelar el servicio.En consecuencia el Modelo 1 (Regresión logística (LogisticRegression)), es el que optimiza mejor la sensibilidad del sistema.\n"
      ],
      "metadata": {
        "id": "5HT5tZ_sWl-0"
      }
    },
    {
      "cell_type": "markdown",
      "source": [
        "###Insights Finales Basados en la Correlación con Churn\n",
        "\n",
        "###Factores que Aumentan la Probabilidad de Cancelación\n",
        "1. **Altos Cargos Mensuales (`Charges.Monthly`, +0.19):**  \n",
        "   Clientes con facturas mensuales más altas tienden a cancelar más, posiblemente por una percepción de bajo valor en relación al costo.\n",
        "\n",
        "2. **Facturación Electrónica (`PaperlessBilling`, +0.19):**  \n",
        "   Los usuarios que reciben facturación digital presentan mayor churn. Esto puede estar vinculado a perfiles más jóvenes y digitales, propensos a cambiar de proveedor.\n",
        "\n",
        "3. **Adultos Mayores (`SeniorCitizen`, +0.15):**  \n",
        "   Ligeramente más propensos a cancelar, probablemente por ingresos fijos o menor afinidad con servicios tecnológicos.\n",
        "\n",
        "4. **Servicios de Streaming (`StreamingTV` / `StreamingMovies`, +0.06):**  \n",
        "   Tener estos servicios no garantiza permanencia. Puede reflejar usuarios exigentes o acostumbrados a comparar.\n",
        "\n",
        "5. **Múltiples Líneas (`MultipleLines`, +0.04):**  \n",
        "   No se asocia fuertemente con retención. Tal vez sea un servicio fácilmente reemplazable por promociones de la competencia.\n",
        "\n",
        "---\n",
        "\n",
        "###Factores que Disminuyen la Probabilidad de Cancelación\n",
        "1. **Antigüedad del Cliente (`tenure`, –0.34):**  \n",
        "   A mayor tiempo con la empresa, menor es la probabilidad de baja. Es fundamental trabajar la retención en los primeros meses.\n",
        "\n",
        "2. **Tipo de Contrato (`Contract`, –0.33):**  \n",
        "   Contratos a plazo fijo (anual, bianual) reducen significativamente el churn. Indican compromiso y fidelidad.\n",
        "\n",
        "3. **Tipo de Internet (`InternetService`, –0.31):**  \n",
        "   Servicios con mejor calidad (como fibra óptica) están asociados con menor churn. La calidad del servicio es clave.\n",
        "\n",
        "4. **Método de Pago (`PaymentMethod`, –0.26):**  \n",
        "   Métodos como débito automático muestran menor tasa de cancelación. Indican estabilidad financiera o menor fricción.\n",
        "\n",
        "5. **Gasto Total (`Charges.Total`, –0.19):**  \n",
        "   Quienes ya invirtieron más en la empresa tienden a quedarse. Esto puede deberse al “efecto inversión” o “costos hundidos”.\n",
        "\n",
        "6. **Servicios de Valor Agregado (`OnlineSecurity`, `TechSupport`, –0.16):**  \n",
        "   Mejoran la percepción de calidad y satisfacción, favoreciendo la retención.\n",
        "\n",
        "7. **Vínculos Personales (`Partner`, `Dependents`, –0.15):**  \n",
        "   Clientes con familia o pareja tienen menor churn, posiblemente por mayor estabilidad o decisiones compartidas.\n",
        "\n",
        "---\n",
        "\n",
        "##Recomendaciones Estratégicas\n",
        "- **Fidelizar a nuevos clientes durante los primeros meses**, con beneficios personalizados o atención diferencial.\n",
        "- **Promover contratos a largo plazo** con descuentos, promociones exclusivas o mejoras en el servicio.\n",
        "- **Fomentar métodos de pago automáticos**, ofreciendo incentivos para reducir cancelaciones por olvido o problemas administrativos.\n",
        "- **Detectar clientes con altos cargos mensuales** y ofrecerles mejoras o bonificaciones personalizadas.\n",
        "- **Ofrecer servicios de valor agregado**, como seguridad en línea o soporte técnico premium, como herramientas de fidelización.\n",
        "- **Segmentar campañas de retención** según tipo de cliente (edad, perfil digital, estado civil, presencia de dependientes).\n",
        "\n"
      ],
      "metadata": {
        "id": "R2a3vNG4Efbj"
      }
    },
    {
      "cell_type": "code",
      "source": [],
      "metadata": {
        "id": "fWANj8olEwN2"
      },
      "execution_count": 202,
      "outputs": []
    }
  ]
}